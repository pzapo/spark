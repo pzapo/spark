{
 "cells": [
  {
   "cell_type": "code",
   "execution_count": 1,
   "metadata": {},
   "outputs": [],
   "source": [
    "# Spark libs\n",
    "import findspark\n",
    "findspark.init()\n",
    "\n",
    "import pyspark\n",
    "from pyspark.sql import SparkSession\n",
    "from pyspark import SparkConf\n",
    "from pyspark.sql.window import Window\n",
    "import pyspark.sql.functions as func\n",
    "from pyspark.sql import functions as F\n",
    "from pyspark.sql.functions import col\n",
    "from pyspark import SQLContext\n",
    "\n",
    "# Others\n",
    "import pandas as pd\n",
    "import numpy as np\n",
    "from pandas_datareader import data, wb\n",
    "import datetime\n",
    "\n",
    "# Graphs libs\n",
    "import matplotlib.pyplot as plt\n",
    "import matplotlib.pyplot as plt_dt"
   ]
  },
  {
   "cell_type": "code",
   "execution_count": 2,
   "metadata": {
    "hideCode": false,
    "hidePrompt": false
   },
   "outputs": [],
   "source": [
    "OBV_i = False\n",
    "CCI_i = False\n",
    "RSI_i = False\n",
    "MACD_i = False\n",
    "ManualSplit = False\n",
    "Date_Convert = False\n",
    "\n",
    "DEBUG  = False"
   ]
  },
  {
   "cell_type": "code",
   "execution_count": 3,
   "metadata": {
    "hideCode": false,
    "hideOutput": false,
    "hidePrompt": false
   },
   "outputs": [],
   "source": [
    "def RSI(dataframe, window_length, avg_type, column='Close'):\n",
    "    data = dataframe.toPandas()\n",
    "    # Get just the close\n",
    "    close = data['Close']\n",
    "    # Get the difference in price from previous step\n",
    "    delta = close.diff()\n",
    "    # Get rid of the first row, which is NaN since it did not have a previous\n",
    "    # row to calculate the differences\n",
    "    # Make the positive gains (up) and negative gains (down) Series\n",
    "    up, down = delta.copy(), delta.copy()\n",
    "    up[up < 0] = 0\n",
    "    down[down > 0] = 0\n",
    "    if avg_type == \"EWMA\":\n",
    "        roll_up = up.ewm(span=window_length, min_periods=window_length).mean()\n",
    "        roll_down = down.abs().ewm(\n",
    "            span=window_length, min_periods=window_length).mean()\n",
    "    elif avg_type == \"SMA\":\n",
    "        roll_up = pd.rolling_mean(up, window_length)\n",
    "        roll_down = pd.rolling_mean(down.abs(), window_length)\n",
    "    RS = roll_up / roll_down\n",
    "    RSI = 100.0 - (100.0 / (1.0 + RS))\n",
    "    from pyspark.sql.types import FloatType\n",
    "    temp_df = spark.createDataFrame(data=RSI, schema=FloatType()).fillna(0)\n",
    "    from pyspark.sql.functions import monotonically_increasing_id\n",
    "    df1 = temp_df.repartition(1).select(\"*\").withColumn(\n",
    "        \"id\", monotonically_increasing_id())\n",
    "    df1 = df1.withColumnRenamed('value', 'RSI')\n",
    "    df2 = converted_df.repartition(1).select(\"*\").withColumn(\n",
    "        \"id\", monotonically_increasing_id())\n",
    "    joined_df = df1.join(df2, 'id')\n",
    "    joined_df = joined_df.sort(joined_df.Date.asc())\n",
    "    return joined_df.drop('id')"
   ]
  },
  {
   "cell_type": "code",
   "execution_count": 4,
   "metadata": {},
   "outputs": [],
   "source": [
    "# Commodity Channel Index\n",
    "def CCI(spark_df, ndays):\n",
    "    data = spark_df.toPandas()\n",
    "    TP = (data['High'] + data['Low'] + data['Close']) / 3\n",
    "    CCI = pd.Series(\n",
    "        (TP - pd.rolling_mean(TP, ndays)) /\n",
    "        (0.015 * pd.rolling_std(TP, ndays)),\n",
    "        name='CCI')\n",
    "    data = data.join(CCI)\n",
    "    result_df = spark.createDataFrame(data)\n",
    "    return result_df"
   ]
  },
  {
   "cell_type": "code",
   "execution_count": 5,
   "metadata": {
    "hideCode": false,
    "hidePrompt": false
   },
   "outputs": [],
   "source": [
    "# Spark context simple configuration\n",
    "spark = SparkSession.builder.config(conf=SparkConf()).getOrCreate()\n",
    "path_to_csv = \"./Datasets/Orlen.csv\"\n",
    "\n",
    "fresh_df = spark.read.csv(path_to_csv, header=True, inferSchema=True)\n",
    "df_cleared = fresh_df.drop(\"Adj Close\")\n",
    "\n",
    "if DEBUG:\n",
    "    df_cleared.show()\n",
    "\n",
    "df_lag = df_cleared.withColumn('prev_day_price',\n",
    "                               func.lag(df_cleared['Close']).over(\n",
    "                                   Window.orderBy(\"Date\")))\n",
    "# Previous day price\n",
    "df_with_prev_day_price = df_lag.withColumn(\n",
    "    'Daily return', (df_lag['Close'] - df_lag['prev_day_price']))\n",
    "\n",
    "df_profit = df_with_prev_day_price.withColumn(\n",
    "    'Signal',\n",
    "    (F.when(df_with_prev_day_price[\"Daily return\"] < 0, 0).otherwise(1)))\n",
    "\n",
    "df_lag = df_profit.withColumn('Signal',\n",
    "                              func.lag(df_profit['Signal'], count=-1).over(\n",
    "                                  Window.orderBy(\"Date\")))\n",
    "if DEBUG:\n",
    "    df_lag.show()\n",
    "\n",
    "final_df = df_profit.where(df_profit[\"Daily return\"].isNotNull())\n",
    "\n",
    "final_df = final_df.drop(\"prev_day_price\").withColumnRenamed(\n",
    "    existing=\"Daily return\", new=\"Daily return\")\n",
    "\n",
    "#Conversion to desired typesf\n",
    "converted_df = final_df.select(\n",
    "    final_df[\"Date\"].cast(\"Date\"), final_df[\"Open\"].cast(\"float\"),\n",
    "    final_df[\"High\"].cast(\"float\"), final_df[\"Volume\"].cast(\"int\"),\n",
    "    final_df[\"Low\"].cast(\"float\"), final_df[\"Close\"].cast(\"float\"),\n",
    "    final_df[\"Daily return\"].cast(\"float\"), final_df[\"Signal\"].cast(\"int\"))"
   ]
  },
  {
   "cell_type": "code",
   "execution_count": 6,
   "metadata": {
    "hideCode": false,
    "hidePrompt": false
   },
   "outputs": [],
   "source": [
    "#Columns without Date\n",
    "# converted_df = converted_df.select(\n",
    "#     [col(c).cast('float') for c in converted_df.columns if c. not in {'Date'}])\n",
    "# Date column!\n",
    "df_date = converted_df.select(converted_df.Date)\n",
    "\n",
    "if DEBUG:\n",
    "    df_date.show()\n",
    "\n",
    "#Convert date to splitted format\n",
    "if Date_Convert:\n",
    "    split_col = pyspark.sql.functions.split(converted_df['Date'], '-')\n",
    "    converted_df = converted_df.withColumn('Year',\n",
    "                                           split_col.getItem(0).cast('int'))\n",
    "    converted_df = converted_df.withColumn('Month',\n",
    "                                           split_col.getItem(1).cast('int'))\n",
    "    converted_df = converted_df.withColumn('Day',\n",
    "                                           split_col.getItem(2).cast('int'))\n",
    "    if DEBUG:\n",
    "        converted_df.show()\n",
    "\n",
    "converted_df = converted_df.drop(\"Date\")"
   ]
  },
  {
   "cell_type": "code",
   "execution_count": 7,
   "metadata": {},
   "outputs": [],
   "source": [
    "# Moving average convergence divergence\n",
    "def MACD(dataframe, nfast=12, nslow=24, column = 'Close'):\n",
    "    data = dataframe.toPandas()\n",
    "    # Get just the close\n",
    "    price = data[column]\n",
    "    # Get the difference in price from previous step\n",
    "    emaslow = pd.ewma(price, span=nslow, min_periods=1)\n",
    "    emafast = pd.ewma(price, span=nfast, min_periods=1)\n",
    "#     MACD = pd.DataFrame({'MACD': emafast-emaslow, 'emaSlw': emaslow, 'emaFst': emafast})\n",
    "    MACD = pd.DataFrame({'MACD': emafast-emaslow})\n",
    "    data = data.join(MACD)\n",
    "    result_df = spark.createDataFrame(data)\n",
    "    if DEBUG:\n",
    "        result_df.show()\n",
    "    return result_df"
   ]
  },
  {
   "cell_type": "code",
   "execution_count": 8,
   "metadata": {},
   "outputs": [],
   "source": [
    "if MACD_i:\n",
    "    converted_df = MACD(converted_df)\n",
    "    converted_df = converted_df.select(\n",
    "        [col(c).cast('float') for c in converted_df.columns])\n",
    "    if DEBUG:\n",
    "        converted_df.show()"
   ]
  },
  {
   "cell_type": "code",
   "execution_count": 9,
   "metadata": {
    "hideCode": false,
    "hidePrompt": false
   },
   "outputs": [],
   "source": [
    "if CCI_i:\n",
    "    converted_df = CCI(converted_df, 14)\n",
    "    converted_df = converted_df.select(\n",
    "        [col(c).cast('float') for c in converted_df.columns])\n",
    "    if DEBUG:\n",
    "        converted_df.show()"
   ]
  },
  {
   "cell_type": "code",
   "execution_count": 10,
   "metadata": {
    "hideCode": false,
    "hidePrompt": false
   },
   "outputs": [],
   "source": [
    "# OBV indicator calculation\n",
    "if OBV_i:\n",
    "    temp_df = converted_df.toPandas()\n",
    "    df_obv = spark.createDataFrame(\n",
    "        temp_df.assign(OBV=(temp_df.Volume * (\n",
    "            ~temp_df.Close.diff().le(0) * 2 - 1)).cumsum()))\n",
    "    converted_df = df_obv.select(\n",
    "        [col(c).cast('float') for c in df_obv.columns])\n",
    "    if DEBUG:\n",
    "        converted_df.show()"
   ]
  },
  {
   "cell_type": "code",
   "execution_count": 11,
   "metadata": {
    "hideCode": false,
    "hidePrompt": false
   },
   "outputs": [],
   "source": [
    "#RSI indicator calculaction\n",
    "if RSI_i:\n",
    "    converted_df = RSI(converted_df, 3, 'SMA')\n",
    "    if DEBUG:\n",
    "        converted_df.show()\n",
    "        print(converted_df.count())"
   ]
  },
  {
   "cell_type": "code",
   "execution_count": 12,
   "metadata": {
    "hideCode": false,
    "hidePrompt": false
   },
   "outputs": [
    {
     "data": {
      "image/png": "[encoded data removed]",
      "text/plain": [
       "<matplotlib.figure.Figure at 0x7f4f64819b70>"
      ]
     },
     "metadata": {},
     "output_type": "display_data"
    }
   ],
   "source": [
    "df_to_plot_dt = converted_df.select('Close').toPandas()\n",
    "plt_dt.figure(figsize=(14, 14))\n",
    "plt_dt.plot(df_to_plot_dt)\n",
    "plt_dt.legend(df_to_plot_dt.columns)\n",
    "plt_dt.show()"
   ]
  },
  {
   "cell_type": "code",
   "execution_count": 13,
   "metadata": {
    "hideCode": false,
    "hidePrompt": false
   },
   "outputs": [
    {
     "name": "stdout",
     "output_type": "stream",
     "text": [
      "We have 1225 training examples and 129 test examples.\n"
     ]
    }
   ],
   "source": [
    "# Manuall split for training and validating data\n",
    "\n",
    "if ManualSplit:\n",
    "    dfp = converted_df.toPandas()\n",
    "\n",
    "    dfp = np.array_split(dfp, 10)\n",
    "\n",
    "    p0 = spark.createDataFrame(data=dfp[0])\n",
    "    p1 = spark.createDataFrame(data=dfp[1])\n",
    "    p2 = spark.createDataFrame(data=dfp[2])\n",
    "    p3 = spark.createDataFrame(data=dfp[3])\n",
    "    p4 = spark.createDataFrame(data=dfp[4])\n",
    "    p5 = spark.createDataFrame(data=dfp[5])\n",
    "    p6 = spark.createDataFrame(data=dfp[6])\n",
    "    p7 = spark.createDataFrame(data=dfp[7])\n",
    "    p8 = spark.createDataFrame(data=dfp[8])\n",
    "    p9 = spark.createDataFrame(data=dfp[9])\n",
    "\n",
    "    p_final = p0.union(p1).union(p2).union(p3).union(p4).union(p5).union(\n",
    "        p6).union(p7).union(p8)\n",
    "    train = p_final\n",
    "    test = p9\n",
    "    #     test = p9.head(10)\n",
    "    #     test = spark.createDataFrame(test)\n",
    "else:\n",
    "    train, test = converted_df.randomSplit([0.9, 0.1])\n",
    "\n",
    "print(\"We have %d training examples and %d test examples.\" % (train.count(),\n",
    "                                                              test.count()))\n",
    "\n",
    "\n",
    "# train.repartition(1).write.csv(\"train.csv\")\n",
    "# test.repartition(1).write.csv(\"test.csv\")"
   ]
  },
  {
   "cell_type": "code",
   "execution_count": 42,
   "metadata": {
    "hideCode": false,
    "hidePrompt": false
   },
   "outputs": [
    {
     "name": "stdout",
     "output_type": "stream",
     "text": [
      "['Open', 'High', 'Volume', 'Close']\n"
     ]
    }
   ],
   "source": [
    "# Index labels, adding metadata to the label column.\n",
    "# Fit on whole dataset to include all labels in index.\n",
    "from pyspark.ml import Pipeline\n",
    "from pyspark.ml.regression import DecisionTreeRegressor\n",
    "from pyspark.ml.feature import StringIndexer, VectorIndexer\n",
    "from pyspark.ml.evaluation import RegressionEvaluator\n",
    "from pyspark.ml.feature import VectorAssembler, VectorIndexer\n",
    "\n",
    "featuresCols = converted_df.columns\n",
    "featuresCols.remove('Signal')\n",
    "featuresCols.remove('Daily return')\n",
    "featuresCols.remove('Low')\n",
    "\n",
    "print(featuresCols)\n",
    "\n",
    "# Vector Assembler\n",
    "# This concatenates all feature columns into a single feature vector in a new column \"rawFeatures\".\n",
    "# Used for assembling features into a vector.\n",
    "# We will pass all the columns that we are going to use for the prediction to the VectorAssembler and\n",
    "# it will create a new vector column.\n",
    "vectorAssembler_rt = VectorAssembler(\n",
    "    inputCols=featuresCols, outputCol=\"rawFeatures\")\n",
    "\n",
    "# VectorIndexer:\n",
    "# is used to index categorical predictors in a featuresCol column.\n",
    "# Remember that featuresCol is a single column consisting of vectors (refer to featuresCol and labelCol).\n",
    "# Each row is a vector which contains values from each predictors.\n",
    "\n",
    "featureIndexer_rt = VectorIndexer(\n",
    "    inputCol=\"rawFeatures\",\n",
    "    outputCol=\"features\",\n",
    "    maxCategories=len(featuresCols))"
   ]
  },
  {
   "cell_type": "code",
   "execution_count": 43,
   "metadata": {
    "hideCode": false,
    "hidePrompt": false
   },
   "outputs": [],
   "source": [
    "# Algorithm\n",
    "from pyspark.ml.classification import RandomForestClassifier\n",
    "\n",
    "rt = RandomForestClassifier(labelCol='Signal', featuresCol=\"features\")"
   ]
  },
  {
   "cell_type": "code",
   "execution_count": 44,
   "metadata": {
    "hideCode": false,
    "hidePrompt": false
   },
   "outputs": [],
   "source": [
    "from pyspark.ml.tuning import CrossValidator, ParamGridBuilder\n",
    "from pyspark.ml.evaluation import MulticlassClassificationEvaluator\n",
    "\n",
    "# Define a grid of hyperparameters to test:\n",
    "#  - maxDepth: max depth of each decision tree in the GBT ensemble\n",
    "# In practice, to get the highest accuracy, you would likely want to try deeper trees (10 or higher)\n",
    "# and more trees in the ensemble (>100).\n",
    "\n",
    "max_Depth_Range = list(range(5,6))\n",
    "maxTrees = list(range(5,6))\n",
    "\n",
    "paramGrid_rt = ParamGridBuilder() \\\n",
    "    .addGrid(rt.maxBins, max_Depth_Range) \\\n",
    "    .addGrid(rt.numTrees, maxTrees) \\\n",
    "    .addGrid(rt.maxMemoryInMB, [1500] ).build()\n",
    "\n",
    "# We define an evaluation metric.  This tells CrossValidator how well we are doing by comparing the true\n",
    "# labels with predictions.\n",
    "evaluator_rt = MulticlassClassificationEvaluator(\n",
    "    metricName=\"accuracy\",\n",
    "    labelCol=rt.getLabelCol(),\n",
    "    predictionCol=rt.getPredictionCol())\n",
    "\n",
    "# Declare the CrossValidator, which runs model tuning for us.\n",
    "cv_rt = CrossValidator(\n",
    "    estimator=rt,\n",
    "    evaluator=evaluator_rt,\n",
    "    estimatorParamMaps=paramGrid_rt,\n",
    "    numFolds=2)"
   ]
  },
  {
   "cell_type": "code",
   "execution_count": 53,
   "metadata": {},
   "outputs": [],
   "source": [
    "from pyspark.ml.classification import RandomForestClassificationModel\n",
    "\n",
    "RandomForestClassificationModel.getMaxDepth= (\n",
    "    lambda self: self._java_obj.getMaxDepth()\n",
    ")"
   ]
  },
  {
   "cell_type": "code",
   "execution_count": 61,
   "metadata": {
    "hideCode": false,
    "hidePrompt": false
   },
   "outputs": [
    {
     "name": "stdout",
     "output_type": "stream",
     "text": [
      "Precision on our test set: 0.542636\n"
     ]
    }
   ],
   "source": [
    "# Creating Final pipeline object\n",
    "pipeline_rt = Pipeline(stages=[vectorAssembler_rt, featureIndexer_rt, cv_rt])\n",
    "\n",
    "# FITTING!\n",
    "pipelineModel_rt = pipeline_rt.fit(train)\n",
    "\n",
    "# Getting the Best Model\n",
    "best_classifier = pipelineModel_rt.stages[-1].bestModel\n",
    "\n",
    "if DEBUG:\n",
    "    # Feature importance\n",
    "    print(best_classifier.featureImportances)\n",
    "\n",
    "    # Best number of Trees\n",
    "    print(\"Best number of trees is \" + str(best_classifier.getNumTrees))\n",
    "\n",
    "    # Max depth\n",
    "    print(\"Maximal depth is \" + str(best_classifier.getMaxDepth()))\n",
    "\n",
    "# Making Predictions!\n",
    "predictions_rt = pipelineModel_rt.transform(test)\n",
    "\n",
    "if DEBUG:\n",
    "    predictions_dt.show()\n",
    "\n",
    "# Calculating metrics\n",
    "precision = evaluator_rt.evaluate(predictions_rt)\n",
    "\n",
    "print(\"Precision on our test set: %g\" % precision)\n",
    "\n",
    "if DEBUG:\n",
    "    df_to_plot_rt = predictions_rt.select('prediction', 'Daily return')\n",
    "    df_to_plot_rt.show()\n",
    "    df_to_plot_rt = df_to_plot_rt.toPandas()\n",
    "    plt_dt.figure(figsize=(14, 14))\n",
    "    plt_dt.plot(df_to_plot_rt)\n",
    "    plt_dt.legend(df_to_plot_rt.columns)\n",
    "    plt_dt.show()"
   ]
  },
  {
   "cell_type": "code",
   "execution_count": null,
   "metadata": {
    "hideCode": false,
    "hidePrompt": false
   },
   "outputs": [],
   "source": []
  }
 ],
 "metadata": {
  "celltoolbar": "Hide code",
  "hide_code_all_hidden": false,
  "kernelspec": {
   "display_name": "Python 3",
   "language": "python",
   "name": "python3"
  },
  "language_info": {
   "codemirror_mode": {
    "name": "ipython",
    "version": 3
   },
   "file_extension": ".py",
   "mimetype": "text/x-python",
   "name": "python",
   "nbconvert_exporter": "python",
   "pygments_lexer": "ipython3",
   "version": "3.6.3"
  }
 },
 "nbformat": 4,
 "nbformat_minor": 2
}
