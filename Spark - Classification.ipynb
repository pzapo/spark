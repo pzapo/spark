{
 "cells": [
  {
   "cell_type": "code",
   "execution_count": 50,
   "metadata": {
    "hideCode": false,
    "hidePrompt": false
   },
   "outputs": [],
   "source": [
    "OBV = True\n",
    "RSI_i = True\n",
    "ManualSplit = False\n",
    "Date_Convert = True"
   ]
  },
  {
   "cell_type": "code",
   "execution_count": 51,
   "metadata": {
    "hideCode": false,
    "hideOutput": false,
    "hidePrompt": false
   },
   "outputs": [],
   "source": [
    "import pandas as pd\n",
    "from pandas_datareader import data, wb\n",
    "import datetime\n",
    "from pyspark import SQLContext\n",
    "import matplotlib.pyplot as plt\n",
    "\n",
    "\n",
    "def RSI(dataframe, column, window_length, avg_type):\n",
    "    data = dataframe.toPandas()\n",
    "    # Get just the close\n",
    "    close = data[column]\n",
    "    # Get the difference in price from previous step\n",
    "    delta = close.diff()\n",
    "    # Get rid of the first row, which is NaN since it did not have a previous\n",
    "    # row to calculate the differences\n",
    "    # Make the positive gains (up) and negative gains (down) Series\n",
    "    up, down = delta.copy(), delta.copy()\n",
    "    up[up < 0] = 0\n",
    "    down[down > 0] = 0\n",
    "    if avg_type == \"EWMA\":\n",
    "        roll_up = up.ewm(com=14).mean()\n",
    "        roll_down = down.abs().ewm(com=14).mean()\n",
    "    elif avg_type == \"SMA\":\n",
    "        roll_up = pd.rolling_mean(up, window_length)\n",
    "        roll_down = pd.rolling_mean(down.abs(), window_length)\n",
    "    RS = roll_up / roll_down\n",
    "    RSI = 100.0 - (100.0 / (1.0 + RS))\n",
    "    from pyspark.sql.types import FloatType\n",
    "    temp_df = spark.createDataFrame(data=RSI, schema=FloatType()).fillna(0)\n",
    "    from pyspark.sql.functions import monotonically_increasing_id\n",
    "    df1 = temp_df.repartition(1).select(\"*\").withColumn(\n",
    "        \"id\", monotonically_increasing_id())\n",
    "    df1 = df1.withColumnRenamed('value', 'RSI')\n",
    "    df2 = converted_df.repartition(1).select(\"*\").withColumn(\n",
    "        \"id\", monotonically_increasing_id())\n",
    "    joined_df = df1.join(df2, 'id')\n",
    "    joined_df = joined_df.sort(joined_df.Date.asc())\n",
    "    return joined_df.drop('id')"
   ]
  },
  {
   "cell_type": "code",
   "execution_count": 52,
   "metadata": {
    "hideCode": false,
    "hidePrompt": false
   },
   "outputs": [
    {
     "name": "stdout",
     "output_type": "stream",
     "text": [
      "+-------------------+--------+--------+--------+--------+------+--------------------+------+\n",
      "|               Date|    Open|    High|     Low|   Close|Volume|        Daily return|Signal|\n",
      "+-------------------+--------+--------+--------+--------+------+--------------------+------+\n",
      "|2012-05-29 00:00:00|7.802000|7.809000|7.802000|7.809000|     0| 0.10299999999999976|     1|\n",
      "|2012-05-30 00:00:00|7.950000|7.950000|7.782000|7.782000|    10|-0.02700000000000...|     0|\n",
      "|2012-05-31 00:00:00|7.688000|7.688000|7.688000|7.688000|     0| -0.0940000000000003|     0|\n",
      "|2012-06-01 00:00:00|7.526000|7.526000|7.459000|7.459000|   300| -0.2290000000000001|     0|\n",
      "|2012-06-04 00:00:00|7.328000|7.328000|7.328000|7.328000|     0|-0.13099999999999934|     0|\n",
      "|2012-06-05 00:00:00|7.514000|7.514000|7.514000|7.514000|     0| 0.18599999999999994|     1|\n",
      "|2012-06-06 00:00:00|7.317000|7.317000|7.317000|7.317000|     0|-0.19700000000000006|     0|\n",
      "|2012-06-08 00:00:00|7.502000|7.569000|7.502000|7.569000|     0|  0.2519999999999998|     1|\n",
      "|2012-06-11 00:00:00|7.701000|7.701000|7.701000|7.701000|     0| 0.13199999999999967|     1|\n",
      "|2012-06-12 00:00:00|7.671000|7.671000|7.671000|7.671000|     0|-0.02999999999999936|     0|\n",
      "|2012-06-13 00:00:00|7.935000|7.935000|7.935000|7.935000|     0| 0.26399999999999935|     1|\n",
      "|2012-06-14 00:00:00|7.978000|7.978000|7.978000|7.978000|     0| 0.04300000000000015|     1|\n",
      "|2012-06-15 00:00:00|8.089000|8.089000|8.089000|8.089000|     0| 0.11100000000000065|     1|\n",
      "|2012-06-18 00:00:00|8.337000|8.337000|8.337000|8.337000|     0| 0.24799999999999933|     1|\n",
      "|2012-06-19 00:00:00|8.223000|8.223000|8.223000|8.223000|     0|-0.11399999999999899|     0|\n",
      "|2012-06-20 00:00:00|8.587000|8.824000|8.587000|8.824000|   370|  0.6009999999999991|     1|\n",
      "|2012-06-21 00:00:00|8.634000|8.634000|8.616000|8.616000|   350|-0.20800000000000018|     0|\n",
      "|2012-06-22 00:00:00|8.404000|8.457000|8.404000|8.441000|  1250|-0.17499999999999893|     0|\n",
      "|2012-06-25 00:00:00|8.402000|8.402000|8.402000|8.402000|     0|-0.03900000000000148|     0|\n",
      "|2012-06-26 00:00:00|8.344000|8.344000|8.344000|8.344000|     0|-0.05799999999999983|     0|\n",
      "+-------------------+--------+--------+--------+--------+------+--------------------+------+\n",
      "only showing top 20 rows\n",
      "\n"
     ]
    }
   ],
   "source": [
    "import findspark\n",
    "\n",
    "findspark.init()\n",
    "import pyspark\n",
    "from pyspark.sql import SparkSession\n",
    "from pyspark import SparkConf\n",
    "from pyspark.sql.window import Window\n",
    "import pyspark.sql.functions as func\n",
    "from pyspark.sql import functions as F\n",
    "\n",
    "spark = SparkSession.builder.config(conf=SparkConf()).getOrCreate()\n",
    "path_to_csv = \"./Datasets/Orlen.csv\"\n",
    "\n",
    "fresh_df = spark.read.csv(path_to_csv, header=True, inferSchema=True)\n",
    "df_cleared = fresh_df.drop(\"Adj Close\")\n",
    "# print(df_cleared.show())\n",
    "\n",
    "df_lag = df_cleared.withColumn('prev_day_price',\n",
    "                               func.lag(df_cleared['Close']).over(\n",
    "                                   Window.orderBy(\"Date\")))\n",
    "# Previous day price\n",
    "df_with_prev_day_price = df_lag.withColumn(\n",
    "    'Daily return', (df_lag['Close'] - df_lag['prev_day_price']))\n",
    "\n",
    "df_profit = df_with_prev_day_price.withColumn(\n",
    "    'Signal',\n",
    "    (F.when(df_with_prev_day_price[\"Daily return\"] < 0, 0).otherwise(1)))\n",
    "\n",
    "df_lag = df_profit.withColumn('Signal',\n",
    "                              func.lag(df_profit['Signal'], count=-1).over(\n",
    "                                  Window.orderBy(\"Date\")))\n",
    "# df_lag.show()\n",
    "\n",
    "final_df = df_profit.where(df_profit[\"Daily return\"].isNotNull())\n",
    "\n",
    "final_df = final_df.drop(\"prev_day_price\").withColumnRenamed(\n",
    "    existing=\"Daily return\", new=\"Daily return\")\n",
    "\n",
    "#Conversion to desired types\n",
    "converted_df = final_df.select(\n",
    "    final_df[\"Date\"].cast(\"Date\"), final_df[\"Open\"].cast(\"float\"),\n",
    "    final_df[\"High\"].cast(\"float\"), final_df[\"Volume\"].cast(\"int\"),\n",
    "    final_df[\"Low\"].cast(\"float\"), final_df[\"Close\"].cast(\"float\"),\n",
    "    final_df[\"Daily return\"].cast(\"float\"), final_df[\"Signal\"].cast(\"int\"))\n",
    "\n",
    "final_df.show()"
   ]
  },
  {
   "cell_type": "code",
   "execution_count": 53,
   "metadata": {
    "hideCode": false,
    "hidePrompt": false
   },
   "outputs": [
    {
     "name": "stdout",
     "output_type": "stream",
     "text": [
      "+----------+-----+-------+-----+------+-----+-----+------------+------+\n",
      "|      Date| Open|    OBV| High|Volume|  Low|Close|Daily return|Signal|\n",
      "+----------+-----+-------+-----+------+-----+-----+------------+------+\n",
      "|2012-05-29|7.802|    0.0|7.809|     0|7.802|7.809|       0.103|     1|\n",
      "|2012-05-30| 7.95|  -10.0| 7.95|    10|7.782|7.782|      -0.027|     0|\n",
      "|2012-05-31|7.688|  -10.0|7.688|     0|7.688|7.688|      -0.094|     0|\n",
      "|2012-06-01|7.526| -310.0|7.526|   300|7.459|7.459|      -0.229|     0|\n",
      "|2012-06-04|7.328| -310.0|7.328|     0|7.328|7.328|      -0.131|     0|\n",
      "|2012-06-05|7.514| -310.0|7.514|     0|7.514|7.514|       0.186|     1|\n",
      "|2012-06-06|7.317| -310.0|7.317|     0|7.317|7.317|      -0.197|     0|\n",
      "|2012-06-08|7.502| -310.0|7.569|     0|7.502|7.569|       0.252|     1|\n",
      "|2012-06-11|7.701| -310.0|7.701|     0|7.701|7.701|       0.132|     1|\n",
      "|2012-06-12|7.671| -310.0|7.671|     0|7.671|7.671|       -0.03|     0|\n",
      "|2012-06-13|7.935| -310.0|7.935|     0|7.935|7.935|       0.264|     1|\n",
      "|2012-06-14|7.978| -310.0|7.978|     0|7.978|7.978|       0.043|     1|\n",
      "|2012-06-15|8.089| -310.0|8.089|     0|8.089|8.089|       0.111|     1|\n",
      "|2012-06-18|8.337| -310.0|8.337|     0|8.337|8.337|       0.248|     1|\n",
      "|2012-06-19|8.223| -310.0|8.223|     0|8.223|8.223|      -0.114|     0|\n",
      "|2012-06-20|8.587|   60.0|8.824|   370|8.587|8.824|       0.601|     1|\n",
      "|2012-06-21|8.634| -290.0|8.634|   350|8.616|8.616|      -0.208|     0|\n",
      "|2012-06-22|8.404|-1540.0|8.457|  1250|8.404|8.441|      -0.175|     0|\n",
      "|2012-06-25|8.402|-1540.0|8.402|     0|8.402|8.402|      -0.039|     0|\n",
      "|2012-06-26|8.344|-1540.0|8.344|     0|8.344|8.344|      -0.058|     0|\n",
      "+----------+-----+-------+-----+------+-----+-----+------------+------+\n",
      "only showing top 20 rows\n",
      "\n"
     ]
    }
   ],
   "source": [
    "# OBV indicator calculation\n",
    "if OBV:\n",
    "    temp_df = converted_df.toPandas()\n",
    "    df_obv = spark.createDataFrame(\n",
    "        temp_df.assign(OBV=(temp_df.Volume * (\n",
    "            ~temp_df.Close.diff().le(0) * 2 - 1)).cumsum()))\n",
    "\n",
    "    df_obv = df_obv.select(\n",
    "        df_obv[\"Date\"].cast(\"Date\"), df_obv[\"Open\"].cast(\"float\"),\n",
    "        df_obv[\"OBV\"].cast(\"float\"), df_obv[\"High\"].cast(\"float\"),\n",
    "        df_obv[\"Volume\"].cast(\"int\"), df_obv[\"Low\"].cast(\"float\"),\n",
    "        df_obv[\"Close\"].cast(\"float\"), df_obv[\"Daily return\"].cast(\"float\"),\n",
    "        df_obv[\"Signal\"].cast(\"int\"))\n",
    "    converted_df = df_obv\n",
    "    converted_df.show()"
   ]
  },
  {
   "cell_type": "code",
   "execution_count": 54,
   "metadata": {
    "hideCode": false,
    "hidePrompt": false
   },
   "outputs": [
    {
     "name": "stderr",
     "output_type": "stream",
     "text": [
      "/home/zapo/Documents/Spark/spark/lib/python3.6/site-packages/ipykernel_launcher.py:24: FutureWarning: pd.rolling_mean is deprecated for Series and will be removed in a future version, replace with \n",
      "\tSeries.rolling(window=3,center=False).mean()\n",
      "/home/zapo/Documents/Spark/spark/lib/python3.6/site-packages/ipykernel_launcher.py:25: FutureWarning: pd.rolling_mean is deprecated for Series and will be removed in a future version, replace with \n",
      "\tSeries.rolling(window=3,center=False).mean()\n"
     ]
    },
    {
     "name": "stdout",
     "output_type": "stream",
     "text": [
      "1354\n",
      "+---------+----------+-----+-------+-----+------+-----+-----+------------+------+\n",
      "|      RSI|      Date| Open|    OBV| High|Volume|  Low|Close|Daily return|Signal|\n",
      "+---------+----------+-----+-------+-----+------+-----+-----+------------+------+\n",
      "|      0.0|2012-05-29|7.802|    0.0|7.809|     0|7.802|7.809|       0.103|     1|\n",
      "|      0.0|2012-05-30| 7.95|  -10.0| 7.95|    10|7.782|7.782|      -0.027|     0|\n",
      "|      0.0|2012-05-31|7.688|  -10.0|7.688|     0|7.688|7.688|      -0.094|     0|\n",
      "|      0.0|2012-06-01|7.526| -310.0|7.526|   300|7.459|7.459|      -0.229|     0|\n",
      "|      0.0|2012-06-04|7.328| -310.0|7.328|     0|7.328|7.328|      -0.131|     0|\n",
      "| 34.06591|2012-06-05|7.514| -310.0|7.514|     0|7.514|7.514|       0.186|     1|\n",
      "| 36.18675|2012-06-06|7.317| -310.0|7.317|     0|7.317|7.317|      -0.197|     0|\n",
      "|68.976364|2012-06-08|7.502| -310.0|7.569|     0|7.502|7.569|       0.252|     1|\n",
      "| 66.09296|2012-06-11|7.701| -310.0|7.701|     0|7.701|7.701|       0.132|     1|\n",
      "| 92.75358|2012-06-12|7.671| -310.0|7.671|     0|7.671|7.671|       -0.03|     0|\n",
      "| 92.95771|2012-06-13|7.935| -310.0|7.935|     0|7.935|7.935|       0.264|     1|\n",
      "| 91.09787|2012-06-14|7.978| -310.0|7.978|     0|7.978|7.978|       0.043|     1|\n",
      "|    100.0|2012-06-15|8.089| -310.0|8.089|     0|8.089|8.089|       0.111|     1|\n",
      "|    100.0|2012-06-18|8.337| -310.0|8.337|     0|8.337|8.337|       0.248|     1|\n",
      "| 75.89845|2012-06-19|8.223| -310.0|8.223|     0|8.223|8.223|      -0.114|     0|\n",
      "| 88.16198|2012-06-20|8.587|   60.0|8.824|   370|8.587|8.824|       0.601|     1|\n",
      "|65.113754|2012-06-21|8.634| -290.0|8.634|   350|8.616|8.616|      -0.208|     0|\n",
      "|61.077244|2012-06-22|8.404|-1540.0|8.457|  1250|8.404|8.441|      -0.175|     0|\n",
      "|      0.0|2012-06-25|8.402|-1540.0|8.402|     0|8.402|8.402|      -0.039|     0|\n",
      "|      0.0|2012-06-26|8.344|-1540.0|8.344|     0|8.344|8.344|      -0.058|     0|\n",
      "+---------+----------+-----+-------+-----+------+-----+-----+------------+------+\n",
      "only showing top 20 rows\n",
      "\n"
     ]
    }
   ],
   "source": [
    "#RSI indicator calculaction\n",
    "if RSI_i:\n",
    "    converted_df = RSI(converted_df, \"Close\", 3, 'SMA')\n",
    "    print(converted_df.count())\n",
    "    converted_df.show()"
   ]
  },
  {
   "cell_type": "code",
   "execution_count": 55,
   "metadata": {
    "hideCode": false,
    "hidePrompt": false
   },
   "outputs": [
    {
     "name": "stdout",
     "output_type": "stream",
     "text": [
      "+---------+----------+-----+-------+-----+------+-----+-----+------------+------+----+-----+---+\n",
      "|      RSI|      Date| Open|    OBV| High|Volume|  Low|Close|Daily return|Signal|Year|Month|Day|\n",
      "+---------+----------+-----+-------+-----+------+-----+-----+------------+------+----+-----+---+\n",
      "|      0.0|2012-05-29|7.802|    0.0|7.809|     0|7.802|7.809|       0.103|     1|2012|    5| 29|\n",
      "|      0.0|2012-05-30| 7.95|  -10.0| 7.95|    10|7.782|7.782|      -0.027|     0|2012|    5| 30|\n",
      "|      0.0|2012-05-31|7.688|  -10.0|7.688|     0|7.688|7.688|      -0.094|     0|2012|    5| 31|\n",
      "|      0.0|2012-06-01|7.526| -310.0|7.526|   300|7.459|7.459|      -0.229|     0|2012|    6|  1|\n",
      "|      0.0|2012-06-04|7.328| -310.0|7.328|     0|7.328|7.328|      -0.131|     0|2012|    6|  4|\n",
      "| 34.06591|2012-06-05|7.514| -310.0|7.514|     0|7.514|7.514|       0.186|     1|2012|    6|  5|\n",
      "| 36.18675|2012-06-06|7.317| -310.0|7.317|     0|7.317|7.317|      -0.197|     0|2012|    6|  6|\n",
      "|68.976364|2012-06-08|7.502| -310.0|7.569|     0|7.502|7.569|       0.252|     1|2012|    6|  8|\n",
      "| 66.09296|2012-06-11|7.701| -310.0|7.701|     0|7.701|7.701|       0.132|     1|2012|    6| 11|\n",
      "| 92.75358|2012-06-12|7.671| -310.0|7.671|     0|7.671|7.671|       -0.03|     0|2012|    6| 12|\n",
      "| 92.95771|2012-06-13|7.935| -310.0|7.935|     0|7.935|7.935|       0.264|     1|2012|    6| 13|\n",
      "| 91.09787|2012-06-14|7.978| -310.0|7.978|     0|7.978|7.978|       0.043|     1|2012|    6| 14|\n",
      "|    100.0|2012-06-15|8.089| -310.0|8.089|     0|8.089|8.089|       0.111|     1|2012|    6| 15|\n",
      "|    100.0|2012-06-18|8.337| -310.0|8.337|     0|8.337|8.337|       0.248|     1|2012|    6| 18|\n",
      "| 75.89845|2012-06-19|8.223| -310.0|8.223|     0|8.223|8.223|      -0.114|     0|2012|    6| 19|\n",
      "| 88.16198|2012-06-20|8.587|   60.0|8.824|   370|8.587|8.824|       0.601|     1|2012|    6| 20|\n",
      "|65.113754|2012-06-21|8.634| -290.0|8.634|   350|8.616|8.616|      -0.208|     0|2012|    6| 21|\n",
      "|61.077244|2012-06-22|8.404|-1540.0|8.457|  1250|8.404|8.441|      -0.175|     0|2012|    6| 22|\n",
      "|      0.0|2012-06-25|8.402|-1540.0|8.402|     0|8.402|8.402|      -0.039|     0|2012|    6| 25|\n",
      "|      0.0|2012-06-26|8.344|-1540.0|8.344|     0|8.344|8.344|      -0.058|     0|2012|    6| 26|\n",
      "+---------+----------+-----+-------+-----+------+-----+-----+------------+------+----+-----+---+\n",
      "only showing top 20 rows\n",
      "\n"
     ]
    }
   ],
   "source": [
    "#Convert date to splitted format\n",
    "\n",
    "if Date_Convert:\n",
    "    split_col = pyspark.sql.functions.split(converted_df['Date'], '-')\n",
    "    converted_df = converted_df.withColumn('Year',\n",
    "                                           split_col.getItem(0).cast('int'))\n",
    "    converted_df = converted_df.withColumn('Month',\n",
    "                                           split_col.getItem(1).cast('int'))\n",
    "    converted_df = converted_df.withColumn('Day',\n",
    "                                           split_col.getItem(2).cast('int'))\n",
    "    converted_df.show()\n",
    "\n",
    "converted_df = converted_df.drop(\"Date\")"
   ]
  },
  {
   "cell_type": "code",
   "execution_count": 56,
   "metadata": {
    "hideCode": false,
    "hidePrompt": false
   },
   "outputs": [
    {
     "data": {
      "image/png": "[encoded data removed]",
      "text/plain": [
       "<matplotlib.figure.Figure at 0x7f18b0303828>"
      ]
     },
     "metadata": {},
     "output_type": "display_data"
    }
   ],
   "source": [
    "import numpy as np\n",
    "\n",
    "df_to_plot_dt = converted_df.drop(\"Volume\", 'Year', 'Month', 'Day',\n",
    "                                  'Daily return').toPandas()\n",
    "import matplotlib.pyplot as plt_dt\n",
    "plt_dt.figure(figsize=(14, 14))\n",
    "plt_dt.plot(df_to_plot_dt)\n",
    "plt_dt.legend(df_to_plot_dt.columns)\n",
    "plt_dt.show()"
   ]
  },
  {
   "cell_type": "code",
   "execution_count": 57,
   "metadata": {
    "hideCode": false,
    "hidePrompt": false
   },
   "outputs": [
    {
     "name": "stdout",
     "output_type": "stream",
     "text": [
      "We have 1226 training examples and 128 test examples.\n"
     ]
    }
   ],
   "source": [
    "# Manuall split for training and validating data\n",
    "\n",
    "if ManualSplit:\n",
    "    dfp = converted_df.toPandas()\n",
    "\n",
    "    dfp = np.array_split(dfp, 10)\n",
    "\n",
    "    p0 = spark.createDataFrame(data=dfp[0])\n",
    "    p1 = spark.createDataFrame(data=dfp[1])\n",
    "    p2 = spark.createDataFrame(data=dfp[2])\n",
    "    p3 = spark.createDataFrame(data=dfp[3])\n",
    "    p4 = spark.createDataFrame(data=dfp[4])\n",
    "    p5 = spark.createDataFrame(data=dfp[5])\n",
    "    p6 = spark.createDataFrame(data=dfp[6])\n",
    "    p7 = spark.createDataFrame(data=dfp[7])\n",
    "    p8 = spark.createDataFrame(data=dfp[8])\n",
    "    p9 = spark.createDataFrame(data=dfp[9])\n",
    "\n",
    "    p_final = p0.union(p1).union(p2).union(p3).union(p4).union(p5).union(\n",
    "        p6).union(p7).union(p8)\n",
    "    train = p_final\n",
    "    test = p9\n",
    "    #     test = p9.head(10)\n",
    "    #     test = spark.createDataFrame(test)\n",
    "else:\n",
    "    train, test = converted_df.randomSplit([0.9, 0.1])\n",
    "\n",
    "print(\"We have %d training examples and %d test examples.\" % (train.count(),\n",
    "                                                              test.count()))\n",
    "\n",
    "# train.repartition(1).write.csv(\"train.csv\")\n",
    "# test.repartition(1).write.csv(\"test.csv\")"
   ]
  },
  {
   "cell_type": "code",
   "execution_count": 58,
   "metadata": {
    "hideCode": false,
    "hidePrompt": false
   },
   "outputs": [
    {
     "name": "stdout",
     "output_type": "stream",
     "text": [
      "['RSI', 'Open', 'OBV', 'High', 'Volume', 'Low', 'Close', 'Year', 'Month', 'Day']\n"
     ]
    }
   ],
   "source": [
    "# Index labels, adding metadata to the label column.\n",
    "# Fit on whole dataset to include all labels in index.\n",
    "from pyspark.ml import Pipeline\n",
    "from pyspark.ml.regression import DecisionTreeRegressor\n",
    "from pyspark.ml.feature import StringIndexer, VectorIndexer\n",
    "from pyspark.ml.evaluation import RegressionEvaluator\n",
    "from pyspark.ml.feature import VectorAssembler, VectorIndexer\n",
    "\n",
    "featuresCols = converted_df.columns\n",
    "featuresCols.remove('Signal')\n",
    "featuresCols.remove('Daily return')\n",
    "\n",
    "print(featuresCols)\n",
    "\n",
    "# Vector Assembler\n",
    "# This concatenates all feature columns into a single feature vector in a new column \"rawFeatures\".\n",
    "# Used for assembling features into a vector. \n",
    "# We will pass all the columns that we are going to use for the prediction to the VectorAssembler and \n",
    "# it will create a new vector column.\n",
    "vectorAssembler_rt = VectorAssembler(\n",
    "    inputCols=featuresCols, outputCol=\"rawFeatures\")\n",
    "\n",
    "# VectorIndexer:\n",
    "# is used to index categorical predictors in a featuresCol column.\n",
    "# Remember that featuresCol is a single column consisting of vectors (refer to featuresCol and labelCol). \n",
    "# Each row is a vector which contains values from each predictors.\n",
    "\n",
    "featureIndexer_rt = VectorIndexer(\n",
    "    inputCol=\"rawFeatures\",\n",
    "    outputCol=\"features\",\n",
    "    maxCategories=len(featuresCols))\n"
   ]
  },
  {
   "cell_type": "code",
   "execution_count": 59,
   "metadata": {
    "hideCode": false,
    "hidePrompt": false
   },
   "outputs": [],
   "source": [
    "# Algorithm\n",
    "from pyspark.ml.classification import RandomForestClassifier\n",
    "\n",
    "rt = RandomForestClassifier(labelCol='Signal', featuresCol=\"features\")"
   ]
  },
  {
   "cell_type": "code",
   "execution_count": 60,
   "metadata": {
    "hideCode": false,
    "hidePrompt": false
   },
   "outputs": [],
   "source": [
    "from pyspark.ml.tuning import CrossValidator, ParamGridBuilder\n",
    "from pyspark.ml.evaluation import MulticlassClassificationEvaluator\n",
    "\n",
    "# Define a grid of hyperparameters to test:\n",
    "#  - maxDepth: max depth of each decision tree in the GBT ensemble\n",
    "# In practice, to get the highest accuracy, you would likely want to try deeper trees (10 or higher)\n",
    "# and more trees in the ensemble (>100).\n",
    "\n",
    "max_Depth_Range = list(range(14, 16))\n",
    "maxTrees = list(range(25, 26))\n",
    "\n",
    "paramGrid_rt = ParamGridBuilder() \\\n",
    "    .addGrid(rt.maxBins, max_Depth_Range) \\\n",
    "    .addGrid(rt.numTrees, maxTrees) \\\n",
    "    .addGrid(rt.maxMemoryInMB, [1500] ).build()\n",
    "\n",
    "# We define an evaluation metric.  This tells CrossValidator how well we are doing by comparing the true\n",
    "# labels with predictions.\n",
    "evaluator_rt = MulticlassClassificationEvaluator(\n",
    "    metricName=\"accuracy\",\n",
    "    labelCol=rt.getLabelCol(),\n",
    "    predictionCol=rt.getPredictionCol())\n",
    "\n",
    "# Declare the CrossValidator, which runs model tuning for us.\n",
    "cv_rt = CrossValidator(\n",
    "    estimator=rt,\n",
    "    evaluator=evaluator_rt,\n",
    "    estimatorParamMaps=paramGrid_rt,\n",
    "    numFolds=3)"
   ]
  },
  {
   "cell_type": "code",
   "execution_count": 61,
   "metadata": {
    "hideCode": false,
    "hidePrompt": false
   },
   "outputs": [
    {
     "ename": "IllegalArgumentException",
     "evalue": "'BinaryClassificationEvaluator_4bea9ab0db57a8859ff3 parameter metricName given invalid value accuracy.'",
     "output_type": "error",
     "traceback": [
      "\u001b[0;31m---------------------------------------------------------------------------\u001b[0m",
      "\u001b[0;31mPy4JJavaError\u001b[0m                             Traceback (most recent call last)",
      "\u001b[0;32m~/Documents/Spark/spark/lib/python3.6/site-packages/pyspark/sql/utils.py\u001b[0m in \u001b[0;36mdeco\u001b[0;34m(*a, **kw)\u001b[0m\n\u001b[1;32m     62\u001b[0m         \u001b[0;32mtry\u001b[0m\u001b[0;34m:\u001b[0m\u001b[0;34m\u001b[0m\u001b[0m\n\u001b[0;32m---> 63\u001b[0;31m             \u001b[0;32mreturn\u001b[0m \u001b[0mf\u001b[0m\u001b[0;34m(\u001b[0m\u001b[0;34m*\u001b[0m\u001b[0ma\u001b[0m\u001b[0;34m,\u001b[0m \u001b[0;34m**\u001b[0m\u001b[0mkw\u001b[0m\u001b[0;34m)\u001b[0m\u001b[0;34m\u001b[0m\u001b[0m\n\u001b[0m\u001b[1;32m     64\u001b[0m         \u001b[0;32mexcept\u001b[0m \u001b[0mpy4j\u001b[0m\u001b[0;34m.\u001b[0m\u001b[0mprotocol\u001b[0m\u001b[0;34m.\u001b[0m\u001b[0mPy4JJavaError\u001b[0m \u001b[0;32mas\u001b[0m \u001b[0me\u001b[0m\u001b[0;34m:\u001b[0m\u001b[0;34m\u001b[0m\u001b[0m\n",
      "\u001b[0;32m~/Documents/Spark/spark/lib/python3.6/site-packages/py4j/protocol.py\u001b[0m in \u001b[0;36mget_return_value\u001b[0;34m(answer, gateway_client, target_id, name)\u001b[0m\n\u001b[1;32m    318\u001b[0m                     \u001b[0;34m\"An error occurred while calling {0}{1}{2}.\\n\"\u001b[0m\u001b[0;34m.\u001b[0m\u001b[0;34m\u001b[0m\u001b[0m\n\u001b[0;32m--> 319\u001b[0;31m                     format(target_id, \".\", name), value)\n\u001b[0m\u001b[1;32m    320\u001b[0m             \u001b[0;32melse\u001b[0m\u001b[0;34m:\u001b[0m\u001b[0;34m\u001b[0m\u001b[0m\n",
      "\u001b[0;31mPy4JJavaError\u001b[0m: An error occurred while calling o6399.w.\n: java.lang.IllegalArgumentException: BinaryClassificationEvaluator_4bea9ab0db57a8859ff3 parameter metricName given invalid value accuracy.\n\tat org.apache.spark.ml.param.Param.validate(params.scala:77)\n\tat org.apache.spark.ml.param.ParamPair.<init>(params.scala:528)\n\tat org.apache.spark.ml.param.Param.$minus$greater(params.scala:87)\n\tat org.apache.spark.ml.param.Param.w(params.scala:83)\n\tat sun.reflect.GeneratedMethodAccessor61.invoke(Unknown Source)\n\tat sun.reflect.DelegatingMethodAccessorImpl.invoke(DelegatingMethodAccessorImpl.java:43)\n\tat java.lang.reflect.Method.invoke(Method.java:498)\n\tat py4j.reflection.MethodInvoker.invoke(MethodInvoker.java:244)\n\tat py4j.reflection.ReflectionEngine.invoke(ReflectionEngine.java:357)\n\tat py4j.Gateway.invoke(Gateway.java:280)\n\tat py4j.commands.AbstractCommand.invokeMethod(AbstractCommand.java:132)\n\tat py4j.commands.CallCommand.execute(CallCommand.java:79)\n\tat py4j.GatewayConnection.run(GatewayConnection.java:214)\n\tat java.lang.Thread.run(Thread.java:748)\n",
      "\nDuring handling of the above exception, another exception occurred:\n",
      "\u001b[0;31mIllegalArgumentException\u001b[0m                  Traceback (most recent call last)",
      "\u001b[0;32m<ipython-input-61-ada8dfd324f4>\u001b[0m in \u001b[0;36m<module>\u001b[0;34m()\u001b[0m\n\u001b[1;32m      3\u001b[0m \u001b[0;34m\u001b[0m\u001b[0m\n\u001b[1;32m      4\u001b[0m \u001b[0;31m# FITTING!\u001b[0m\u001b[0;34m\u001b[0m\u001b[0;34m\u001b[0m\u001b[0m\n\u001b[0;32m----> 5\u001b[0;31m \u001b[0mpipelineModel_rt\u001b[0m \u001b[0;34m=\u001b[0m \u001b[0mpipeline_rt\u001b[0m\u001b[0;34m.\u001b[0m\u001b[0mfit\u001b[0m\u001b[0;34m(\u001b[0m\u001b[0mtrain\u001b[0m\u001b[0;34m)\u001b[0m\u001b[0;34m\u001b[0m\u001b[0m\n\u001b[0m\u001b[1;32m      6\u001b[0m \u001b[0;34m\u001b[0m\u001b[0m\n\u001b[1;32m      7\u001b[0m \u001b[0;31m# Making Predictions!\u001b[0m\u001b[0;34m\u001b[0m\u001b[0;34m\u001b[0m\u001b[0m\n",
      "\u001b[0;32m~/Documents/Spark/spark/lib/python3.6/site-packages/pyspark/ml/base.py\u001b[0m in \u001b[0;36mfit\u001b[0;34m(self, dataset, params)\u001b[0m\n\u001b[1;32m     62\u001b[0m                 \u001b[0;32mreturn\u001b[0m \u001b[0mself\u001b[0m\u001b[0;34m.\u001b[0m\u001b[0mcopy\u001b[0m\u001b[0;34m(\u001b[0m\u001b[0mparams\u001b[0m\u001b[0;34m)\u001b[0m\u001b[0;34m.\u001b[0m\u001b[0m_fit\u001b[0m\u001b[0;34m(\u001b[0m\u001b[0mdataset\u001b[0m\u001b[0;34m)\u001b[0m\u001b[0;34m\u001b[0m\u001b[0m\n\u001b[1;32m     63\u001b[0m             \u001b[0;32melse\u001b[0m\u001b[0;34m:\u001b[0m\u001b[0;34m\u001b[0m\u001b[0m\n\u001b[0;32m---> 64\u001b[0;31m                 \u001b[0;32mreturn\u001b[0m \u001b[0mself\u001b[0m\u001b[0;34m.\u001b[0m\u001b[0m_fit\u001b[0m\u001b[0;34m(\u001b[0m\u001b[0mdataset\u001b[0m\u001b[0;34m)\u001b[0m\u001b[0;34m\u001b[0m\u001b[0m\n\u001b[0m\u001b[1;32m     65\u001b[0m         \u001b[0;32melse\u001b[0m\u001b[0;34m:\u001b[0m\u001b[0;34m\u001b[0m\u001b[0m\n\u001b[1;32m     66\u001b[0m             raise ValueError(\"Params must be either a param map or a list/tuple of param maps, \"\n",
      "\u001b[0;32m~/Documents/Spark/spark/lib/python3.6/site-packages/pyspark/ml/pipeline.py\u001b[0m in \u001b[0;36m_fit\u001b[0;34m(self, dataset)\u001b[0m\n\u001b[1;32m    106\u001b[0m                     \u001b[0mdataset\u001b[0m \u001b[0;34m=\u001b[0m \u001b[0mstage\u001b[0m\u001b[0;34m.\u001b[0m\u001b[0mtransform\u001b[0m\u001b[0;34m(\u001b[0m\u001b[0mdataset\u001b[0m\u001b[0;34m)\u001b[0m\u001b[0;34m\u001b[0m\u001b[0m\n\u001b[1;32m    107\u001b[0m                 \u001b[0;32melse\u001b[0m\u001b[0;34m:\u001b[0m  \u001b[0;31m# must be an Estimator\u001b[0m\u001b[0;34m\u001b[0m\u001b[0m\n\u001b[0;32m--> 108\u001b[0;31m                     \u001b[0mmodel\u001b[0m \u001b[0;34m=\u001b[0m \u001b[0mstage\u001b[0m\u001b[0;34m.\u001b[0m\u001b[0mfit\u001b[0m\u001b[0;34m(\u001b[0m\u001b[0mdataset\u001b[0m\u001b[0;34m)\u001b[0m\u001b[0;34m\u001b[0m\u001b[0m\n\u001b[0m\u001b[1;32m    109\u001b[0m                     \u001b[0mtransformers\u001b[0m\u001b[0;34m.\u001b[0m\u001b[0mappend\u001b[0m\u001b[0;34m(\u001b[0m\u001b[0mmodel\u001b[0m\u001b[0;34m)\u001b[0m\u001b[0;34m\u001b[0m\u001b[0m\n\u001b[1;32m    110\u001b[0m                     \u001b[0;32mif\u001b[0m \u001b[0mi\u001b[0m \u001b[0;34m<\u001b[0m \u001b[0mindexOfLastEstimator\u001b[0m\u001b[0;34m:\u001b[0m\u001b[0;34m\u001b[0m\u001b[0m\n",
      "\u001b[0;32m~/Documents/Spark/spark/lib/python3.6/site-packages/pyspark/ml/base.py\u001b[0m in \u001b[0;36mfit\u001b[0;34m(self, dataset, params)\u001b[0m\n\u001b[1;32m     62\u001b[0m                 \u001b[0;32mreturn\u001b[0m \u001b[0mself\u001b[0m\u001b[0;34m.\u001b[0m\u001b[0mcopy\u001b[0m\u001b[0;34m(\u001b[0m\u001b[0mparams\u001b[0m\u001b[0;34m)\u001b[0m\u001b[0;34m.\u001b[0m\u001b[0m_fit\u001b[0m\u001b[0;34m(\u001b[0m\u001b[0mdataset\u001b[0m\u001b[0;34m)\u001b[0m\u001b[0;34m\u001b[0m\u001b[0m\n\u001b[1;32m     63\u001b[0m             \u001b[0;32melse\u001b[0m\u001b[0;34m:\u001b[0m\u001b[0;34m\u001b[0m\u001b[0m\n\u001b[0;32m---> 64\u001b[0;31m                 \u001b[0;32mreturn\u001b[0m \u001b[0mself\u001b[0m\u001b[0;34m.\u001b[0m\u001b[0m_fit\u001b[0m\u001b[0;34m(\u001b[0m\u001b[0mdataset\u001b[0m\u001b[0;34m)\u001b[0m\u001b[0;34m\u001b[0m\u001b[0m\n\u001b[0m\u001b[1;32m     65\u001b[0m         \u001b[0;32melse\u001b[0m\u001b[0;34m:\u001b[0m\u001b[0;34m\u001b[0m\u001b[0m\n\u001b[1;32m     66\u001b[0m             raise ValueError(\"Params must be either a param map or a list/tuple of param maps, \"\n",
      "\u001b[0;32m~/Documents/Spark/spark/lib/python3.6/site-packages/pyspark/ml/tuning.py\u001b[0m in \u001b[0;36m_fit\u001b[0;34m(self, dataset)\u001b[0m\n\u001b[1;32m    234\u001b[0m                 \u001b[0mmodel\u001b[0m \u001b[0;34m=\u001b[0m \u001b[0mmodels\u001b[0m\u001b[0;34m[\u001b[0m\u001b[0mj\u001b[0m\u001b[0;34m]\u001b[0m\u001b[0;34m\u001b[0m\u001b[0m\n\u001b[1;32m    235\u001b[0m                 \u001b[0;31m# TODO: duplicate evaluator to take extra params from input\u001b[0m\u001b[0;34m\u001b[0m\u001b[0;34m\u001b[0m\u001b[0m\n\u001b[0;32m--> 236\u001b[0;31m                 \u001b[0mmetric\u001b[0m \u001b[0;34m=\u001b[0m \u001b[0meva\u001b[0m\u001b[0;34m.\u001b[0m\u001b[0mevaluate\u001b[0m\u001b[0;34m(\u001b[0m\u001b[0mmodel\u001b[0m\u001b[0;34m.\u001b[0m\u001b[0mtransform\u001b[0m\u001b[0;34m(\u001b[0m\u001b[0mvalidation\u001b[0m\u001b[0;34m,\u001b[0m \u001b[0mepm\u001b[0m\u001b[0;34m[\u001b[0m\u001b[0mj\u001b[0m\u001b[0;34m]\u001b[0m\u001b[0;34m)\u001b[0m\u001b[0;34m)\u001b[0m\u001b[0;34m\u001b[0m\u001b[0m\n\u001b[0m\u001b[1;32m    237\u001b[0m                 \u001b[0mmetrics\u001b[0m\u001b[0;34m[\u001b[0m\u001b[0mj\u001b[0m\u001b[0;34m]\u001b[0m \u001b[0;34m+=\u001b[0m \u001b[0mmetric\u001b[0m\u001b[0;34m/\u001b[0m\u001b[0mnFolds\u001b[0m\u001b[0;34m\u001b[0m\u001b[0m\n\u001b[1;32m    238\u001b[0m \u001b[0;34m\u001b[0m\u001b[0m\n",
      "\u001b[0;32m~/Documents/Spark/spark/lib/python3.6/site-packages/pyspark/ml/evaluation.py\u001b[0m in \u001b[0;36mevaluate\u001b[0;34m(self, dataset, params)\u001b[0m\n\u001b[1;32m     67\u001b[0m                 \u001b[0;32mreturn\u001b[0m \u001b[0mself\u001b[0m\u001b[0;34m.\u001b[0m\u001b[0mcopy\u001b[0m\u001b[0;34m(\u001b[0m\u001b[0mparams\u001b[0m\u001b[0;34m)\u001b[0m\u001b[0;34m.\u001b[0m\u001b[0m_evaluate\u001b[0m\u001b[0;34m(\u001b[0m\u001b[0mdataset\u001b[0m\u001b[0;34m)\u001b[0m\u001b[0;34m\u001b[0m\u001b[0m\n\u001b[1;32m     68\u001b[0m             \u001b[0;32melse\u001b[0m\u001b[0;34m:\u001b[0m\u001b[0;34m\u001b[0m\u001b[0m\n\u001b[0;32m---> 69\u001b[0;31m                 \u001b[0;32mreturn\u001b[0m \u001b[0mself\u001b[0m\u001b[0;34m.\u001b[0m\u001b[0m_evaluate\u001b[0m\u001b[0;34m(\u001b[0m\u001b[0mdataset\u001b[0m\u001b[0;34m)\u001b[0m\u001b[0;34m\u001b[0m\u001b[0m\n\u001b[0m\u001b[1;32m     70\u001b[0m         \u001b[0;32melse\u001b[0m\u001b[0;34m:\u001b[0m\u001b[0;34m\u001b[0m\u001b[0m\n\u001b[1;32m     71\u001b[0m             \u001b[0;32mraise\u001b[0m \u001b[0mValueError\u001b[0m\u001b[0;34m(\u001b[0m\u001b[0;34m\"Params must be a param map but got %s.\"\u001b[0m \u001b[0;34m%\u001b[0m \u001b[0mtype\u001b[0m\u001b[0;34m(\u001b[0m\u001b[0mparams\u001b[0m\u001b[0;34m)\u001b[0m\u001b[0;34m)\u001b[0m\u001b[0;34m\u001b[0m\u001b[0m\n",
      "\u001b[0;32m~/Documents/Spark/spark/lib/python3.6/site-packages/pyspark/ml/evaluation.py\u001b[0m in \u001b[0;36m_evaluate\u001b[0;34m(self, dataset)\u001b[0m\n\u001b[1;32m     96\u001b[0m         \u001b[0;34m:\u001b[0m\u001b[0;32mreturn\u001b[0m\u001b[0;34m:\u001b[0m \u001b[0mevaluation\u001b[0m \u001b[0mmetric\u001b[0m\u001b[0;34m\u001b[0m\u001b[0m\n\u001b[1;32m     97\u001b[0m         \"\"\"\n\u001b[0;32m---> 98\u001b[0;31m         \u001b[0mself\u001b[0m\u001b[0;34m.\u001b[0m\u001b[0m_transfer_params_to_java\u001b[0m\u001b[0;34m(\u001b[0m\u001b[0;34m)\u001b[0m\u001b[0;34m\u001b[0m\u001b[0m\n\u001b[0m\u001b[1;32m     99\u001b[0m         \u001b[0;32mreturn\u001b[0m \u001b[0mself\u001b[0m\u001b[0;34m.\u001b[0m\u001b[0m_java_obj\u001b[0m\u001b[0;34m.\u001b[0m\u001b[0mevaluate\u001b[0m\u001b[0;34m(\u001b[0m\u001b[0mdataset\u001b[0m\u001b[0;34m.\u001b[0m\u001b[0m_jdf\u001b[0m\u001b[0;34m)\u001b[0m\u001b[0;34m\u001b[0m\u001b[0m\n\u001b[1;32m    100\u001b[0m \u001b[0;34m\u001b[0m\u001b[0m\n",
      "\u001b[0;32m~/Documents/Spark/spark/lib/python3.6/site-packages/pyspark/ml/wrapper.py\u001b[0m in \u001b[0;36m_transfer_params_to_java\u001b[0;34m(self)\u001b[0m\n\u001b[1;32m    122\u001b[0m         \u001b[0;32mfor\u001b[0m \u001b[0mparam\u001b[0m \u001b[0;32min\u001b[0m \u001b[0mself\u001b[0m\u001b[0;34m.\u001b[0m\u001b[0mparams\u001b[0m\u001b[0;34m:\u001b[0m\u001b[0;34m\u001b[0m\u001b[0m\n\u001b[1;32m    123\u001b[0m             \u001b[0;32mif\u001b[0m \u001b[0mparam\u001b[0m \u001b[0;32min\u001b[0m \u001b[0mparamMap\u001b[0m\u001b[0;34m:\u001b[0m\u001b[0;34m\u001b[0m\u001b[0m\n\u001b[0;32m--> 124\u001b[0;31m                 \u001b[0mpair\u001b[0m \u001b[0;34m=\u001b[0m \u001b[0mself\u001b[0m\u001b[0;34m.\u001b[0m\u001b[0m_make_java_param_pair\u001b[0m\u001b[0;34m(\u001b[0m\u001b[0mparam\u001b[0m\u001b[0;34m,\u001b[0m \u001b[0mparamMap\u001b[0m\u001b[0;34m[\u001b[0m\u001b[0mparam\u001b[0m\u001b[0;34m]\u001b[0m\u001b[0;34m)\u001b[0m\u001b[0;34m\u001b[0m\u001b[0m\n\u001b[0m\u001b[1;32m    125\u001b[0m                 \u001b[0mself\u001b[0m\u001b[0;34m.\u001b[0m\u001b[0m_java_obj\u001b[0m\u001b[0;34m.\u001b[0m\u001b[0mset\u001b[0m\u001b[0;34m(\u001b[0m\u001b[0mpair\u001b[0m\u001b[0;34m)\u001b[0m\u001b[0;34m\u001b[0m\u001b[0m\n\u001b[1;32m    126\u001b[0m \u001b[0;34m\u001b[0m\u001b[0m\n",
      "\u001b[0;32m~/Documents/Spark/spark/lib/python3.6/site-packages/pyspark/ml/wrapper.py\u001b[0m in \u001b[0;36m_make_java_param_pair\u001b[0;34m(self, param, value)\u001b[0m\n\u001b[1;32m    113\u001b[0m         \u001b[0mjava_param\u001b[0m \u001b[0;34m=\u001b[0m \u001b[0mself\u001b[0m\u001b[0;34m.\u001b[0m\u001b[0m_java_obj\u001b[0m\u001b[0;34m.\u001b[0m\u001b[0mgetParam\u001b[0m\u001b[0;34m(\u001b[0m\u001b[0mparam\u001b[0m\u001b[0;34m.\u001b[0m\u001b[0mname\u001b[0m\u001b[0;34m)\u001b[0m\u001b[0;34m\u001b[0m\u001b[0m\n\u001b[1;32m    114\u001b[0m         \u001b[0mjava_value\u001b[0m \u001b[0;34m=\u001b[0m \u001b[0m_py2java\u001b[0m\u001b[0;34m(\u001b[0m\u001b[0msc\u001b[0m\u001b[0;34m,\u001b[0m \u001b[0mvalue\u001b[0m\u001b[0;34m)\u001b[0m\u001b[0;34m\u001b[0m\u001b[0m\n\u001b[0;32m--> 115\u001b[0;31m         \u001b[0;32mreturn\u001b[0m \u001b[0mjava_param\u001b[0m\u001b[0;34m.\u001b[0m\u001b[0mw\u001b[0m\u001b[0;34m(\u001b[0m\u001b[0mjava_value\u001b[0m\u001b[0;34m)\u001b[0m\u001b[0;34m\u001b[0m\u001b[0m\n\u001b[0m\u001b[1;32m    116\u001b[0m \u001b[0;34m\u001b[0m\u001b[0m\n\u001b[1;32m    117\u001b[0m     \u001b[0;32mdef\u001b[0m \u001b[0m_transfer_params_to_java\u001b[0m\u001b[0;34m(\u001b[0m\u001b[0mself\u001b[0m\u001b[0;34m)\u001b[0m\u001b[0;34m:\u001b[0m\u001b[0;34m\u001b[0m\u001b[0m\n",
      "\u001b[0;32m~/Documents/Spark/spark/lib/python3.6/site-packages/py4j/java_gateway.py\u001b[0m in \u001b[0;36m__call__\u001b[0;34m(self, *args)\u001b[0m\n\u001b[1;32m   1131\u001b[0m         \u001b[0manswer\u001b[0m \u001b[0;34m=\u001b[0m \u001b[0mself\u001b[0m\u001b[0;34m.\u001b[0m\u001b[0mgateway_client\u001b[0m\u001b[0;34m.\u001b[0m\u001b[0msend_command\u001b[0m\u001b[0;34m(\u001b[0m\u001b[0mcommand\u001b[0m\u001b[0;34m)\u001b[0m\u001b[0;34m\u001b[0m\u001b[0m\n\u001b[1;32m   1132\u001b[0m         return_value = get_return_value(\n\u001b[0;32m-> 1133\u001b[0;31m             answer, self.gateway_client, self.target_id, self.name)\n\u001b[0m\u001b[1;32m   1134\u001b[0m \u001b[0;34m\u001b[0m\u001b[0m\n\u001b[1;32m   1135\u001b[0m         \u001b[0;32mfor\u001b[0m \u001b[0mtemp_arg\u001b[0m \u001b[0;32min\u001b[0m \u001b[0mtemp_args\u001b[0m\u001b[0;34m:\u001b[0m\u001b[0;34m\u001b[0m\u001b[0m\n",
      "\u001b[0;32m~/Documents/Spark/spark/lib/python3.6/site-packages/pyspark/sql/utils.py\u001b[0m in \u001b[0;36mdeco\u001b[0;34m(*a, **kw)\u001b[0m\n\u001b[1;32m     77\u001b[0m                 \u001b[0;32mraise\u001b[0m \u001b[0mQueryExecutionException\u001b[0m\u001b[0;34m(\u001b[0m\u001b[0ms\u001b[0m\u001b[0;34m.\u001b[0m\u001b[0msplit\u001b[0m\u001b[0;34m(\u001b[0m\u001b[0;34m': '\u001b[0m\u001b[0;34m,\u001b[0m \u001b[0;36m1\u001b[0m\u001b[0;34m)\u001b[0m\u001b[0;34m[\u001b[0m\u001b[0;36m1\u001b[0m\u001b[0;34m]\u001b[0m\u001b[0;34m,\u001b[0m \u001b[0mstackTrace\u001b[0m\u001b[0;34m)\u001b[0m\u001b[0;34m\u001b[0m\u001b[0m\n\u001b[1;32m     78\u001b[0m             \u001b[0;32mif\u001b[0m \u001b[0ms\u001b[0m\u001b[0;34m.\u001b[0m\u001b[0mstartswith\u001b[0m\u001b[0;34m(\u001b[0m\u001b[0;34m'java.lang.IllegalArgumentException: '\u001b[0m\u001b[0;34m)\u001b[0m\u001b[0;34m:\u001b[0m\u001b[0;34m\u001b[0m\u001b[0m\n\u001b[0;32m---> 79\u001b[0;31m                 \u001b[0;32mraise\u001b[0m \u001b[0mIllegalArgumentException\u001b[0m\u001b[0;34m(\u001b[0m\u001b[0ms\u001b[0m\u001b[0;34m.\u001b[0m\u001b[0msplit\u001b[0m\u001b[0;34m(\u001b[0m\u001b[0;34m': '\u001b[0m\u001b[0;34m,\u001b[0m \u001b[0;36m1\u001b[0m\u001b[0;34m)\u001b[0m\u001b[0;34m[\u001b[0m\u001b[0;36m1\u001b[0m\u001b[0;34m]\u001b[0m\u001b[0;34m,\u001b[0m \u001b[0mstackTrace\u001b[0m\u001b[0;34m)\u001b[0m\u001b[0;34m\u001b[0m\u001b[0m\n\u001b[0m\u001b[1;32m     80\u001b[0m             \u001b[0;32mraise\u001b[0m\u001b[0;34m\u001b[0m\u001b[0m\n\u001b[1;32m     81\u001b[0m     \u001b[0;32mreturn\u001b[0m \u001b[0mdeco\u001b[0m\u001b[0;34m\u001b[0m\u001b[0m\n",
      "\u001b[0;31mIllegalArgumentException\u001b[0m: 'BinaryClassificationEvaluator_4bea9ab0db57a8859ff3 parameter metricName given invalid value accuracy.'"
     ]
    }
   ],
   "source": [
    "# Creating Final pipeline object\n",
    "pipeline_rt = Pipeline(stages=[vectorAssembler_rt, featureIndexer_rt, cv_rt])\n",
    "\n",
    "# FITTING!\n",
    "pipelineModel_rt = pipeline_rt.fit(train)\n",
    "\n",
    "# Making Predictions!\n",
    "predictions_rt = pipelineModel_rt.transform(test)\n",
    "# predictions_dt.show()\n",
    "\n",
    "# Calculating metrics\n",
    "precision = evaluator_rt.evaluate(predictions_rt)\n",
    "\n",
    "print(\"Precision on our test set: %g\" % precision)\n",
    "\n",
    "df_to_plot_rt = predictions_rt.select('prediction', 'Daily return')\n",
    "\n",
    "df_to_plot_rt.show()\n",
    "\n",
    "import matplotlib.pyplot as plt_dt\n",
    "\n",
    "df_to_plot_rt = df_to_plot_rt.toPandas()\n",
    "plt_dt.figure(figsize=(14, 14))\n",
    "plt_dt.plot(df_to_plot_rt)\n",
    "plt_dt.legend(df_to_plot_rt.columns)\n",
    "plt_dt.show()"
   ]
  },
  {
   "cell_type": "code",
   "execution_count": null,
   "metadata": {
    "hideCode": false,
    "hidePrompt": false
   },
   "outputs": [],
   "source": []
  }
 ],
 "metadata": {
  "celltoolbar": "Hide code",
  "hide_code_all_hidden": false,
  "kernelspec": {
   "display_name": "Python 3",
   "language": "python",
   "name": "python3"
  },
  "language_info": {
   "codemirror_mode": {
    "name": "ipython",
    "version": 3
   },
   "file_extension": ".py",
   "mimetype": "text/x-python",
   "name": "python",
   "nbconvert_exporter": "python",
   "pygments_lexer": "ipython3",
   "version": "3.6.3"
  }
 },
 "nbformat": 4,
 "nbformat_minor": 2
}
