{
 "cells": [
  {
   "cell_type": "code",
   "execution_count": 89,
   "metadata": {
    "hideCode": false,
    "hidePrompt": false
   },
   "outputs": [
    {
     "data": {
      "text/plain": [
       "'2.2.0'"
      ]
     },
     "execution_count": 89,
     "metadata": {},
     "output_type": "execute_result"
    }
   ],
   "source": [
    "# Spark libs\n",
    "import findspark\n",
    "findspark.init()\n",
    "\n",
    "import pyspark\n",
    "from pyspark.sql import SparkSession\n",
    "from pyspark import SparkConf\n",
    "from pyspark.sql.window import Window\n",
    "import pyspark.sql.functions as func\n",
    "from pyspark.sql import functions as F\n",
    "from pyspark.sql.functions import col\n",
    "from pyspark.sql.functions import monotonically_increasing_id\n",
    "from pyspark import SQLContext\n",
    "from pyspark.mllib.evaluation import MulticlassMetrics\n",
    "from pyspark.ml.tuning import CrossValidator, ParamGridBuilder, TrainValidationSplit\n",
    "from pyspark.ml.evaluation import BinaryClassificationEvaluator\n",
    "from pyspark.ml.evaluation import MulticlassClassificationEvaluator\n",
    "from pyspark.sql.types import IntegerType\n",
    "from pyspark.sql.functions import udf\n",
    "from pyspark.sql.functions import lit\n",
    "from pyspark.ml import Pipeline\n",
    "from pyspark.ml.regression import DecisionTreeRegressor\n",
    "from pyspark.ml.feature import StringIndexer\n",
    "from pyspark.ml.evaluation import RegressionEvaluator\n",
    "from pyspark.ml.feature import VectorAssembler, VectorIndexer\n",
    "\n",
    "# Algos# Algorithm\n",
    "from pyspark.ml.classification import DecisionTreeClassifier\n",
    "from pyspark.ml.classification import RandomForestClassifier\n",
    "\n",
    "# Others\n",
    "import pandas as pd\n",
    "import numpy as np\n",
    "import datetime\n",
    "import time\n",
    "\n",
    "# Graphs libs\n",
    "import matplotlib.pyplot as plt\n",
    "import matplotlib.pyplot as plt_dt\n",
    "\n",
    "# Supress warnings\n",
    "import warnings\n",
    "warnings.simplefilter(action='ignore', category=FutureWarning)\n",
    "\n",
    "# S3 Service\n",
    "# import boto3\n",
    "# from io import StringIO\n",
    "\n",
    "# # Let's use Amazon S3\n",
    "# s3 = boto3.resource('s3')\n",
    "\n",
    "# Spark context simple configuration\n",
    "spark = SparkSession.builder.config(conf=SparkConf()).getOrCreate()\n",
    "\n",
    "spark.version"
   ]
  },
  {
   "cell_type": "code",
   "execution_count": 90,
   "metadata": {},
   "outputs": [],
   "source": [
    "import numpy as np\n",
    "\n",
    "from pyspark.ml.tuning import TrainValidationSplit, TrainValidationSplitModel\n",
    "from pyspark.sql.functions import rand\n",
    "from pandas import Series\n",
    "from sklearn.model_selection import TimeSeriesSplit\n",
    "\n",
    "\n",
    "class TrainValidationSplitSorted(TrainValidationSplit):\n",
    "\n",
    "    def _fit(self, dataset):\n",
    "        est = self.getOrDefault(self.estimator)\n",
    "        epm = self.getOrDefault(self.estimatorParamMaps)\n",
    "        numModels = len(epm)\n",
    "        eva = self.getOrDefault(self.evaluator)\n",
    "        tRatio = self.getOrDefault(self.trainRatio)\n",
    "        seed = self.getOrDefault(self.seed)\n",
    "        randCol = self.uid + \"_rand\"\n",
    "        df = dataset.select(\"*\", rand(seed).alias(randCol))\n",
    "        metrics = [0.0] * numModels\n",
    "        condition = (df[randCol] >= tRatio)\n",
    "        \n",
    "        value = 10\n",
    "        if df is not None:\n",
    "            df.show()\n",
    "        dfp = df.toPandas()\n",
    "        dfp = np.array_split(dfp, value)\n",
    "        train = spark.createDataFrame(data=dfp[0])\n",
    "        for i in range(1, value):\n",
    "            p = spark.createDataFrame(data=dfp[i])\n",
    "            train = train.union(p)\n",
    "                \n",
    "       \n",
    "        validation = spark.createDataFrame(data=dfp[i])\n",
    "        \n",
    "        validation = validation.sort(validation.id.asc())\n",
    "        train = train.sort(train.id.asc())\n",
    "        \n",
    "#         validation = df.filter(condition)\n",
    "#         train = df.filter(~condition)\n",
    "        \n",
    "        print(train)\n",
    "        train.show(20)\n",
    "        print ('#######################################################################')\n",
    "        validation.show(20)\n",
    "        models = est.fit(train, epm)\n",
    "        for j in range(numModels):\n",
    "            model = models[j]\n",
    "            metric = eva.evaluate(model.transform(validation, epm[j]))\n",
    "            metrics[j] += metric\n",
    "        if eva.isLargerBetter():\n",
    "            bestIndex = np.argmax(metrics)\n",
    "        else:\n",
    "            bestIndex = np.argmin(metrics)\n",
    "        bestModel = est.fit(dataset, epm[bestIndex])\n",
    "        return self._copyValues(TrainValidationSplitModel(bestModel, metrics))"
   ]
  },
  {
   "cell_type": "code",
   "execution_count": 91,
   "metadata": {
    "hideCode": false,
    "hidePrompt": false
   },
   "outputs": [],
   "source": [
    "OBV_i = False\n",
    "CCI_i = False\n",
    "RSI_i = False\n",
    "MACD_i = False\n",
    "ManualSplit = False\n",
    "Date_Convert = False\n",
    "\n",
    "DEBUG = False\n",
    "SORT = True\n",
    "CV = False\n",
    "\n",
    "DT = True\n",
    "\n",
    "RANDOM_SEED = 1"
   ]
  },
  {
   "cell_type": "code",
   "execution_count": 92,
   "metadata": {
    "hideCode": false,
    "hidePrompt": false
   },
   "outputs": [],
   "source": [
    "def features_from_OHLC(spark_df):\n",
    "    \"\"\" Generate features for a stock/index based on \n",
    "           historical price and performance\n",
    "    Args:\n",
    "        df (dataframe with columns \"Open\", \"Close\", \"High\", \n",
    "               \"Low\", \"Volume\", \"Adjusted Close\")\n",
    "    Returns:\n",
    "        dataframe, data set with new features\n",
    "    \"\"\"\n",
    "    df = spark_df\n",
    "    df = df.toPandas()\n",
    "\n",
    "    # 31 original features\n",
    "    # average price\n",
    "    df['avg_price_5'] = pd.rolling_mean(df['Close'], window=5).shift(1)\n",
    "    df['avg_price_30'] = pd.rolling_mean(df['Close'], window=21).shift(1)\n",
    "    df['avg_price_365'] = pd.rolling_mean(df['Close'], window=252).shift(1)\n",
    "    df['ratio_avg_price_5_30'] = df['avg_price_5'] / df['avg_price_30']\n",
    "    df['ratio_avg_price_5_365'] = df['avg_price_5'] / df['avg_price_365']\n",
    "    df['ratio_avg_price_30_365'] = df['avg_price_30'] / df['avg_price_365']\n",
    "    # average volume\n",
    "    df['avg_volume_5'] = pd.rolling_mean(df['Volume'], window=5).shift(1)\n",
    "    df['avg_volume_30'] = pd.rolling_mean(df['Volume'], window=21).shift(1)\n",
    "    df['avg_volume_365'] = pd.rolling_mean(df['Volume'], window=252).shift(1)\n",
    "    df['ratio_avg_volume_5_30'] = df['avg_volume_5'] / df['avg_volume_30']\n",
    "    df['ratio_avg_volume_5_365'] = df['avg_volume_5'] / df['avg_volume_365']\n",
    "    df['ratio_avg_volume_30_365'] = df['avg_volume_30'] / df['avg_volume_365']\n",
    "    # standard deviation of prices\n",
    "    df['std_price_5'] = pd.rolling_std(df['Close'], window=5).shift(1)\n",
    "    df['std_price_30'] = pd.rolling_std(df['Close'], window=21).shift(1)\n",
    "    df['std_price_365'] = pd.rolling_std(df['Close'], window=252).shift(1)\n",
    "    df['ratio_std_price_5_30'] = df['std_price_5'] / df['std_price_30']\n",
    "    df['ratio_std_price_5_365'] = df['std_price_5'] / df['std_price_365']\n",
    "    df['ratio_std_price_30_365'] = df['std_price_30'] / df['std_price_365']\n",
    "    # standard deviation of volumes\n",
    "    df['std_volume_5'] = pd.rolling_std(df['Volume'], window=5).shift(1)\n",
    "    df['std_volume_30'] = pd.rolling_std(df['Volume'], window=21).shift(1)\n",
    "    df['std_volume_365'] = pd.rolling_std(df['Volume'], window=252).shift(1)\n",
    "    df['ratio_std_volume_5_30'] = df['std_volume_5'] / df['std_volume_30']\n",
    "    df['ratio_std_volume_5_365'] = df['std_volume_5'] / df['std_volume_365']\n",
    "    df['ratio_std_volume_30_365'] = df['std_volume_30'] / df['std_volume_365']\n",
    "    # return\n",
    "    df['return_1'] = ((\n",
    "        df['Close'] - df['Close'].shift(1)) / df['Close'].shift(1)).shift(1)\n",
    "    df['return_5'] = ((\n",
    "        df['Close'] - df['Close'].shift(5)) / df['Close'].shift(5)).shift(1)\n",
    "    df['return_30'] = ((\n",
    "        df['Close'] - df['Close'].shift(21)) / df['Close'].shift(21)).shift(1)\n",
    "    df['return_365'] = ((df['Close'] - df['Close'].shift(252)) /\n",
    "                        df['Close'].shift(252)).shift(1)\n",
    "    df['moving_avg_5'] = pd.rolling_mean(df['return_1'], window=5)\n",
    "    df['moving_avg_30'] = pd.rolling_mean(df['return_1'], window=21)\n",
    "    df['moving_avg_365'] = pd.rolling_mean(df['return_1'], window=252)\n",
    "    df = df.dropna(axis=0)\n",
    "    result_df = spark.createDataFrame(df.round(3))\n",
    "    return result_df"
   ]
  },
  {
   "cell_type": "code",
   "execution_count": 93,
   "metadata": {
    "hideCode": false,
    "hideOutput": false,
    "hidePrompt": false
   },
   "outputs": [],
   "source": [
    "def RSI(dataframe, window_length, avg_type, column='Close'):\n",
    "    data = dataframe.toPandas()\n",
    "    # Get just the close\n",
    "    close = data['Close']\n",
    "    # Get the difference in price from previous step\n",
    "    delta = close.diff()\n",
    "    # Get rid of the first row, which is NaN since it did not have a previous\n",
    "    # row to calculate the differences\n",
    "    # Make the positive gains (up) and negative gains (down) Series\n",
    "    up, down = delta.copy(), delta.copy()\n",
    "    up[up < 0] = 0\n",
    "    down[down > 0] = 0\n",
    "    if avg_type == \"EWMA\":\n",
    "        roll_up = up.ewm(span=window_length, min_periods=window_length).mean()\n",
    "        roll_down = down.abs().ewm(\n",
    "            span=window_length, min_periods=window_length).mean()\n",
    "    elif avg_type == \"SMA\":\n",
    "        roll_up = pd.rolling_mean(up, window_length)\n",
    "        roll_down = pd.rolling_mean(down.abs(), window_length)\n",
    "    RS = roll_up / roll_down\n",
    "    RSI = 100.0 - (100.0 / (1.0 + RS))\n",
    "    RSI = pd.DataFrame({'RSI': RSI})\n",
    "    data = data.join(RSI)\n",
    "    result_df = spark.createDataFrame(data.round(3))\n",
    "    return result_df"
   ]
  },
  {
   "cell_type": "code",
   "execution_count": 94,
   "metadata": {
    "hideCode": false,
    "hidePrompt": false
   },
   "outputs": [],
   "source": [
    "# Commodity Channel Index\n",
    "def CCI(spark_df, ndays):\n",
    "    data = spark_df.toPandas()\n",
    "    TP = (data['High'] + data['Low'] + data['Close']) / 3\n",
    "    CCI = pd.Series(\n",
    "        (TP - pd.rolling_mean(TP, ndays)) /\n",
    "        (0.015 * pd.rolling_std(TP, ndays)),\n",
    "        name='CCI')\n",
    "    data = data.join(CCI)\n",
    "    result_df = spark.createDataFrame(data.round(3))\n",
    "    return result_df"
   ]
  },
  {
   "cell_type": "code",
   "execution_count": 95,
   "metadata": {
    "hideCode": false,
    "hidePrompt": false
   },
   "outputs": [],
   "source": [
    "# Moving average convergence divergence\n",
    "def MACD(dataframe, nfast=12, nslow=26, signal=9, column='Close'):\n",
    "    data = dataframe.toPandas()\n",
    "    # Get just the close\n",
    "    price = data[column]\n",
    "    # Get the difference in price from previous step\n",
    "    emaslow = pd.ewma(price, span=nslow, min_periods=1)\n",
    "    emafast = pd.ewma(price, span=nfast, min_periods=1)\n",
    "    #     MACD = pd.DataFrame({'MACD': emafast-emaslow, 'emaSlw': emaslow, 'emaFst': emafast})\n",
    "    MACD = pd.DataFrame({'MACD': emafast - emaslow})\n",
    "\n",
    "    data = data.join(MACD.round(3))\n",
    "    result_df = spark.createDataFrame(data)\n",
    "    return result_df"
   ]
  },
  {
   "cell_type": "code",
   "execution_count": 96,
   "metadata": {
    "hideCode": false,
    "hidePrompt": false
   },
   "outputs": [],
   "source": [
    "# UDF FUNCTIONS\n",
    "def profit_(today_price, previous_day_price):\n",
    "    if today_price - previous_day_price > 0:\n",
    "        return 1\n",
    "    else:\n",
    "        return 0\n",
    "\n",
    "profit_udf = udf(profit_, IntegerType())"
   ]
  },
  {
   "cell_type": "code",
   "execution_count": 97,
   "metadata": {
    "hideCode": false,
    "hidePrompt": false
   },
   "outputs": [
    {
     "data": {
      "text/plain": [
       "['Date', 'Open', 'High', 'Volume', 'Low', 'Close', 'id']"
      ]
     },
     "execution_count": 97,
     "metadata": {},
     "output_type": "execute_result"
    }
   ],
   "source": [
    "#Path to file with CSV\n",
    "\n",
    "# path_to_csv = \"s3://stocksets100/Orlen.csv\"\n",
    "path_to_csv = \"./Datasets/Orlen.csv\"\n",
    "\n",
    "fresh_df = spark.read.csv(path_to_csv, header=True, inferSchema=True)\n",
    "\n",
    "fresh_df = fresh_df.filter(fresh_df.Open != \"null\")\n",
    "\n",
    "temporary_df = fresh_df.select(\n",
    "    fresh_df[\"Date\"].cast(\"Date\"), fresh_df[\"Open\"].cast(\"float\"),\n",
    "    fresh_df[\"High\"].cast(\"float\"), fresh_df[\"Volume\"].cast(\"int\"),\n",
    "    fresh_df[\"Low\"].cast(\"float\"), fresh_df[\"Close\"].cast(\"float\"))\n",
    "\n",
    "# id\n",
    "temporary_df = temporary_df.select(\"*\").withColumn(\n",
    "    \"id\", monotonically_increasing_id())\n",
    "\n",
    "# featured_df = features_from_OHLC(temporary_df)\n",
    "featured_df = temporary_df\n",
    "featured_df.columns"
   ]
  },
  {
   "cell_type": "code",
   "execution_count": 98,
   "metadata": {
    "hideCode": false,
    "hidePrompt": false
   },
   "outputs": [],
   "source": [
    "# Creating new column with shifted Close price by 1 day\n",
    "df_daily_return = featured_df.withColumn('prev_day_price',\n",
    "                                         func.lag(featured_df['Close']).over(\n",
    "                                             Window.orderBy(\"id\")))\n",
    "\n",
    "df_daily_return = df_daily_return.filter(\n",
    "    df_daily_return.prev_day_price.isNotNull())\n",
    "\n",
    "# Profit label calculation\n",
    "# 1 if stock risen up, 0 is it went down\n",
    "df_profit = df_daily_return.withColumn(\n",
    "    'Profit', profit_udf(df_daily_return.Close,\n",
    "                         df_daily_return.prev_day_price))\n",
    "\n",
    "df_shifted_profit = df_profit.withColumn(\n",
    "    'Profit',\n",
    "    func.lag(df_profit['Profit'], count=-1).over(Window.orderBy(\"Date\")))\n",
    "\n",
    "final_df = df_shifted_profit.filter(df_shifted_profit.Profit.isNotNull())\n",
    "\n",
    "# Removing redudant columns\n",
    "final_df = final_df.drop(\"Daily return\")\n",
    "final_df = final_df.drop(\"prev_day_price\")\n",
    "\n",
    "# converted_df = converted_df.select(\"id\", 'Date', 'Open', 'High', 'Volume',\n",
    "#                                    'Low', 'Close', 'Profit')\n",
    "if DEBUG:\n",
    "    final_df.show(2)\n",
    "    \n",
    "converted_df = final_df"
   ]
  },
  {
   "cell_type": "code",
   "execution_count": 99,
   "metadata": {
    "hideCode": false,
    "hidePrompt": false
   },
   "outputs": [],
   "source": [
    "#Columns without Date\n",
    "# converted_df = converted_df.select(\n",
    "#     [col(c).cast('float') for c in converted_df.columns if c. not in {'Date'}])\n",
    "# Date column!\n",
    "df_date = converted_df.select(converted_df.Date)\n",
    "df_date = df_date.select(\"*\").withColumn(\"id\", monotonically_increasing_id())\n",
    "\n",
    "#Convert date to splitted format\n",
    "if Date_Convert:\n",
    "    split_col = pyspark.sql.functions.split(converted_df['Date'], '-')\n",
    "    converted_df = converted_df.withColumn('Year',\n",
    "                                           split_col.getItem(0).cast('int'))\n",
    "    converted_df = converted_df.withColumn('Month',\n",
    "                                           split_col.getItem(1).cast('int'))\n",
    "    converted_df = converted_df.withColumn('Day',\n",
    "                                           split_col.getItem(2).cast('int'))\n",
    "    if DEBUG:\n",
    "        converted_df.show()\n",
    "\n",
    "converted_df = converted_df.drop(\"Date\")"
   ]
  },
  {
   "cell_type": "code",
   "execution_count": 100,
   "metadata": {
    "hideCode": false,
    "hidePrompt": false
   },
   "outputs": [],
   "source": [
    "if MACD_i:\n",
    "    converted_df = MACD(converted_df)\n",
    "    converted_df = converted_df.select(\n",
    "        [col(c).cast('float') for c in converted_df.columns])\n",
    "    if DEBUG:\n",
    "        converted_df.show()"
   ]
  },
  {
   "cell_type": "code",
   "execution_count": 101,
   "metadata": {
    "hideCode": false,
    "hidePrompt": false
   },
   "outputs": [],
   "source": [
    "if CCI_i:\n",
    "    converted_df = CCI(converted_df, 14)\n",
    "    converted_df = converted_df.select(\n",
    "        [col(c).cast('float') for c in converted_df.columns])\n",
    "    converted_df = converted_df.filter(converted_df.CCI != \"NaN\")\n",
    "    if DEBUG:\n",
    "        converted_df.show()"
   ]
  },
  {
   "cell_type": "code",
   "execution_count": 102,
   "metadata": {
    "hideCode": false,
    "hidePrompt": false
   },
   "outputs": [],
   "source": [
    "# OBV indicator calculation\n",
    "if OBV_i:\n",
    "    temp_df = converted_df.toPandas()\n",
    "    df_obv = spark.createDataFrame(\n",
    "        temp_df.assign(OBV=(temp_df.Volume * (\n",
    "            ~temp_df.Close.diff().le(0) * 2 - 1)).cumsum()))\n",
    "    converted_df = df_obv.select(\n",
    "        [col(c).cast('float') for c in df_obv.columns])\n",
    "    if DEBUG:\n",
    "        converted_df.show()"
   ]
  },
  {
   "cell_type": "code",
   "execution_count": 103,
   "metadata": {
    "hideCode": false,
    "hidePrompt": false
   },
   "outputs": [],
   "source": [
    "#RSI indicator calculaction\n",
    "if RSI_i:\n",
    "    converted_df = RSI(converted_df, 3, 'SMA')\n",
    "    converted_df = converted_df.filter(converted_df.RSI != \"NaN\")\n",
    "    if DEBUG:\n",
    "        converted_df.show()"
   ]
  },
  {
   "cell_type": "code",
   "execution_count": 104,
   "metadata": {
    "hideCode": false,
    "hidePrompt": false
   },
   "outputs": [],
   "source": [
    "# if DEBUG:\n",
    "#     df_date = df_date.set_index('id')\n",
    "#     df_to_plot_dt = converted_df.select([\n",
    "#         c for c in converted_df.columns\n",
    "#         if c not in\n",
    "#         {'OBV', 'Volume', 'Low', 'High', 'Open', 'Profit', 'RSI', 'CCI'}\n",
    "#     ])\n",
    "#     df_to_plot_dt = df_to_plot_dt.withColumn('Zero',lit(0))\n",
    "#     df_to_plot_dt = df_to_plot_dt.toPandas()\n",
    "#     df_to_plot_dt = df_to_plot_dt.set_index('id')\n",
    "#     df_to_plot_dt = df_to_plot_dt.join(df_date)\n",
    "#     plt_dt.figure(figsize=(24, 10))\n",
    "#     plt_dt.plot(df_to_plot_dt.Date, df_to_plot_dt.Close,df_to_plot_dt.Zero )\n",
    "#     plt_dt.legend(df_to_plot_dt.columns)\n",
    "#     plt_dt.show()"
   ]
  },
  {
   "cell_type": "code",
   "execution_count": 105,
   "metadata": {
    "hideCode": false,
    "hidePrompt": false
   },
   "outputs": [
    {
     "name": "stdout",
     "output_type": "stream",
     "text": [
      "We have 1212 training examples and 149 test examples.\n"
     ]
    }
   ],
   "source": [
    "converted_df = converted_df.sort(converted_df.id.asc())\n",
    "\n",
    "# Manual split for training and validating data\n",
    "if ManualSplit:\n",
    "    dfp = converted_df.toPandas()\n",
    "\n",
    "    dfp = np.array_split(dfp, 10)\n",
    "\n",
    "    p0 = spark.createDataFrame(data=dfp[0])\n",
    "    p1 = spark.createDataFrame(data=dfp[1])\n",
    "    p2 = spark.createDataFrame(data=dfp[2])\n",
    "    p3 = spark.createDataFrame(data=dfp[3])\n",
    "    p4 = spark.createDataFrame(data=dfp[4])\n",
    "    p5 = spark.createDataFrame(data=dfp[5])\n",
    "    p6 = spark.createDataFrame(data=dfp[6])\n",
    "    p7 = spark.createDataFrame(data=dfp[7])\n",
    "    p8 = spark.createDataFrame(data=dfp[8])\n",
    "    p9 = spark.createDataFrame(data=dfp[9])\n",
    "\n",
    "    p_final = p0.union(p1).union(p2).union(p3).union(p4).union(p5).union(\n",
    "        p6).union(p7).union(p8)\n",
    "    train = p_final\n",
    "    test = p9\n",
    "    #     test = p9.head(10)\n",
    "    #     test = spark.createDataFrame(test)\n",
    "else:\n",
    "    train, test = converted_df.randomSplit([0.9, 0.1], seed=RANDOM_SEED)\n",
    "\n",
    "print(\"We have %d training examples and %d test examples.\" % (train.count(),\n",
    "                                                              test.count()))\n",
    "test = test.select([col(c).cast('float') for c in test.columns])\n",
    "\n",
    "train = train.select([col(c).cast('float') for c in train.columns])\n",
    "\n",
    "if SORT:\n",
    "    test = test.sort(test.id.asc())\n",
    "    train = train.sort(train.id.asc())\n",
    "\n",
    "if DEBUG:\n",
    "    train.show()"
   ]
  },
  {
   "cell_type": "code",
   "execution_count": 106,
   "metadata": {
    "hideCode": false,
    "hidePrompt": false
   },
   "outputs": [
    {
     "name": "stdout",
     "output_type": "stream",
     "text": [
      "['Open', 'High', 'Volume', 'Low', 'Close']\n"
     ]
    }
   ],
   "source": [
    "# Index labels, adding metadata to the label column.\n",
    "# Fit on whole dataset to include all labels in index.\n",
    "featuresCols = converted_df.columns\n",
    "featuresCols.remove('Profit')\n",
    "featuresCols.remove('id')\n",
    "\n",
    "print(featuresCols)\n",
    "\n",
    "# Vector Assembler\n",
    "# This concatenates all feature columns into a single feature vector in a new column \"rawFeatures\".\n",
    "# Used for assembling features into a vector.\n",
    "# We will pass all the columns that we are going to use for the prediction to the VectorAssembler and\n",
    "# it will create a new vector column.\n",
    "vectorAssembler_rt = VectorAssembler(\n",
    "    inputCols=featuresCols, outputCol=\"features\")\n",
    "\n",
    "# VectorIndexer:\n",
    "# is used to index categorical predictors in a featuresCol column.\n",
    "# Remember that featuresCol is a single column consisting of vectors (refer to featuresCol and labelCol).\n",
    "# Each row is a vector which contains values from each predictors.\n",
    "\n",
    "# featureIndexer_rt = VectorIndexer(\n",
    "#     inputCol=\"features\", outputCol=\"indexed\", maxCategories=len(featuresCols))\n",
    "\n"
   ]
  },
  {
   "cell_type": "code",
   "execution_count": 107,
   "metadata": {
    "hideCode": false,
    "hidePrompt": false
   },
   "outputs": [],
   "source": [
    "# Patrameters grid testing\n",
    "# rt = DecisionTreeClassifier(\n",
    "#     labelCol='Profit', featuresCol=\"features\", minInfoGain=0.01,  maxBins=200)\n",
    "\n",
    "rt = RandomForestClassifier(\n",
    "    labelCol='Profit', featuresCol=\"features\", numTrees=25, maxBins=300)\n",
    "\n",
    "max_Depth_Range = list(range(5, 15))\n",
    "min_InstancesPerNode = list(range(5, 15))\n",
    "\n",
    "paramGrid = ParamGridBuilder() \\\n",
    "    .addGrid(rt.maxDepth, max_Depth_Range) \\\n",
    "    .addGrid(rt.minInstancesPerNode, min_InstancesPerNode) \\\n",
    "    .addGrid(rt.maxMemoryInMB, [1000] ).build()\n",
    "\n",
    "# We define an evaluation metric. This tells CrossValidator how well we are doing by comparing the true\n",
    "# labels with predictions.\n",
    "\n",
    "multi = MulticlassClassificationEvaluator(\n",
    "    labelCol=rt.getLabelCol(),\n",
    "    metricName='accuracy',\n",
    "    predictionCol=rt.getPredictionCol())\n",
    "\n",
    "evaluator_rt = BinaryClassificationEvaluator(\n",
    "    labelCol=rt.getLabelCol(),\n",
    "    metricName='areaUnderROC',\n",
    "    rawPredictionCol=rt.getRawPredictionCol())\n",
    "\n",
    "evaluator_rt_PR = BinaryClassificationEvaluator(\n",
    "    labelCol=rt.getLabelCol(),\n",
    "    metricName='areaUnderPR',\n",
    "    rawPredictionCol=rt.getRawPredictionCol())\n",
    "\n",
    "# Declare the CrossValidator, which runs model tuning for us.\n",
    "if CV:\n",
    "    val = CrossValidator(\n",
    "        estimator=rt,\n",
    "        evaluator=multi,\n",
    "        estimatorParamMaps=paramGrid,\n",
    "        numFolds=2)\n",
    "else:\n",
    "    val = TrainValidationSplitSorted(\n",
    "        estimator=rt,\n",
    "        estimatorParamMaps=paramGrid,\n",
    "        evaluator=multi,\n",
    "        # 85% of the data will be used for training, 15% for validation.\n",
    "        trainRatio=0.85)"
   ]
  },
  {
   "cell_type": "code",
   "execution_count": 108,
   "metadata": {
    "hideCode": false,
    "hidePrompt": false
   },
   "outputs": [],
   "source": [
    "from pyspark.ml.classification import RandomForestClassificationModel\n",
    "\n",
    "RandomForestClassificationModel.getMaxDepth = (\n",
    "    lambda self: self._java_obj.getMaxDepth())\n",
    "\n",
    "RandomForestClassificationModel.getMinInstancesPerNode = (\n",
    "    lambda self: self._java_obj.getMinInstancesPerNode())"
   ]
  },
  {
   "cell_type": "code",
   "execution_count": 109,
   "metadata": {
    "hideCode": false,
    "hidePrompt": false
   },
   "outputs": [],
   "source": [
    "# if DEBUG:\n",
    "#     train.repartition(1).write.csv(\"PreProcessedSets/TrainSet_\" + str(time.mktime(datetime.datetime.today().timetuple())) + \"_.csv\", header = 'True')\n",
    "#     test.repartition(1).write.csv(\"PreProcessedSets/TestSet_\" + str(time.mktime(datetime.datetime.today().timetuple())) + \"_.csv\", header = 'True')"
   ]
  },
  {
   "cell_type": "code",
   "execution_count": 110,
   "metadata": {
    "hideCode": false,
    "hidePrompt": false
   },
   "outputs": [
    {
     "ename": "Py4JJavaError",
     "evalue": "An error occurred while calling o2315.showString.\n: java.lang.NullPointerException\n\tat org.apache.spark.sql.catalyst.expressions.GeneratedClass$SpecificUnsafeProjection.apply2_2$(Unknown Source)\n\tat org.apache.spark.sql.catalyst.expressions.GeneratedClass$SpecificUnsafeProjection.apply(Unknown Source)\n\tat org.apache.spark.sql.execution.TakeOrderedAndProjectExec$$anonfun$executeCollect$1.apply(limit.scala:136)\n\tat org.apache.spark.sql.execution.TakeOrderedAndProjectExec$$anonfun$executeCollect$1.apply(limit.scala:136)\n\tat scala.collection.TraversableLike$$anonfun$map$1.apply(TraversableLike.scala:234)\n\tat scala.collection.TraversableLike$$anonfun$map$1.apply(TraversableLike.scala:234)\n\tat scala.collection.IndexedSeqOptimized$class.foreach(IndexedSeqOptimized.scala:33)\n\tat scala.collection.mutable.ArrayOps$ofRef.foreach(ArrayOps.scala:186)\n\tat scala.collection.TraversableLike$class.map(TraversableLike.scala:234)\n\tat scala.collection.mutable.ArrayOps$ofRef.map(ArrayOps.scala:186)\n\tat org.apache.spark.sql.execution.TakeOrderedAndProjectExec.executeCollect(limit.scala:136)\n\tat org.apache.spark.sql.Dataset.org$apache$spark$sql$Dataset$$collectFromPlan(Dataset.scala:2853)\n\tat org.apache.spark.sql.Dataset$$anonfun$head$1.apply(Dataset.scala:2153)\n\tat org.apache.spark.sql.Dataset$$anonfun$head$1.apply(Dataset.scala:2153)\n\tat org.apache.spark.sql.Dataset$$anonfun$55.apply(Dataset.scala:2837)\n\tat org.apache.spark.sql.execution.SQLExecution$.withNewExecutionId(SQLExecution.scala:65)\n\tat org.apache.spark.sql.Dataset.withAction(Dataset.scala:2836)\n\tat org.apache.spark.sql.Dataset.head(Dataset.scala:2153)\n\tat org.apache.spark.sql.Dataset.take(Dataset.scala:2366)\n\tat org.apache.spark.sql.Dataset.showString(Dataset.scala:245)\n\tat sun.reflect.NativeMethodAccessorImpl.invoke0(Native Method)\n\tat sun.reflect.NativeMethodAccessorImpl.invoke(NativeMethodAccessorImpl.java:62)\n\tat sun.reflect.DelegatingMethodAccessorImpl.invoke(DelegatingMethodAccessorImpl.java:43)\n\tat java.lang.reflect.Method.invoke(Method.java:498)\n\tat py4j.reflection.MethodInvoker.invoke(MethodInvoker.java:244)\n\tat py4j.reflection.ReflectionEngine.invoke(ReflectionEngine.java:357)\n\tat py4j.Gateway.invoke(Gateway.java:280)\n\tat py4j.commands.AbstractCommand.invokeMethod(AbstractCommand.java:132)\n\tat py4j.commands.CallCommand.execute(CallCommand.java:79)\n\tat py4j.GatewayConnection.run(GatewayConnection.java:214)\n\tat java.lang.Thread.run(Thread.java:748)\n",
     "output_type": "error",
     "traceback": [
      "\u001b[0;31m---------------------------------------------------------------------------\u001b[0m",
      "\u001b[0;31mPy4JJavaError\u001b[0m                             Traceback (most recent call last)",
      "\u001b[0;32m<ipython-input-110-68103ac8b4d8>\u001b[0m in \u001b[0;36m<module>\u001b[0;34m()\u001b[0m\n\u001b[1;32m      3\u001b[0m \u001b[0;34m\u001b[0m\u001b[0m\n\u001b[1;32m      4\u001b[0m \u001b[0;31m# FITTING!\u001b[0m\u001b[0;34m\u001b[0m\u001b[0;34m\u001b[0m\u001b[0m\n\u001b[0;32m----> 5\u001b[0;31m \u001b[0mpipelineModel_rt\u001b[0m \u001b[0;34m=\u001b[0m \u001b[0mpipeline_rt\u001b[0m\u001b[0;34m.\u001b[0m\u001b[0mfit\u001b[0m\u001b[0;34m(\u001b[0m\u001b[0mtrain\u001b[0m\u001b[0;34m)\u001b[0m\u001b[0;34m\u001b[0m\u001b[0m\n\u001b[0m\u001b[1;32m      6\u001b[0m \u001b[0;34m\u001b[0m\u001b[0m\n\u001b[1;32m      7\u001b[0m \u001b[0;31m# Getting the Best Model\u001b[0m\u001b[0;34m\u001b[0m\u001b[0;34m\u001b[0m\u001b[0m\n",
      "\u001b[0;32m/opt/spark/python/pyspark/ml/base.py\u001b[0m in \u001b[0;36mfit\u001b[0;34m(self, dataset, params)\u001b[0m\n\u001b[1;32m     62\u001b[0m                 \u001b[0;32mreturn\u001b[0m \u001b[0mself\u001b[0m\u001b[0;34m.\u001b[0m\u001b[0mcopy\u001b[0m\u001b[0;34m(\u001b[0m\u001b[0mparams\u001b[0m\u001b[0;34m)\u001b[0m\u001b[0;34m.\u001b[0m\u001b[0m_fit\u001b[0m\u001b[0;34m(\u001b[0m\u001b[0mdataset\u001b[0m\u001b[0;34m)\u001b[0m\u001b[0;34m\u001b[0m\u001b[0m\n\u001b[1;32m     63\u001b[0m             \u001b[0;32melse\u001b[0m\u001b[0;34m:\u001b[0m\u001b[0;34m\u001b[0m\u001b[0m\n\u001b[0;32m---> 64\u001b[0;31m                 \u001b[0;32mreturn\u001b[0m \u001b[0mself\u001b[0m\u001b[0;34m.\u001b[0m\u001b[0m_fit\u001b[0m\u001b[0;34m(\u001b[0m\u001b[0mdataset\u001b[0m\u001b[0;34m)\u001b[0m\u001b[0;34m\u001b[0m\u001b[0m\n\u001b[0m\u001b[1;32m     65\u001b[0m         \u001b[0;32melse\u001b[0m\u001b[0;34m:\u001b[0m\u001b[0;34m\u001b[0m\u001b[0m\n\u001b[1;32m     66\u001b[0m             raise ValueError(\"Params must be either a param map or a list/tuple of param maps, \"\n",
      "\u001b[0;32m/opt/spark/python/pyspark/ml/pipeline.py\u001b[0m in \u001b[0;36m_fit\u001b[0;34m(self, dataset)\u001b[0m\n\u001b[1;32m    106\u001b[0m                     \u001b[0mdataset\u001b[0m \u001b[0;34m=\u001b[0m \u001b[0mstage\u001b[0m\u001b[0;34m.\u001b[0m\u001b[0mtransform\u001b[0m\u001b[0;34m(\u001b[0m\u001b[0mdataset\u001b[0m\u001b[0;34m)\u001b[0m\u001b[0;34m\u001b[0m\u001b[0m\n\u001b[1;32m    107\u001b[0m                 \u001b[0;32melse\u001b[0m\u001b[0;34m:\u001b[0m  \u001b[0;31m# must be an Estimator\u001b[0m\u001b[0;34m\u001b[0m\u001b[0m\n\u001b[0;32m--> 108\u001b[0;31m                     \u001b[0mmodel\u001b[0m \u001b[0;34m=\u001b[0m \u001b[0mstage\u001b[0m\u001b[0;34m.\u001b[0m\u001b[0mfit\u001b[0m\u001b[0;34m(\u001b[0m\u001b[0mdataset\u001b[0m\u001b[0;34m)\u001b[0m\u001b[0;34m\u001b[0m\u001b[0m\n\u001b[0m\u001b[1;32m    109\u001b[0m                     \u001b[0mtransformers\u001b[0m\u001b[0;34m.\u001b[0m\u001b[0mappend\u001b[0m\u001b[0;34m(\u001b[0m\u001b[0mmodel\u001b[0m\u001b[0;34m)\u001b[0m\u001b[0;34m\u001b[0m\u001b[0m\n\u001b[1;32m    110\u001b[0m                     \u001b[0;32mif\u001b[0m \u001b[0mi\u001b[0m \u001b[0;34m<\u001b[0m \u001b[0mindexOfLastEstimator\u001b[0m\u001b[0;34m:\u001b[0m\u001b[0;34m\u001b[0m\u001b[0m\n",
      "\u001b[0;32m/opt/spark/python/pyspark/ml/base.py\u001b[0m in \u001b[0;36mfit\u001b[0;34m(self, dataset, params)\u001b[0m\n\u001b[1;32m     62\u001b[0m                 \u001b[0;32mreturn\u001b[0m \u001b[0mself\u001b[0m\u001b[0;34m.\u001b[0m\u001b[0mcopy\u001b[0m\u001b[0;34m(\u001b[0m\u001b[0mparams\u001b[0m\u001b[0;34m)\u001b[0m\u001b[0;34m.\u001b[0m\u001b[0m_fit\u001b[0m\u001b[0;34m(\u001b[0m\u001b[0mdataset\u001b[0m\u001b[0;34m)\u001b[0m\u001b[0;34m\u001b[0m\u001b[0m\n\u001b[1;32m     63\u001b[0m             \u001b[0;32melse\u001b[0m\u001b[0;34m:\u001b[0m\u001b[0;34m\u001b[0m\u001b[0m\n\u001b[0;32m---> 64\u001b[0;31m                 \u001b[0;32mreturn\u001b[0m \u001b[0mself\u001b[0m\u001b[0;34m.\u001b[0m\u001b[0m_fit\u001b[0m\u001b[0;34m(\u001b[0m\u001b[0mdataset\u001b[0m\u001b[0;34m)\u001b[0m\u001b[0;34m\u001b[0m\u001b[0m\n\u001b[0m\u001b[1;32m     65\u001b[0m         \u001b[0;32melse\u001b[0m\u001b[0;34m:\u001b[0m\u001b[0;34m\u001b[0m\u001b[0m\n\u001b[1;32m     66\u001b[0m             raise ValueError(\"Params must be either a param map or a list/tuple of param maps, \"\n",
      "\u001b[0;32m<ipython-input-90-bd0b70ee0758>\u001b[0m in \u001b[0;36m_fit\u001b[0;34m(self, dataset)\u001b[0m\n\u001b[1;32m     23\u001b[0m         \u001b[0mvalue\u001b[0m \u001b[0;34m=\u001b[0m \u001b[0;36m10\u001b[0m\u001b[0;34m\u001b[0m\u001b[0m\n\u001b[1;32m     24\u001b[0m         \u001b[0;32mif\u001b[0m \u001b[0mdf\u001b[0m \u001b[0;32mis\u001b[0m \u001b[0;32mnot\u001b[0m \u001b[0;32mNone\u001b[0m\u001b[0;34m:\u001b[0m\u001b[0;34m\u001b[0m\u001b[0m\n\u001b[0;32m---> 25\u001b[0;31m             \u001b[0mdf\u001b[0m\u001b[0;34m.\u001b[0m\u001b[0mshow\u001b[0m\u001b[0;34m(\u001b[0m\u001b[0;34m)\u001b[0m\u001b[0;34m\u001b[0m\u001b[0m\n\u001b[0m\u001b[1;32m     26\u001b[0m         \u001b[0mdfp\u001b[0m \u001b[0;34m=\u001b[0m \u001b[0mdf\u001b[0m\u001b[0;34m.\u001b[0m\u001b[0mtoPandas\u001b[0m\u001b[0;34m(\u001b[0m\u001b[0;34m)\u001b[0m\u001b[0;34m\u001b[0m\u001b[0m\n\u001b[1;32m     27\u001b[0m         \u001b[0mdfp\u001b[0m \u001b[0;34m=\u001b[0m \u001b[0mnp\u001b[0m\u001b[0;34m.\u001b[0m\u001b[0marray_split\u001b[0m\u001b[0;34m(\u001b[0m\u001b[0mdfp\u001b[0m\u001b[0;34m,\u001b[0m \u001b[0mvalue\u001b[0m\u001b[0;34m)\u001b[0m\u001b[0;34m\u001b[0m\u001b[0m\n",
      "\u001b[0;32m/opt/spark/python/pyspark/sql/dataframe.py\u001b[0m in \u001b[0;36mshow\u001b[0;34m(self, n, truncate)\u001b[0m\n\u001b[1;32m    334\u001b[0m         \"\"\"\n\u001b[1;32m    335\u001b[0m         \u001b[0;32mif\u001b[0m \u001b[0misinstance\u001b[0m\u001b[0;34m(\u001b[0m\u001b[0mtruncate\u001b[0m\u001b[0;34m,\u001b[0m \u001b[0mbool\u001b[0m\u001b[0;34m)\u001b[0m \u001b[0;32mand\u001b[0m \u001b[0mtruncate\u001b[0m\u001b[0;34m:\u001b[0m\u001b[0;34m\u001b[0m\u001b[0m\n\u001b[0;32m--> 336\u001b[0;31m             \u001b[0mprint\u001b[0m\u001b[0;34m(\u001b[0m\u001b[0mself\u001b[0m\u001b[0;34m.\u001b[0m\u001b[0m_jdf\u001b[0m\u001b[0;34m.\u001b[0m\u001b[0mshowString\u001b[0m\u001b[0;34m(\u001b[0m\u001b[0mn\u001b[0m\u001b[0;34m,\u001b[0m \u001b[0;36m20\u001b[0m\u001b[0;34m)\u001b[0m\u001b[0;34m)\u001b[0m\u001b[0;34m\u001b[0m\u001b[0m\n\u001b[0m\u001b[1;32m    337\u001b[0m         \u001b[0;32melse\u001b[0m\u001b[0;34m:\u001b[0m\u001b[0;34m\u001b[0m\u001b[0m\n\u001b[1;32m    338\u001b[0m             \u001b[0mprint\u001b[0m\u001b[0;34m(\u001b[0m\u001b[0mself\u001b[0m\u001b[0;34m.\u001b[0m\u001b[0m_jdf\u001b[0m\u001b[0;34m.\u001b[0m\u001b[0mshowString\u001b[0m\u001b[0;34m(\u001b[0m\u001b[0mn\u001b[0m\u001b[0;34m,\u001b[0m \u001b[0mint\u001b[0m\u001b[0;34m(\u001b[0m\u001b[0mtruncate\u001b[0m\u001b[0;34m)\u001b[0m\u001b[0;34m)\u001b[0m\u001b[0;34m)\u001b[0m\u001b[0;34m\u001b[0m\u001b[0m\n",
      "\u001b[0;32m/opt/spark/python/lib/py4j-0.10.4-src.zip/py4j/java_gateway.py\u001b[0m in \u001b[0;36m__call__\u001b[0;34m(self, *args)\u001b[0m\n\u001b[1;32m   1131\u001b[0m         \u001b[0manswer\u001b[0m \u001b[0;34m=\u001b[0m \u001b[0mself\u001b[0m\u001b[0;34m.\u001b[0m\u001b[0mgateway_client\u001b[0m\u001b[0;34m.\u001b[0m\u001b[0msend_command\u001b[0m\u001b[0;34m(\u001b[0m\u001b[0mcommand\u001b[0m\u001b[0;34m)\u001b[0m\u001b[0;34m\u001b[0m\u001b[0m\n\u001b[1;32m   1132\u001b[0m         return_value = get_return_value(\n\u001b[0;32m-> 1133\u001b[0;31m             answer, self.gateway_client, self.target_id, self.name)\n\u001b[0m\u001b[1;32m   1134\u001b[0m \u001b[0;34m\u001b[0m\u001b[0m\n\u001b[1;32m   1135\u001b[0m         \u001b[0;32mfor\u001b[0m \u001b[0mtemp_arg\u001b[0m \u001b[0;32min\u001b[0m \u001b[0mtemp_args\u001b[0m\u001b[0;34m:\u001b[0m\u001b[0;34m\u001b[0m\u001b[0m\n",
      "\u001b[0;32m/opt/spark/python/pyspark/sql/utils.py\u001b[0m in \u001b[0;36mdeco\u001b[0;34m(*a, **kw)\u001b[0m\n\u001b[1;32m     61\u001b[0m     \u001b[0;32mdef\u001b[0m \u001b[0mdeco\u001b[0m\u001b[0;34m(\u001b[0m\u001b[0;34m*\u001b[0m\u001b[0ma\u001b[0m\u001b[0;34m,\u001b[0m \u001b[0;34m**\u001b[0m\u001b[0mkw\u001b[0m\u001b[0;34m)\u001b[0m\u001b[0;34m:\u001b[0m\u001b[0;34m\u001b[0m\u001b[0m\n\u001b[1;32m     62\u001b[0m         \u001b[0;32mtry\u001b[0m\u001b[0;34m:\u001b[0m\u001b[0;34m\u001b[0m\u001b[0m\n\u001b[0;32m---> 63\u001b[0;31m             \u001b[0;32mreturn\u001b[0m \u001b[0mf\u001b[0m\u001b[0;34m(\u001b[0m\u001b[0;34m*\u001b[0m\u001b[0ma\u001b[0m\u001b[0;34m,\u001b[0m \u001b[0;34m**\u001b[0m\u001b[0mkw\u001b[0m\u001b[0;34m)\u001b[0m\u001b[0;34m\u001b[0m\u001b[0m\n\u001b[0m\u001b[1;32m     64\u001b[0m         \u001b[0;32mexcept\u001b[0m \u001b[0mpy4j\u001b[0m\u001b[0;34m.\u001b[0m\u001b[0mprotocol\u001b[0m\u001b[0;34m.\u001b[0m\u001b[0mPy4JJavaError\u001b[0m \u001b[0;32mas\u001b[0m \u001b[0me\u001b[0m\u001b[0;34m:\u001b[0m\u001b[0;34m\u001b[0m\u001b[0m\n\u001b[1;32m     65\u001b[0m             \u001b[0ms\u001b[0m \u001b[0;34m=\u001b[0m \u001b[0me\u001b[0m\u001b[0;34m.\u001b[0m\u001b[0mjava_exception\u001b[0m\u001b[0;34m.\u001b[0m\u001b[0mtoString\u001b[0m\u001b[0;34m(\u001b[0m\u001b[0;34m)\u001b[0m\u001b[0;34m\u001b[0m\u001b[0m\n",
      "\u001b[0;32m/opt/spark/python/lib/py4j-0.10.4-src.zip/py4j/protocol.py\u001b[0m in \u001b[0;36mget_return_value\u001b[0;34m(answer, gateway_client, target_id, name)\u001b[0m\n\u001b[1;32m    317\u001b[0m                 raise Py4JJavaError(\n\u001b[1;32m    318\u001b[0m                     \u001b[0;34m\"An error occurred while calling {0}{1}{2}.\\n\"\u001b[0m\u001b[0;34m.\u001b[0m\u001b[0;34m\u001b[0m\u001b[0m\n\u001b[0;32m--> 319\u001b[0;31m                     format(target_id, \".\", name), value)\n\u001b[0m\u001b[1;32m    320\u001b[0m             \u001b[0;32melse\u001b[0m\u001b[0;34m:\u001b[0m\u001b[0;34m\u001b[0m\u001b[0m\n\u001b[1;32m    321\u001b[0m                 raise Py4JError(\n",
      "\u001b[0;31mPy4JJavaError\u001b[0m: An error occurred while calling o2315.showString.\n: java.lang.NullPointerException\n\tat org.apache.spark.sql.catalyst.expressions.GeneratedClass$SpecificUnsafeProjection.apply2_2$(Unknown Source)\n\tat org.apache.spark.sql.catalyst.expressions.GeneratedClass$SpecificUnsafeProjection.apply(Unknown Source)\n\tat org.apache.spark.sql.execution.TakeOrderedAndProjectExec$$anonfun$executeCollect$1.apply(limit.scala:136)\n\tat org.apache.spark.sql.execution.TakeOrderedAndProjectExec$$anonfun$executeCollect$1.apply(limit.scala:136)\n\tat scala.collection.TraversableLike$$anonfun$map$1.apply(TraversableLike.scala:234)\n\tat scala.collection.TraversableLike$$anonfun$map$1.apply(TraversableLike.scala:234)\n\tat scala.collection.IndexedSeqOptimized$class.foreach(IndexedSeqOptimized.scala:33)\n\tat scala.collection.mutable.ArrayOps$ofRef.foreach(ArrayOps.scala:186)\n\tat scala.collection.TraversableLike$class.map(TraversableLike.scala:234)\n\tat scala.collection.mutable.ArrayOps$ofRef.map(ArrayOps.scala:186)\n\tat org.apache.spark.sql.execution.TakeOrderedAndProjectExec.executeCollect(limit.scala:136)\n\tat org.apache.spark.sql.Dataset.org$apache$spark$sql$Dataset$$collectFromPlan(Dataset.scala:2853)\n\tat org.apache.spark.sql.Dataset$$anonfun$head$1.apply(Dataset.scala:2153)\n\tat org.apache.spark.sql.Dataset$$anonfun$head$1.apply(Dataset.scala:2153)\n\tat org.apache.spark.sql.Dataset$$anonfun$55.apply(Dataset.scala:2837)\n\tat org.apache.spark.sql.execution.SQLExecution$.withNewExecutionId(SQLExecution.scala:65)\n\tat org.apache.spark.sql.Dataset.withAction(Dataset.scala:2836)\n\tat org.apache.spark.sql.Dataset.head(Dataset.scala:2153)\n\tat org.apache.spark.sql.Dataset.take(Dataset.scala:2366)\n\tat org.apache.spark.sql.Dataset.showString(Dataset.scala:245)\n\tat sun.reflect.NativeMethodAccessorImpl.invoke0(Native Method)\n\tat sun.reflect.NativeMethodAccessorImpl.invoke(NativeMethodAccessorImpl.java:62)\n\tat sun.reflect.DelegatingMethodAccessorImpl.invoke(DelegatingMethodAccessorImpl.java:43)\n\tat java.lang.reflect.Method.invoke(Method.java:498)\n\tat py4j.reflection.MethodInvoker.invoke(MethodInvoker.java:244)\n\tat py4j.reflection.ReflectionEngine.invoke(ReflectionEngine.java:357)\n\tat py4j.Gateway.invoke(Gateway.java:280)\n\tat py4j.commands.AbstractCommand.invokeMethod(AbstractCommand.java:132)\n\tat py4j.commands.CallCommand.execute(CallCommand.java:79)\n\tat py4j.GatewayConnection.run(GatewayConnection.java:214)\n\tat java.lang.Thread.run(Thread.java:748)\n"
     ]
    }
   ],
   "source": [
    "# Creating Final pipeline object\n",
    "pipeline_rt = Pipeline(stages=[vectorAssembler_rt, val])\n",
    "\n",
    "# FITTING!\n",
    "pipelineModel_rt = pipeline_rt.fit(train)\n",
    "\n",
    "# Getting the Best Model\n",
    "best_classifier = pipelineModel_rt.stages[-1].bestModel"
   ]
  },
  {
   "cell_type": "code",
   "execution_count": null,
   "metadata": {
    "hideCode": false,
    "hidePrompt": false
   },
   "outputs": [],
   "source": [
    "# Feature importance\n",
    "print('Features importances' + str(best_classifier.featureImportances))\n",
    "final_features = best_classifier.featureImportances\n",
    "   \n",
    "for feature, importance in zip(featuresCols, final_features):\n",
    "    print(\"{} - {}\".format(feature, round(importance, 3)))"
   ]
  },
  {
   "cell_type": "code",
   "execution_count": null,
   "metadata": {
    "hideCode": false,
    "hidePrompt": false
   },
   "outputs": [],
   "source": [
    "# Model Parameters!\n",
    "# Max depth\n",
    "print(\"Maximal depth is \" + str(best_classifier.getMaxDepth()))\n",
    "max_depth = best_classifier.getMaxDepth()\n",
    "\n",
    "# Min instances\n",
    "print(\"Minimal instances per node is \" + str(\n",
    "    best_classifier.getMinInstancesPerNode()))\n",
    "min_instancesPerNode = best_classifier.getMinInstancesPerNode()\n",
    "\n",
    "# Making Predictions!\n",
    "predictions_rt = pipelineModel_rt.transform(test)"
   ]
  },
  {
   "cell_type": "code",
   "execution_count": null,
   "metadata": {
    "hideCode": false,
    "hidePrompt": false
   },
   "outputs": [],
   "source": [
    "# Accuracy\n",
    "accuracy = multi.evaluate(predictions_rt)\n",
    "print(\"Accuracy is equal to {}%\".format(round(accuracy, 3)))"
   ]
  },
  {
   "cell_type": "code",
   "execution_count": null,
   "metadata": {
    "hideCode": false,
    "hidePrompt": false
   },
   "outputs": [],
   "source": [
    "# Calculating metrics\n",
    "AreaUnderROC = evaluator_rt.evaluate(predictions_rt)\n",
    "print(\"AreaUnderROC on our test set: %g\" % AreaUnderROC)\n",
    "\n",
    "# Calculating metrics\n",
    "AreaUnderPR = evaluator_rt_PR.evaluate(predictions_rt)\n",
    "print(\"AreaUnderPR on our test set: %g\" % AreaUnderPR)\n",
    "\n",
    "#evaluate results\n",
    "testCount = predictions_rt.count()\n",
    "\n",
    "FP = predictions_rt.where(\"prediction = 1 AND Profit = 0\").count()\n",
    "FN = predictions_rt.where(\"prediction = 0 AND Profit = 1\").count()\n",
    "TP = predictions_rt.where(\"prediction = 1 AND Profit = 1\").count()\n",
    "TN = predictions_rt.where(\"prediction = 0 AND Profit = 0\").count()\n",
    "\n",
    "print(\"Count | FP | FN | TP | TN\")\n",
    "print(\n",
    "    str(testCount) + \" | \" + str(FP) + \" | \" + str(FN) + \" | \" + str(TP) +\n",
    "    \" | \" + str(TN))\n",
    "\n",
    "# predictions_rt.show()"
   ]
  },
  {
   "cell_type": "code",
   "execution_count": null,
   "metadata": {
    "hideCode": false,
    "hidePrompt": false
   },
   "outputs": [],
   "source": [
    "test = predictions_rt.toPandas()\n",
    "# csv_buffer = StringIO()\n",
    "# test.to_csv(csv_buffer)\n",
    "\n",
    "# s3_resource = boto3.resource('s3')\n",
    "\n",
    "# s3_resource.Object('logs102', 'DT_Final.csv').put(Body=csv_buffer.getvalue())\n",
    "\n",
    "if DEBUG != True:\n",
    "    df_to_plot_rt = predictions_rt.select('prediction', 'Profit')\n",
    "    print(df_to_plot_rt)\n",
    "    df_to_plot_rt = df_to_plot_rt.toPandas()\n",
    "    plt_dt.figure(figsize=(24, 3))\n",
    "    plt_dt.plot(df_to_plot_rt)\n",
    "    plt_dt.legend(df_to_plot_rt.columns)\n",
    "    plt_dt.show()\n",
    "    "
   ]
  },
  {
   "cell_type": "code",
   "execution_count": null,
   "metadata": {
    "hideCode": false,
    "hidePrompt": false
   },
   "outputs": [],
   "source": [
    "# final_model = pipelineModel_rt\n",
    "from random import *\n",
    "\n",
    "for i in range(30):\n",
    "    new_train, new_test = converted_df.randomSplit([0.1, 0.9], seed=i + 1)\n",
    "    new_test = new_test.sort(new_test.id.asc())\n",
    "\n",
    "    predictions = pipelineModel_rt.transform(new_test)\n",
    "\n",
    "    # Calculating metrics\n",
    "    AreaUnderROC = evaluator_rt.evaluate(predictions)\n",
    "    print(\"AreaUnderROC on our test set: %g\" % AreaUnderROC)\n",
    "\n",
    "    # Calculating metrics\n",
    "    AreaUnderPR = evaluator_rt_PR.evaluate(predictions)\n",
    "    print(\"AreaUnderPR on our test set: %g\" % AreaUnderPR)\n",
    "\n",
    "    # Accuracy\n",
    "    accuracy = multi.evaluate(predictions)\n",
    "    print(\"Accuracy is equal to {}%\".format(round(accuracy, 3)))\n",
    "\n",
    "    #evaluate results\n",
    "    testCount = predictions.count()\n",
    "\n",
    "    FP = predictions.where(\"prediction = 1 AND Profit = 0\").count()\n",
    "    FN = predictions.where(\"prediction = 0 AND Profit = 1\").count()   \n",
    "    TP = predictions.where(\"prediction = 1 AND Profit = 1\").count() \n",
    "    TN = predictions.where(\"prediction = 0 AND Profit = 0\").count()\n",
    "\n",
    "    print(\"Count | FP | FN | TP | TN\")\n",
    "    print(\n",
    "        str(testCount) + \" | \" + str(FP) + \" | \" + str(FN) + \" | \" + str(TP) +\n",
    "        \" | \" + str(TN))\n",
    "\n",
    "    print(\"####################################################\")"
   ]
  },
  {
   "cell_type": "code",
   "execution_count": null,
   "metadata": {
    "hideCode": false,
    "hidePrompt": false
   },
   "outputs": [],
   "source": []
  }
 ],
 "metadata": {
  "celltoolbar": "Hide code",
  "hide_code_all_hidden": false,
  "kernelspec": {
   "display_name": "Python 3",
   "language": "python",
   "name": "python3"
  },
  "language_info": {
   "codemirror_mode": {
    "name": "ipython",
    "version": 3
   },
   "file_extension": ".py",
   "mimetype": "text/x-python",
   "name": "python",
   "nbconvert_exporter": "python",
   "pygments_lexer": "ipython3",
   "version": "3.6.3"
  }
 },
 "nbformat": 4,
 "nbformat_minor": 2
}
