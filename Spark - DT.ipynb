{
 "cells": [
  {
   "cell_type": "code",
   "execution_count": null,
   "metadata": {
    "hideCode": false,
    "hidePrompt": false
   },
   "outputs": [],
   "source": [
    "import findspark\n",
    "findspark.init()\n",
    "import pyspark\n",
    "\n",
    "from pyspark.sql import SparkSession\n",
    "from pyspark import SparkConf\n",
    "\n",
    "from pyspark.ml import Pipeline\n",
    "from pyspark.ml.feature import VectorAssembler, VectorIndexer, StringIndexer\n",
    "from pyspark.ml.tuning import CrossValidator, ParamGridBuilder, TrainValidationSplit\n",
    "from pyspark.ml.evaluation import BinaryClassificationEvaluator, MulticlassClassificationEvaluator\n",
    "\n",
    "# Algorithms\n",
    "from pyspark.ml.classification import DecisionTreeClassifier\n",
    "from pyspark.ml.classification import RandomForestClassifier\n",
    "\n",
    "# Others\n",
    "import pandas as pd\n",
    "import numpy as np\n",
    "import datetime\n",
    "import time\n",
    "\n",
    "# Graphs libs\n",
    "import matplotlib.pyplot as plt\n",
    "\n",
    "# Supress warnings\n",
    "import warnings\n",
    "warnings.simplefilter(action='ignore', category=FutureWarning)\n",
    "warnings.simplefilter(action='ignore', category=UserWarning)\n",
    "\n",
    "# Spark context simple configuration\n",
    "spark = SparkSession.builder.config(conf=SparkConf()).getOrCreate()\n",
    "\n",
    "spark.version"
   ]
  },
  {
   "cell_type": "code",
   "execution_count": null,
   "metadata": {},
   "outputs": [],
   "source": [
    "%load_ext autoreload\n",
    "%autoreload 2\n",
    "\n",
    "from Helpers.technical_indicators import calc_ti\n",
    "from Helpers.generated_features import features_from_OHLC\n",
    "from Helpers.CustomTS import TrainValidationSplitSorted\n",
    "from Helpers.best_model_params import *\n",
    "\n",
    "from ProcessingData.processing import initial_processing, calc_profit, transform_date, train_test_split, complete_processing\n",
    "from Stats.measures import calc_metrics"
   ]
  },
  {
   "cell_type": "code",
   "execution_count": null,
   "metadata": {
    "hideCode": false,
    "hidePrompt": false
   },
   "outputs": [],
   "source": [
    "ManualSplit = True\n",
    "SORT = True\n",
    "CHUNKS = 10\n",
    "\n",
    "CV = False\n",
    "\n",
    "DEBUG = False\n",
    "RANDOM_SEED = 1"
   ]
  },
  {
   "cell_type": "code",
   "execution_count": null,
   "metadata": {
    "hideCode": false,
    "hidePrompt": false
   },
   "outputs": [],
   "source": [
    "# path_to_csv = \"s3://stocksets100/Orlen.csv\"\n",
    "path = \"./Datasets/KGHA.csv\"\n",
    "df = complete_processing(spark, path)"
   ]
  },
  {
   "cell_type": "code",
   "execution_count": null,
   "metadata": {
    "hideCode": false,
    "hidePrompt": false
   },
   "outputs": [],
   "source": [
    "train, test = train_test_split(spark, df, CHUNKS, SORT, ManualSplit, RANDOM_SEED)"
   ]
  },
  {
   "cell_type": "code",
   "execution_count": null,
   "metadata": {
    "hideCode": false,
    "hidePrompt": false
   },
   "outputs": [],
   "source": [
    "# Index labels, adding metadata to the label column.\n",
    "# Fit on whole dataset to include all labels in index.\n",
    "featuresCols = df.columns\n",
    "featuresCols.remove('Profit')\n",
    "featuresCols.remove('id')\n",
    "\n",
    "print(featuresCols)\n",
    "\n",
    "# Vector Assembler\n",
    "# This concatenates all feature columns into a single feature vector in a new column \"rawFeatures\".\n",
    "# Used for assembling features into a vector.\n",
    "# We will pass all the columns that we are going to use for the prediction to the VectorAssembler and\n",
    "# it will create a new vector column.\n",
    "vectorAssembler_rt = VectorAssembler(\n",
    "    inputCols=featuresCols, outputCol=\"features\")"
   ]
  },
  {
   "cell_type": "code",
   "execution_count": null,
   "metadata": {
    "hideCode": false,
    "hidePrompt": false
   },
   "outputs": [],
   "source": [
    "# Patrameters grid testing\n",
    "# rt = DecisionTreeClassifier(\n",
    "#     labelCol='Profit', featuresCol=\"features\", minInfoGain=0.01,  maxBins=200)\n",
    "\n",
    "rt = RandomForestClassifier(\n",
    "    labelCol='Profit', featuresCol=\"features\", numTrees=10, maxBins=300)\n",
    "\n",
    "max_Depth_Range = [3]\n",
    "min_InstancesPerNode = list(range(5, 15))\n",
    "\n",
    "paramGrid = ParamGridBuilder() \\\n",
    "    .addGrid(rt.maxDepth, max_Depth_Range) \\\n",
    "    .addGrid(rt.maxMemoryInMB, [1000] ).build()\n",
    "\n",
    "# We define an evaluation metric. This tells Validator how well we are doing by comparing the true\n",
    "# labels with predictions.\n",
    "\n",
    "evaluator = MulticlassClassificationEvaluator(\n",
    "    labelCol=rt.getLabelCol(),\n",
    "    metricName='accuracy',\n",
    "    predictionCol=rt.getPredictionCol())"
   ]
  },
  {
   "cell_type": "code",
   "execution_count": null,
   "metadata": {
    "hideCode": false,
    "hidePrompt": false
   },
   "outputs": [],
   "source": [
    "# Declare the CrossValidator, which runs model tuning for us.\n",
    "if CV:\n",
    "    val = CrossValidator(\n",
    "        estimator=rt,\n",
    "        evaluator=multi,\n",
    "        estimatorParamMaps=paramGrid,\n",
    "        numFolds=2)\n",
    "else:\n",
    "    val = TrainValidationSplitSorted(\n",
    "        chunks = CHUNKS,\n",
    "        spark = spark,\n",
    "        estimator=rt,\n",
    "        estimatorParamMaps=paramGrid,\n",
    "        evaluator=multi)"
   ]
  },
  {
   "cell_type": "code",
   "execution_count": null,
   "metadata": {
    "hideCode": false,
    "hidePrompt": false
   },
   "outputs": [],
   "source": [
    "# Creating Final pipeline object\n",
    "pipeline_rt = Pipeline(stages=[vectorAssembler_rt, val])\n",
    "\n",
    "# FITTING!\n",
    "pipelineModel_rt = pipeline_rt.fit(train)\n",
    "\n",
    "# Getting the Best Model\n",
    "best_classifier = pipelineModel_rt.stages[-1].bestModel"
   ]
  },
  {
   "cell_type": "code",
   "execution_count": null,
   "metadata": {
    "hideCode": false,
    "hidePrompt": false
   },
   "outputs": [],
   "source": [
    "# Feature importance\n",
    "print('Features importances' + str(best_classifier.featureImportances))\n",
    "final_features = best_classifier.featureImportances\n",
    "   \n",
    "for feature, importance in zip(featuresCols, final_features):\n",
    "    print(\"{} - {}\".format(feature, round(importance, 3)))"
   ]
  },
  {
   "cell_type": "code",
   "execution_count": null,
   "metadata": {
    "hideCode": false,
    "hidePrompt": false
   },
   "outputs": [],
   "source": [
    "# Making Predictions!\n",
    "predictions = pipelineModel_rt.transform(test)"
   ]
  },
  {
   "cell_type": "code",
   "execution_count": null,
   "metadata": {
    "hideCode": false,
    "hidePrompt": false
   },
   "outputs": [],
   "source": [
    "#evaluate results\n",
    "calc_metrics(predictions)"
   ]
  },
  {
   "cell_type": "code",
   "execution_count": null,
   "metadata": {
    "hideCode": false,
    "hidePrompt": false
   },
   "outputs": [],
   "source": [
    "if DEBUG != True:\n",
    "    df_to_plot_rt = predictions_rt.select('prediction', 'Profit')\n",
    "    print(df_to_plot_rt)\n",
    "    df_to_plot_rt = df_to_plot_rt.toPandas()\n",
    "    plt_dt.figure(figsize=(24, 3))\n",
    "    plt_dt.plot(df_to_plot_rt)\n",
    "    plt_dt.legend(df_to_plot_rt.columns)\n",
    "    plt_dt.show()"
   ]
  },
  {
   "cell_type": "code",
   "execution_count": null,
   "metadata": {
    "hideCode": false,
    "hidePrompt": false
   },
   "outputs": [],
   "source": [
    "# final_model = pipelineModel_rt\n",
    "from random import *\n",
    "\n",
    "for i in range(30):\n",
    "    new_train, new_test = converted_df.randomSplit([0.1, 0.9], seed=i + 1)\n",
    "    new_test = new_test.sort(new_test.id.asc())\n",
    "\n",
    "    predictions = pipelineModel_rt.transform(new_test)\n",
    "\n",
    "    # Calculating metrics\n",
    "    AreaUnderROC = evaluator_rt.evaluate(predictions)\n",
    "    print(\"AreaUnderROC on our test set: %g\" % AreaUnderROC)\n",
    "\n",
    "    # Calculating metrics\n",
    "    AreaUnderPR = evaluator_rt_PR.evaluate(predictions)\n",
    "    print(\"AreaUnderPR on our test set: %g\" % AreaUnderPR)\n",
    "\n",
    "    # Accuracy\n",
    "    accuracy = multi.evaluate(predictions)\n",
    "    print(\"Accuracy is equal to {}%\".format(round(accuracy, 3)))\n",
    "\n",
    "    #evaluate results\n",
    "    testCount = predictions.count()\n",
    "\n",
    "    FP = predictions.where(\"prediction = 1 AND Profit = 0\").count()\n",
    "    FN = predictions.where(\"prediction = 0 AND Profit = 1\").count()   \n",
    "    TP = predictions.where(\"prediction = 1 AND Profit = 1\").count() \n",
    "    TN = predictions.where(\"prediction = 0 AND Profit = 0\").count()\n",
    "\n",
    "    print(\"Count | FP | FN | TP | TN\")\n",
    "    print(\n",
    "        str(testCount) + \" | \" + str(FP) + \" | \" + str(FN) + \" | \" + str(TP) +\n",
    "        \" | \" + str(TN))\n",
    "\n",
    "    print(\"####################################################\")"
   ]
  },
  {
   "cell_type": "code",
   "execution_count": null,
   "metadata": {
    "hideCode": false,
    "hidePrompt": false
   },
   "outputs": [],
   "source": []
  }
 ],
 "metadata": {
  "celltoolbar": "Hide code",
  "hide_code_all_hidden": false,
  "kernelspec": {
   "display_name": "Python 3",
   "language": "python",
   "name": "python3"
  },
  "language_info": {
   "codemirror_mode": {
    "name": "ipython",
    "version": 3
   },
   "file_extension": ".py",
   "mimetype": "text/x-python",
   "name": "python",
   "nbconvert_exporter": "python",
   "pygments_lexer": "ipython3",
   "version": "3.5.2"
  }
 },
 "nbformat": 4,
 "nbformat_minor": 2
}
