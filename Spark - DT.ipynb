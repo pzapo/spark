{
 "cells": [
  {
   "cell_type": "code",
   "execution_count": 1,
   "metadata": {
    "hideCode": false,
    "hidePrompt": false
   },
   "outputs": [
    {
     "data": {
      "text/plain": [
       "'2.2.0'"
      ]
     },
     "execution_count": 1,
     "metadata": {},
     "output_type": "execute_result"
    }
   ],
   "source": [
    "import findspark\n",
    "findspark.init()\n",
    "import pyspark\n",
    "\n",
    "from pyspark.sql import SparkSession\n",
    "from pyspark import SparkConf\n",
    "\n",
    "from pyspark.ml import Pipeline\n",
    "from pyspark.ml.feature import VectorAssembler, VectorIndexer, StringIndexer, Normalizer, StandardScaler, MaxAbsScaler\n",
    "from pyspark.ml.tuning import CrossValidator, ParamGridBuilder, TrainValidationSplit\n",
    "from pyspark.ml.evaluation import BinaryClassificationEvaluator, MulticlassClassificationEvaluator\n",
    "\n",
    "\n",
    "# Algorithms\n",
    "from pyspark.ml.classification import DecisionTreeClassifier, LinearSVC, RandomForestClassifier\n",
    "\n",
    "\n",
    "# Others\n",
    "from collections import OrderedDict\n",
    "\n",
    "# Graphs libs\n",
    "import matplotlib.pyplot as plt\n",
    "\n",
    "# Supress warnings\n",
    "import warnings\n",
    "warnings.simplefilter(action='ignore', category=FutureWarning)\n",
    "warnings.simplefilter(action='ignore', category=UserWarning)\n",
    "\n",
    "# Spark context simple configuration\n",
    "spark = SparkSession.builder.config(conf=SparkConf()).getOrCreate()\n",
    "\n",
    "spark.version\n"
   ]
  },
  {
   "cell_type": "code",
   "execution_count": 2,
   "metadata": {},
   "outputs": [],
   "source": [
    "%load_ext autoreload\n",
    "%autoreload 2\n",
    "\n",
    "from Helpers.technical_indicators import calc_ti\n",
    "from Helpers.generated_features import features_from_OHLC\n",
    "from Helpers.CustomTS import TrainValidationSplitSorted\n",
    "from Helpers.best_model_params import *\n",
    "\n",
    "from ProcessingData.processing import initial_processing, calc_profit, transform_date, train_test_split, complete_processing\n",
    "from Stats.measures import calc_metrics"
   ]
  },
  {
   "cell_type": "code",
   "execution_count": 3,
   "metadata": {
    "hideCode": false,
    "hidePrompt": false
   },
   "outputs": [],
   "source": [
    "ManualSplit = True\n",
    "SORT = True\n",
    "CHUNKS = 10\n",
    "\n",
    "CV = False\n",
    "\n",
    "DEBUG = False\n",
    "RANDOM_SEED = 1"
   ]
  },
  {
   "cell_type": "code",
   "execution_count": 4,
   "metadata": {
    "hideCode": false,
    "hidePrompt": false
   },
   "outputs": [
    {
     "name": "stdout",
     "output_type": "stream",
     "text": [
      "We have 1211 training examples and 134 test examples. \n",
      "\n"
     ]
    }
   ],
   "source": [
    "# path_to_csv = \"s3://stocksets100/Orlen.csv\"\n",
    "path = \"./Datasets/Orlen.csv\"\n",
    "df = complete_processing(spark, path)\n",
    "\n",
    "train, test = train_test_split(spark, df, CHUNKS, SORT, ManualSplit, RANDOM_SEED)"
   ]
  },
  {
   "cell_type": "code",
   "execution_count": 5,
   "metadata": {
    "hideCode": false,
    "hidePrompt": false
   },
   "outputs": [
    {
     "name": "stdout",
     "output_type": "stream",
     "text": [
      "['Volume', 'MACD', 'CCI', 'OBV', 'RSI']\n"
     ]
    }
   ],
   "source": [
    "# Index labels, adding metadata to the label column.\n",
    "# Fit on whole dataset to include all labels in index.\n",
    "featuresCols = df.columns\n",
    "featuresCols.remove('Profit')\n",
    "featuresCols.remove('id')\n",
    "print(featuresCols)"
   ]
  },
  {
   "cell_type": "code",
   "execution_count": 6,
   "metadata": {
    "hideCode": false,
    "hidePrompt": false
   },
   "outputs": [],
   "source": [
    "# Patrameters grid testing\n",
    "# classifier = DecisionTreeClassifier(\n",
    "#     labelCol='Profit', featuresCol=\"features\", minInfoGain=0.01,  maxBins=200)\n",
    "\n",
    "classifier = RandomForestClassifier(\n",
    "    labelCol='Profit', featuresCol=\"features\", numTrees=50, maxBins=100)\n",
    "max_Depth_Range = [2]\n",
    "min_InstancesPerNode = list(range(5, 15))\n",
    "paramGrid = ParamGridBuilder() \\\n",
    "    .addGrid(classifier.maxDepth, max_Depth_Range).build() \\\n",
    "\n",
    "# classifier = LinearSVC(regParam=0.5, labelCol='Profit', featuresCol=\"features\")\n",
    "# max_Iter= [10]\n",
    "# paramGrid = ParamGridBuilder() \\\n",
    "#     .addGrid(classifier.maxIter, max_Iter).build()\n",
    "\n",
    "# We define an evaluation metric. This tells Validator how well we are doing by comparing the true\n",
    "# labels with predictions.\n",
    "\n",
    "evaluator = MulticlassClassificationEvaluator(\n",
    "    labelCol=classifier.getLabelCol(),\n",
    "    metricName='accuracy',\n",
    "    predictionCol=classifier.getPredictionCol())"
   ]
  },
  {
   "cell_type": "code",
   "execution_count": 7,
   "metadata": {
    "hideCode": false,
    "hidePrompt": false
   },
   "outputs": [],
   "source": [
    "# Declare the CrossValidator, which runs model tuning for us.\n",
    "if CV:\n",
    "    validator = CrossValidator(\n",
    "        estimator=classifier,\n",
    "        evaluator=multi,\n",
    "        estimatorParamMaps=paramGrid,\n",
    "        numFolds=2)\n",
    "else:\n",
    "    validator = TrainValidationSplitSorted(\n",
    "        chunks=CHUNKS,\n",
    "        spark=spark,\n",
    "        estimator=classifier,\n",
    "        estimatorParamMaps=paramGrid,\n",
    "        evaluator=evaluator)"
   ]
  },
  {
   "cell_type": "code",
   "execution_count": 8,
   "metadata": {},
   "outputs": [],
   "source": [
    "scaler = None\n",
    "# scaler = Normalizer(inputCol=\"features\", outputCol=\"features\", p=1.0)\n",
    "# scaler = StandardScaler(inputCol=\"rawFeatures\", outputCol='features', withMean=True, withStd=True)\n",
    "# scaler = MaxAbsScaler(inputCol=\"rawFeatures\", outputCol=\"features\")"
   ]
  },
  {
   "cell_type": "code",
   "execution_count": 9,
   "metadata": {
    "hideCode": false,
    "hidePrompt": false
   },
   "outputs": [],
   "source": [
    "# Vector Assembler\n",
    "# This concatenates all feature columns into a single feature vector in a new column \"rawFeatures\".\n",
    "# Used for assembling features into a vector.\n",
    "# We will pass all the columns that we are going to use for the prediction to the VectorAssembler and\n",
    "# it will create a new vector column.\n",
    "# Creating Final pipeline object\n",
    "if scaler is not None:\n",
    "    vectorAssembler_rt = VectorAssembler(\n",
    "    inputCols=featuresCols, outputCol=\"rawfeatures\")\n",
    "    pipeline = Pipeline(stages=[vectorAssembler_rt,scaler, validator])\n",
    "else:\n",
    "    vectorAssembler_rt = VectorAssembler(\n",
    "    inputCols=featuresCols, outputCol=\"features\")\n",
    "    pipeline = Pipeline(stages=[vectorAssembler_rt, validator])"
   ]
  },
  {
   "cell_type": "code",
   "execution_count": 10,
   "metadata": {
    "hideCode": false,
    "hidePrompt": false
   },
   "outputs": [],
   "source": [
    "# FITTING!\n",
    "pipelineModel = pipeline.fit(train)\n",
    "\n",
    "# Getting the Best Model\n",
    "best_classifier = pipelineModel.stages[-1].bestModel"
   ]
  },
  {
   "cell_type": "code",
   "execution_count": 11,
   "metadata": {
    "hideCode": false,
    "hidePrompt": false
   },
   "outputs": [
    {
     "name": "stdout",
     "output_type": "stream",
     "text": [
      "1 ; Volume ; 0.642\n",
      "2 ; MACD ; 0.15\n",
      "3 ; OBV ; 0.09\n",
      "4 ; RSI ; 0.072\n",
      "5 ; CCI ; 0.046\n"
     ]
    }
   ],
   "source": [
    "# Feature importance\n",
    "final_features = best_classifier.featureImportances\n",
    "\n",
    "feature_dict = {}\n",
    "for feature, importance in zip(featuresCols, final_features):\n",
    "    feature_dict[feature] = importance\n",
    "\n",
    "feature_dict = OrderedDict(sorted(feature_dict.items(), key=lambda t: t[1], reverse=True)) \n",
    "\n",
    "i = 1\n",
    "for feature, importance in feature_dict.items():\n",
    "    print(\"{} ; {} ; {}\".format(i, feature, round(importance, 3)))\n",
    "    i+=1"
   ]
  },
  {
   "cell_type": "code",
   "execution_count": 12,
   "metadata": {
    "hideCode": false,
    "hidePrompt": false
   },
   "outputs": [],
   "source": [
    "# Making Predictions!\n",
    "predictions = pipelineModel.transform(test)"
   ]
  },
  {
   "cell_type": "code",
   "execution_count": 13,
   "metadata": {
    "hideCode": false,
    "hidePrompt": false
   },
   "outputs": [
    {
     "name": "stdout",
     "output_type": "stream",
     "text": [
      "Summary Stats\n",
      "DenseMatrix([[ 23.,  47.],\n",
      "             [  4.,  60.]])\n",
      "Accuracy = 0.6194\n",
      "Recall = 0.6194\n",
      "F1 Score = 0.6194\n",
      "+------+------+------+------+--------+-------+------+--------------------+--------------------+--------------------+----------+\n",
      "|Volume|    id|Profit|  MACD|     CCI|    OBV|   RSI|            features|       rawPrediction|         probability|prediction|\n",
      "+------+------+------+------+--------+-------+------+--------------------+--------------------+--------------------+----------+\n",
      "|   5.0|1228.0|   1.0| 0.785|  97.708|24057.0|63.352|[5.0,0.785,97.708...|[26.5225222145962...|[0.53045044429192...|       0.0|\n",
      "|   0.0|1229.0|   1.0| 0.801|   88.15|24057.0|68.631|[0.0,0.801,88.15,...|[21.5383210929688...|[0.43076642185937...|       1.0|\n",
      "| 100.0|1230.0|   0.0| 1.051| 166.881|24157.0|97.778|[100.0,1.051,166....|[37.9994576702553...|[0.75998915340510...|       0.0|\n",
      "|   0.0|1231.0|   1.0| 1.112| 114.067|24157.0|50.842|[0.0,1.112,114.06...|[21.6635782539120...|[0.43327156507824...|       1.0|\n",
      "| 500.0|1232.0|   0.0| 1.355| 151.144|24657.0|81.236|[500.0,1.355,151....|[37.6357895805859...|[0.75271579161171...|       0.0|\n",
      "| 100.0|1233.0|   0.0| 1.455| 107.143|24557.0|56.234|[100.0,1.455,107....|[38.5520469413312...|[0.77104093882662...|       0.0|\n",
      "| 500.0|1234.0|   0.0| 1.439|  60.477|24057.0|34.249|[500.0,1.439,60.4...|[36.8083582390864...|[0.73616716478172...|       0.0|\n",
      "|   0.0|1235.0|   1.0| 1.326|  38.458|24057.0|18.495|[0.0,1.326,38.458...|[20.2682781488406...|[0.40536556297681...|       1.0|\n",
      "| 100.0|1236.0|   0.0| 1.381|  72.597|24157.0|70.094|[100.0,1.381,72.5...|[38.1632003482592...|[0.76326400696518...|       0.0|\n",
      "|   0.0|1237.0|   1.0| 1.256|   8.028|24157.0|31.752|[0.0,1.256,8.028,...|[21.2915765221687...|[0.42583153044337...|       1.0|\n",
      "|   0.0|1238.0|   1.0| 1.148|   4.105|24157.0|33.065|[0.0,1.148,4.105,...|[21.2915765221687...|[0.42583153044337...|       1.0|\n",
      "|   0.0|1239.0|   1.0| 1.098|  26.848|24157.0|60.535|[0.0,1.098,26.848...|[21.6488723096664...|[0.43297744619332...|       1.0|\n",
      "|  20.0|1240.0|   0.0| 1.125|  59.885|24177.0|82.821|[20.0,1.125,59.88...|[34.1422911927564...|[0.68284582385512...|       0.0|\n",
      "|   0.0|1241.0|   1.0| 1.031| -10.436|24177.0|33.407|[0.0,1.031,-10.43...|[21.2915765221687...|[0.42583153044337...|       1.0|\n",
      "|   0.0|1242.0|   0.0| 0.949| -19.267|24177.0|35.523|[0.0,0.949,-19.26...|[21.2915765221687...|[0.42583153044337...|       1.0|\n",
      "|   0.0|1243.0|   1.0| 0.784|-122.536|24177.0|11.754|[0.0,0.784,-122.5...|[20.3363300521171...|[0.40672660104234...|       1.0|\n",
      "| 273.0|1244.0|   0.0| 0.746| -42.865|24450.0|64.707|[273.0,0.746,-42....|[38.0186818671623...|[0.76037363734324...|       0.0|\n",
      "|   0.0|1245.0|   0.0| 0.659| -57.331|24450.0|40.746|[0.0,0.659,-57.33...|[21.2963682615235...|[0.42592736523047...|       1.0|\n",
      "|   0.0|1246.0|   0.0| 0.495|-130.959|24450.0|17.371|[0.0,0.495,-130.9...|[20.1006236635834...|[0.40201247327166...|       1.0|\n",
      "|   0.0|1247.0|   1.0| 0.289|-155.319|24450.0| 9.026|[0.0,0.289,-155.3...|[20.5436460113032...|[0.41087292022606...|       1.0|\n",
      "| 200.0|1248.0|   0.0| 0.258| -58.341|24650.0|67.489|[200.0,0.258,-58....|[37.7648892244351...|[0.75529778448870...|       0.0|\n",
      "|   0.0|1249.0|   0.0| 0.166| -73.798|24650.0|41.443|[0.0,0.166,-73.79...|[22.2156073718443...|[0.44431214743688...|       1.0|\n",
      "|   0.0|1250.0|   0.0| 0.081|  -72.99|24650.0|37.049|[0.0,0.081,-72.99...|[21.900386379885,...|[0.43800772759769...|       1.0|\n",
      "|   0.0|1251.0|   1.0| -0.02| -87.685|24650.0|21.495|[0.0,-0.02,-87.68...|[21.4644254772187...|[0.42928850954437...|       1.0|\n",
      "|   0.0|1252.0|   1.0|-0.099| -74.948|24650.0|23.145|[0.0,-0.099,-74.9...|[21.4644254772187...|[0.42928850954437...|       1.0|\n",
      "|   0.0|1253.0|   0.0|-0.098| -21.094|24650.0|80.265|[0.0,-0.098,-21.0...|[22.1378222338107...|[0.44275644467621...|       1.0|\n",
      "|   0.0|1254.0|   0.0|-0.158|  -67.78|24650.0|32.104|[0.0,-0.158,-67.7...|[22.0074733953575...|[0.44014946790715...|       1.0|\n",
      "|   0.0|1255.0|   1.0|-0.213| -68.763|24650.0|26.941|[0.0,-0.213,-68.7...|[21.6432061042200...|[0.43286412208440...|       1.0|\n",
      "|   0.0|1256.0|   0.0|  -0.2|  -3.523|24650.0|73.412|[0.0,-0.2,-3.523,...|[21.8931289458445...|[0.43786257891689...|       1.0|\n",
      "| 100.0|1257.0|   0.0|-0.196| -15.134|24550.0|62.296|[100.0,-0.196,-15...|[35.5297427187130...|[0.71059485437426...|       0.0|\n",
      "|   0.0|1258.0|   0.0|-0.243| -72.951|24550.0|19.659|[0.0,-0.243,-72.9...|[21.1506019730634...|[0.42301203946126...|       1.0|\n",
      "|   0.0|1259.0|   0.0|-0.277| -74.871|24550.0|19.659|[0.0,-0.277,-74.8...|[21.1506019730634...|[0.42301203946126...|       1.0|\n",
      "|   0.0|1260.0|   1.0|-0.311| -82.023|24550.0|12.881|[0.0,-0.311,-82.0...|[21.1506019730634...|[0.42301203946126...|       1.0|\n",
      "|   0.0|1261.0|   1.0|-0.266|  46.685|24550.0|84.519|[0.0,-0.266,46.68...|[21.6862633825126...|[0.43372526765025...|       1.0|\n",
      "|   0.0|1262.0|   1.0|-0.201|  105.27|24550.0|90.535|[0.0,-0.201,105.2...|[21.7639656041762...|[0.43527931208352...|       1.0|\n",
      "|   0.0|1263.0|   1.0|-0.105| 147.544|24550.0|95.798|[0.0,-0.105,147.5...|[21.6914029226671...|[0.43382805845334...|       1.0|\n",
      "| 150.0|1264.0|   0.0|-0.027| 136.461|24700.0|95.892|[150.0,-0.027,136...|[37.4828393299570...|[0.74965678659914...|       0.0|\n",
      "|   0.0|1265.0|   1.0| 0.004|  61.354|24700.0|37.929|[0.0,0.004,61.354...|[21.9444916128242...|[0.43888983225648...|       1.0|\n",
      "|   0.0|1266.0|   0.0| 0.051|  79.046|24700.0|67.879|[0.0,0.051,79.046...|[22.1423392113302...|[0.44284678422660...|       1.0|\n",
      "|   0.0|1267.0|   1.0| 0.064|  46.794|24700.0|34.544|[0.0,0.064,46.794...|[22.1162030355316...|[0.44232406071063...|       1.0|\n",
      "|   0.0|1268.0|   1.0| 0.102|  71.089|24700.0|70.187|[0.0,0.102,71.089...|[22.1423392113302...|[0.44284678422660...|       1.0|\n",
      "| 100.0|1269.0|   1.0|  0.21| 123.731|24800.0|92.708|[100.0,0.21,123.7...|[38.0658357934109...|[0.76131671586821...|       0.0|\n",
      "|   0.0|1270.0|   1.0| 0.293| 111.263|24800.0|92.751|[0.0,0.293,111.26...|[21.1423759967732...|[0.42284751993546...|       1.0|\n",
      "|   0.0|1271.0|   1.0| 0.364|   99.69|24800.0|94.599|[0.0,0.364,99.69,...|[21.1423759967732...|[0.42284751993546...|       1.0|\n",
      "|   0.0|1272.0|   0.0| 0.447|  108.67|24800.0| 98.06|[0.0,0.447,108.67...|[20.2650883160116...|[0.40530176632023...|       1.0|\n",
      "|   0.0|1273.0|   1.0|  0.48|  75.971|24800.0|46.871|[0.0,0.48,75.971,...|[21.1018334544351...|[0.42203666908870...|       1.0|\n",
      "| 300.0|1274.0|   0.0| 0.565| 109.004|25100.0|84.792|[300.0,0.565,109....|[38.0026538757110...|[0.76005307751422...|       0.0|\n",
      "|   0.0|1275.0|   0.0| 0.625| 109.977|25100.0|84.792|[0.0,0.625,109.97...|[21.6635782539120...|[0.43327156507824...|       1.0|\n",
      "| 200.0|1276.0|   0.0|  0.54| -27.456|24900.0|13.005|[200.0,0.54,-27.4...|[36.6827300430184...|[0.73365460086036...|       0.0|\n",
      "|   0.0|1277.0|   1.0| 0.422| -66.197|24900.0| 8.097|[0.0,0.422,-66.19...|[20.5594287106383...|[0.41118857421276...|       1.0|\n",
      "|   0.0|1278.0|   0.0| 0.359| -30.834|24900.0|41.492|[0.0,0.359,-30.83...|[21.2895191646762...|[0.42579038329352...|       1.0|\n",
      "|   0.0|1279.0|   0.0|  0.28|  -61.11|24900.0|27.027|[0.0,0.28,-61.11,...|[21.7465907945970...|[0.43493181589194...|       1.0|\n",
      "|   0.0|1280.0|   1.0| 0.171|-100.186|24900.0|11.978|[0.0,0.171,-100.1...|[21.7796464691780...|[0.43559292938356...|       1.0|\n",
      "|   0.0|1281.0|   1.0| 0.098| -83.718|24900.0|36.266|[0.0,0.098,-83.71...|[22.0720978025924...|[0.44144195605184...|       1.0|\n",
      "|   0.0|1282.0|   0.0| 0.065| -57.535|24900.0|66.316|[0.0,0.065,-57.53...|[22.0019196317568...|[0.44003839263513...|       1.0|\n",
      "|   0.0|1283.0|   1.0|-0.001| -83.227|24900.0|26.665|[0.0,-0.001,-83.2...|[22.0720978025924...|[0.44144195605184...|       1.0|\n",
      "|   0.0|1284.0|   1.0|-0.042|  -63.91|24900.0| 44.17|[0.0,-0.042,-63.9...|[21.7853181856678...|[0.43570636371335...|       1.0|\n",
      "|   0.0|1285.0|   0.0| -0.06| -44.066|24900.0|66.115|[0.0,-0.06,-44.06...|[21.8868514375397...|[0.43773702875079...|       1.0|\n",
      "|   0.0|1286.0|   1.0|-0.095| -56.236|24900.0|29.459|[0.0,-0.095,-56.2...|[21.9570296083753...|[0.43914059216750...|       1.0|\n",
      "|   0.0|1287.0|   0.0| -0.08|  -9.448|24900.0|77.257|[0.0,-0.08,-9.448...|[22.1378222338107...|[0.44275644467621...|       1.0|\n",
      "|   0.0|1288.0|   1.0|-0.091| -26.005|24900.0|44.183|[0.0,-0.091,-26.0...|[22.0362889819389...|[0.44072577963877...|       1.0|\n",
      "|   0.0|1289.0|   0.0|-0.056|  83.339|24900.0|78.162|[0.0,-0.056,83.33...|[22.0272710171131...|[0.44054542034226...|       1.0|\n",
      "|   0.0|1290.0|   0.0|-0.046|  44.624|24900.0|50.887|[0.0,-0.046,44.62...|[21.9309566704789...|[0.43861913340957...|       1.0|\n",
      "|   0.0|1291.0|   0.0|-0.052|   5.874|24900.0|33.736|[0.0,-0.052,5.874...|[22.2080004046463...|[0.44416000809292...|       1.0|\n",
      "|   0.0|1292.0|   0.0|-0.071| -34.685|24900.0|18.683|[0.0,-0.071,-34.6...|[21.7153962734897...|[0.43430792546979...|       1.0|\n",
      "| 100.0|1293.0|   0.0|-0.114| -99.283|24800.0| 7.287|[100.0,-0.114,-99...|[35.0557866414392...|[0.70111573282878...|       0.0|\n",
      "|   0.0|1294.0|   0.0|-0.227|-195.132|24800.0| 1.628|[0.0,-0.227,-195....|[19.9413324775411...|[0.39882664955082...|       1.0|\n",
      "|   0.0|1295.0|   0.0|-0.323|-150.335|24800.0| 1.368|[0.0,-0.323,-150....|[20.0766265951882...|[0.40153253190376...|       1.0|\n",
      "|   0.0|1296.0|   1.0|  -0.4|-123.679|24800.0| 1.159|[0.0,-0.4,-123.67...|[20.5752957047015...|[0.41150591409403...|       1.0|\n",
      "|   0.0|1297.0|   0.0|-0.392| -44.028|24800.0|78.003|[0.0,-0.392,-44.0...|[21.3942949017102...|[0.42788589803420...|       1.0|\n",
      "| 400.0|1298.0|   0.0|-0.414| -76.793|24400.0|43.432|[400.0,-0.414,-76...|[27.9608660400303...|[0.55921732080060...|       0.0|\n",
      "|   0.0|1299.0|   1.0|-0.446| -78.443|24400.0|28.304|[0.0,-0.446,-78.4...|[21.6432061042200...|[0.43286412208440...|       1.0|\n",
      "|   0.0|1300.0|   1.0|-0.459| -62.783|24400.0|41.411|[0.0,-0.459,-62.7...|[21.2927616498383...|[0.42585523299676...|       1.0|\n",
      "|   0.0|1301.0|   0.0|-0.449| -39.586|24400.0|69.427|[0.0,-0.449,-39.5...|[21.6452656979812...|[0.43290531395962...|       1.0|\n",
      "|   0.0|1302.0|   1.0|-0.441| -38.373|24400.0|52.645|[0.0,-0.441,-38.3...|[21.6452656979812...|[0.43290531395962...|       1.0|\n",
      "|   0.0|1303.0|   0.0|-0.426|  -26.94|24400.0|64.964|[0.0,-0.426,-26.9...|[21.6452656979812...|[0.43290531395962...|       1.0|\n",
      "|   0.0|1304.0|   0.0|-0.418| -30.331|24400.0|30.539|[0.0,-0.418,-30.3...|[21.8941769004910...|[0.43788353800982...|       1.0|\n",
      "|   0.0|1305.0|   1.0|-0.421| -47.195|24400.0| 10.66|[0.0,-0.421,-47.1...|[21.1506019730634...|[0.42301203946126...|       1.0|\n",
      "|   0.0|1306.0|   0.0|-0.385|  34.631|24400.0|77.557|[0.0,-0.385,34.63...|[21.6862633825126...|[0.43372526765025...|       1.0|\n",
      "|   0.0|1307.0|   1.0|-0.374|  -8.392|24400.0|39.831|[0.0,-0.374,-8.39...|[21.5437324461093...|[0.43087464892218...|       1.0|\n",
      "|   0.0|1308.0|   0.0| -0.36|  -7.515|24400.0|41.755|[0.0,-0.36,-7.515...|[21.5437324461093...|[0.43087464892218...|       1.0|\n",
      "|   0.0|1309.0|   1.0|-0.361| -70.399|24400.0|17.819|[0.0,-0.361,-70.3...|[21.1506019730634...|[0.42301203946126...|       1.0|\n",
      "|   0.0|1310.0|   0.0|-0.337|   5.579|24400.0|67.578|[0.0,-0.337,5.579...|[21.8931289458445...|[0.43786257891689...|       1.0|\n",
      "|   0.0|1311.0|   1.0|-0.337|-105.366|24400.0|28.585|[0.0,-0.337,-105....|[21.6432061042200...|[0.43286412208440...|       1.0|\n",
      "|   0.0|1312.0|   0.0|-0.291| 119.138|24400.0|77.034|[0.0,-0.291,119.1...|[21.9078348900900...|[0.43815669780180...|       1.0|\n",
      "|   0.0|1313.0|   1.0|-0.295| -96.235|24400.0|32.153|[0.0,-0.295,-96.2...|[21.6432061042200...|[0.43286412208440...|       1.0|\n",
      "|   0.0|1314.0|   0.0| -0.25|  104.48|24400.0|69.581|[0.0,-0.25,104.48...|[21.9078348900900...|[0.43815669780180...|       1.0|\n",
      "|   0.0|1315.0|   1.0| -0.22|  60.826|24400.0| 56.93|[0.0,-0.22,60.826...|[21.6862633825126...|[0.43372526765025...|       1.0|\n",
      "|   0.0|1316.0|   1.0|-0.185|  87.767|24400.0|68.562|[0.0,-0.185,87.76...|[21.9269782728586...|[0.43853956545717...|       1.0|\n",
      "| 400.0|1317.0|   0.0|-0.034|  199.18|24800.0|96.137|[400.0,-0.034,199...|[37.0811061259818...|[0.74162212251963...|       0.0|\n",
      "|  76.0|1318.0|   1.0| 0.085| 173.403|24724.0| 95.59|[76.0,0.085,173.4...|[37.4828393299570...|[0.74965678659914...|       0.0|\n",
      "|   0.0|1319.0|   1.0| 0.205| 150.307|24724.0|97.545|[0.0,0.205,150.30...|[20.9553328078152...|[0.41910665615630...|       1.0|\n",
      "| 400.0|1320.0|   0.0| 0.393| 164.885|25124.0|99.396|[400.0,0.393,164....|[37.7455505532367...|[0.75491101106473...|       0.0|\n",
      "|   0.0|1321.0|   1.0| 0.478| 100.418|25124.0|52.147|[0.0,0.478,100.41...|[21.2270906153783...|[0.42454181230756...|       1.0|\n",
      "|   0.0|1322.0|   0.0| 0.561|   96.07|25124.0|64.428|[0.0,0.561,96.07,...|[21.2270906153783...|[0.42454181230756...|       1.0|\n",
      "|   0.0|1323.0|   1.0| 0.594|  69.593|25124.0|40.395|[0.0,0.594,69.593...|[21.4367878410969...|[0.42873575682193...|       1.0|\n",
      "|   0.0|1324.0|   1.0| 0.621|  64.123|25124.0|50.826|[0.0,0.621,64.123...|[21.5383210929688...|[0.43076642185937...|       1.0|\n",
      "|   4.0|1325.0|   0.0| 0.688|  79.187|25128.0|86.793|[4.0,0.688,79.187...|[26.1336756215243...|[0.52267351243048...|       0.0|\n",
      "| 300.0|1326.0|   0.0| 0.698|  58.039|24828.0|44.247|[300.0,0.698,58.0...|[37.0104469293095...|[0.74020893858619...|       0.0|\n",
      "|   0.0|1327.0|   1.0| 0.683|  38.717|24828.0|31.633|[0.0,0.683,38.717...|[21.0847109588368...|[0.42169421917673...|       1.0|\n",
      "+------+------+------+------+--------+-------+------+--------------------+--------------------+--------------------+----------+\n",
      "only showing top 100 rows\n",
      "\n"
     ]
    }
   ],
   "source": [
    "#evaluate results\n",
    "calc_metrics(predictions)\n",
    "predictions.show(100)"
   ]
  },
  {
   "cell_type": "code",
   "execution_count": null,
   "metadata": {
    "hideCode": false,
    "hidePrompt": false
   },
   "outputs": [],
   "source": [
    "if DEBUG != True:\n",
    "    df_to_plot_rt = predictions.select('prediction', 'Profit')\n",
    "    df_to_plot_rt = df_to_plot_rt.toPandas()\n",
    "    plt.figure(figsize=(24, 3))\n",
    "    plt.plot(df_to_plot_rt)\n",
    "    plt.legend(df_to_plot_rt.columns)\n",
    "    plt.show()"
   ]
  },
  {
   "cell_type": "code",
   "execution_count": null,
   "metadata": {
    "hideCode": false,
    "hidePrompt": false
   },
   "outputs": [],
   "source": [
    "import pandas as pd\n",
    "i = 0\n",
    "# path_to_csv = \"s3://stocksets100/Orlen.csv\"\n",
    "path = \"./Datasets/Orlen.csv\"\n",
    "df = complete_processing(spark, path)\n",
    "ManualSplit = False\n",
    "results = []\n",
    "pipeline_test = Pipeline(stages=[vectorAssembler_rt,scaler2, best_classifier])\n",
    "\n",
    "for i in range(30):\n",
    "    train, test = train_test_split(spark, df, CHUNKS, SORT, ManualSplit, RANDOM_SEED + i)\n",
    "    predictions = pipeline_test.fit(test).transform(test)\n",
    "    \n",
    "    results.append(calc_metrics(predictions)['accuracy'])\n",
    "    i+=1\n",
    "    print(\"#########################################################################\")"
   ]
  },
  {
   "cell_type": "code",
   "execution_count": null,
   "metadata": {
    "hideCode": false,
    "hidePrompt": false
   },
   "outputs": [],
   "source": [
    "from scipy import stats\n",
    "stats_df = pd.DataFrame( {'Accuracy' : results})\n",
    "print(stats_df)"
   ]
  },
  {
   "cell_type": "code",
   "execution_count": null,
   "metadata": {
    "hideCode": false,
    "hidePrompt": false
   },
   "outputs": [],
   "source": [
    "plt.boxplot(stats_df['Accuracy'], labels=stats_df.columns)\n",
    "plt.show()"
   ]
  },
  {
   "cell_type": "code",
   "execution_count": null,
   "metadata": {
    "hideCode": false,
    "hidePrompt": false
   },
   "outputs": [],
   "source": []
  }
 ],
 "metadata": {
  "celltoolbar": "Hide code",
  "hide_code_all_hidden": false,
  "kernelspec": {
   "display_name": "Python 3",
   "language": "python",
   "name": "python3"
  },
  "language_info": {
   "codemirror_mode": {
    "name": "ipython",
    "version": 3
   },
   "file_extension": ".py",
   "mimetype": "text/x-python",
   "name": "python",
   "nbconvert_exporter": "python",
   "pygments_lexer": "ipython3",
   "version": "3.6.3"
  }
 },
 "nbformat": 4,
 "nbformat_minor": 2
}
