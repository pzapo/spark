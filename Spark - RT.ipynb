{
 "cells": [
  {
   "cell_type": "code",
   "execution_count": 40,
   "metadata": {
    "hideCode": false,
    "hidePrompt": false
   },
   "outputs": [
    {
     "data": {
      "text/plain": [
       "'2.2.0'"
      ]
     },
     "execution_count": 40,
     "metadata": {},
     "output_type": "execute_result"
    }
   ],
   "source": [
    "# Spark libs\n",
    "import findspark\n",
    "findspark.init()\n",
    "\n",
    "import pyspark\n",
    "from pyspark.sql import SparkSession\n",
    "from pyspark import SparkConf\n",
    "from pyspark.sql.window import Window\n",
    "import pyspark.sql.functions as func\n",
    "from pyspark.sql import functions as F\n",
    "from pyspark.sql.functions import col\n",
    "from pyspark.sql.functions import monotonically_increasing_id\n",
    "from pyspark import SQLContext\n",
    "from pyspark.mllib.evaluation import MulticlassMetrics\n",
    "from pyspark.ml.tuning import CrossValidator, ParamGridBuilder\n",
    "from pyspark.ml.evaluation import BinaryClassificationEvaluator\n",
    "\n",
    "# Others\n",
    "import pandas as pd\n",
    "import numpy as np\n",
    "import datetime\n",
    "import time\n",
    "\n",
    "# Graphs libs\n",
    "import matplotlib.pyplot as plt\n",
    "import matplotlib.pyplot as plt_dt\n",
    "\n",
    "# S3 Service\n",
    "import boto3\n",
    "from io import StringIO\n",
    "\n",
    "# Let's use Amazon S3\n",
    "s3 = boto3.resource('s3')\n",
    "\n",
    "spark.version"
   ]
  },
  {
   "cell_type": "code",
   "execution_count": 41,
   "metadata": {
    "hideCode": false,
    "hidePrompt": false
   },
   "outputs": [],
   "source": [
    "OBV_i = True\n",
    "CCI_i = True\n",
    "RSI_i = True\n",
    "MACD_i = True\n",
    "ManualSplit = False\n",
    "Date_Convert = False\n",
    "\n",
    "DEBUG = False\n",
    "\n",
    "DT = True\n",
    "RT = False\n",
    "GBT = False\n",
    "\n",
    "\n",
    "RANDOM_SEED = 1"
   ]
  },
  {
   "cell_type": "code",
   "execution_count": 42,
   "metadata": {
    "hideCode": false,
    "hideOutput": false,
    "hidePrompt": false
   },
   "outputs": [],
   "source": [
    "def RSI(dataframe, window_length, avg_type, column='Close'):\n",
    "    data = dataframe.toPandas()\n",
    "    # Get just the close\n",
    "    close = data['Close']\n",
    "    # Get the difference in price from previous step\n",
    "    delta = close.diff()\n",
    "    # Get rid of the first row, which is NaN since it did not have a previous\n",
    "    # row to calculate the differences\n",
    "    # Make the positive gains (up) and negative gains (down) Series\n",
    "    up, down = delta.copy(), delta.copy()\n",
    "    up[up < 0] = 0\n",
    "    down[down > 0] = 0\n",
    "    if avg_type == \"EWMA\":\n",
    "        roll_up = up.ewm(span=window_length, min_periods=window_length).mean()\n",
    "        roll_down = down.abs().ewm(\n",
    "            span=window_length, min_periods=window_length).mean()\n",
    "    elif avg_type == \"SMA\":\n",
    "        roll_up = pd.rolling_mean(up, window_length)\n",
    "        roll_down = pd.rolling_mean(down.abs(), window_length)\n",
    "    RS = roll_up / roll_down\n",
    "    RSI = 100.0 - (100.0 / (1.0 + RS))\n",
    "    RSI = pd.DataFrame({'RSI': RSI})\n",
    "    data = data.join(RSI)\n",
    "    result_df = spark.createDataFrame(data)\n",
    "    return result_df"
   ]
  },
  {
   "cell_type": "code",
   "execution_count": 43,
   "metadata": {},
   "outputs": [],
   "source": [
    "# Commodity Channel Index\n",
    "def CCI(spark_df, ndays):\n",
    "    data = spark_df.toPandas()\n",
    "    TP = (data['High'] + data['Low'] + data['Close']) / 3\n",
    "    CCI = pd.Series(\n",
    "        (TP - pd.rolling_mean(TP, ndays)) /\n",
    "        (0.015 * pd.rolling_std(TP, ndays)),\n",
    "        name='CCI')\n",
    "    data = data.join(CCI)\n",
    "    result_df = spark.createDataFrame(data)\n",
    "    return result_df"
   ]
  },
  {
   "cell_type": "code",
   "execution_count": 44,
   "metadata": {},
   "outputs": [],
   "source": [
    "# Moving average convergence divergence\n",
    "def MACD(dataframe, nfast=12, nslow=24, column='Close'):\n",
    "    data = dataframe.toPandas()\n",
    "    # Get just the close\n",
    "    price = data[column]\n",
    "    # Get the difference in price from previous step\n",
    "    emaslow = pd.ewma(price, span=nslow, min_periods=1)\n",
    "    emafast = pd.ewma(price, span=nfast, min_periods=1)\n",
    "    #     MACD = pd.DataFrame({'MACD': emafast-emaslow, 'emaSlw': emaslow, 'emaFst': emafast})\n",
    "    MACD = pd.DataFrame({'MACD': emafast - emaslow})\n",
    "    data = data.join(MACD)\n",
    "    result_df = spark.createDataFrame(data)\n",
    "    return result_df"
   ]
  },
  {
   "cell_type": "code",
   "execution_count": 45,
   "metadata": {
    "hideCode": false,
    "hidePrompt": false
   },
   "outputs": [],
   "source": [
    "# Spark context simple configuration\n",
    "spark = SparkSession.builder.config(conf=SparkConf()).getOrCreate()\n",
    "\n",
    "#Path to file with CSV\n",
    "path_to_csv = \"s3://stocksets100/Orlen.csv\"\n",
    "\n",
    "fresh_df = spark.read.csv(path_to_csv, header=True, inferSchema=True)\n",
    "\n",
    "temporary_df = fresh_df.select(\n",
    "    fresh_df[\"Date\"].cast(\"Date\"), fresh_df[\"Open\"].cast(\"float\"),\n",
    "    fresh_df[\"High\"].cast(\"float\"), fresh_df[\"Volume\"].cast(\"int\"),\n",
    "    fresh_df[\"Low\"].cast(\"float\"), fresh_df[\"Close\"].cast(\"float\"))\n",
    "\n",
    "df_cleared = temporary_df.filter(temporary_df.Open.isNotNull())\n",
    "\n",
    "if DEBUG:\n",
    "    df_cleared.show()\n",
    "\n",
    "# Creating new column with shifted Close price by 1 day\n",
    "df_lag = df_cleared.withColumn('prev_day_price',\n",
    "                               func.lag(df_cleared['Close']).over(\n",
    "                                   Window.orderBy(\"Date\")))\n",
    "\n",
    "# Daily return calculation\n",
    "df_daily_return = df_lag.withColumn(\n",
    "    'Daily return', (df_lag['Close'] - df_lag['prev_day_price']))\n",
    "\n",
    "# Profit label calculation\n",
    "# 1 if stock risen up, 0 is it went down\n",
    "df_profit = df_daily_return.withColumn(\n",
    "    'Profit', (F.when(df_daily_return[\"Daily return\"] < 0, 0).otherwise(1)))\n",
    "\n",
    "df_shifted_profit = df_profit.withColumn(\n",
    "    'Profit',\n",
    "    func.lag(df_profit['Profit'], count=-1).over(Window.orderBy(\"Date\")))\n",
    "\n",
    "final_df = df_shifted_profit.filter(\n",
    "    df_shifted_profit[\"Daily return\"].isNotNull())\n",
    "\n",
    "final_df = final_df.drop(\"prev_day_price\").withColumnRenamed(\n",
    "    existing=\"Daily return\", new=\"Daily return\")\n",
    "\n",
    "# Removing redudant columns\n",
    "final_df = final_df.drop(\"Daily return\")\n",
    "final_df = final_df.drop(\"prev_day_price\")\n",
    "\n",
    "# final_df = final_df.select(\"*\").withColumn(\"id\", monotonically_increasing_id())\n",
    "\n",
    "if DEBUG:\n",
    "    final_df.show()\n",
    "\n",
    "#Conversion to desired typesf\n",
    "converted_df = final_df.select(\"*\").withColumn(\"id\", monotonically_increasing_id())"
   ]
  },
  {
   "cell_type": "code",
   "execution_count": 46,
   "metadata": {
    "hideCode": false,
    "hidePrompt": false
   },
   "outputs": [],
   "source": [
    "#Columns without Date\n",
    "# converted_df = converted_df.select(\n",
    "#     [col(c).cast('float') for c in converted_df.columns if c. not in {'Date'}])\n",
    "# Date column!\n",
    "df_date = converted_df.select(converted_df.Date)\n",
    "\n",
    "#Convert date to splitted format\n",
    "if Date_Convert:\n",
    "    split_col = pyspark.sql.functions.split(converted_df['Date'], '-')\n",
    "    converted_df = converted_df.withColumn('Year',\n",
    "                                           split_col.getItem(0).cast('int'))\n",
    "    converted_df = converted_df.withColumn('Month',\n",
    "                                           split_col.getItem(1).cast('int'))\n",
    "    converted_df = converted_df.withColumn('Day',\n",
    "                                           split_col.getItem(2).cast('int'))\n",
    "    if DEBUG:\n",
    "        converted_df.show()\n",
    "\n",
    "converted_df = converted_df.drop(\"Date\")"
   ]
  },
  {
   "cell_type": "code",
   "execution_count": 47,
   "metadata": {
    "hideCode": false,
    "hidePrompt": false
   },
   "outputs": [
    {
     "name": "stderr",
     "output_type": "stream",
     "text": [
      "/home/hadoop/conda/lib/python3.6/site-packages/ipykernel_launcher.py:7: FutureWarning: pd.ewm_mean is deprecated for Series and will be removed in a future version, replace with \n",
      "\tSeries.ewm(span=24,min_periods=1,adjust=True,ignore_na=False).mean()\n",
      "  import sys\n",
      "/home/hadoop/conda/lib/python3.6/site-packages/ipykernel_launcher.py:8: FutureWarning: pd.ewm_mean is deprecated for Series and will be removed in a future version, replace with \n",
      "\tSeries.ewm(span=12,min_periods=1,adjust=True,ignore_na=False).mean()\n",
      "  \n"
     ]
    }
   ],
   "source": [
    "if MACD_i:\n",
    "    converted_df = MACD(converted_df)\n",
    "    converted_df = converted_df.select(\n",
    "        [col(c).cast('float') for c in converted_df.columns])\n",
    "    if DEBUG:\n",
    "        converted_df.show()"
   ]
  },
  {
   "cell_type": "code",
   "execution_count": 48,
   "metadata": {
    "hideCode": false,
    "hidePrompt": false
   },
   "outputs": [
    {
     "name": "stderr",
     "output_type": "stream",
     "text": [
      "/home/hadoop/conda/lib/python3.6/site-packages/ipykernel_launcher.py:6: FutureWarning: pd.rolling_mean is deprecated for Series and will be removed in a future version, replace with \n",
      "\tSeries.rolling(window=14,center=False).mean()\n",
      "  \n",
      "/home/hadoop/conda/lib/python3.6/site-packages/ipykernel_launcher.py:7: FutureWarning: pd.rolling_std is deprecated for Series and will be removed in a future version, replace with \n",
      "\tSeries.rolling(window=14,center=False).std()\n",
      "  import sys\n"
     ]
    }
   ],
   "source": [
    "if CCI_i:\n",
    "    converted_df = CCI(converted_df, 14)\n",
    "    converted_df = converted_df.select(\n",
    "        [col(c).cast('float') for c in converted_df.columns])\n",
    "    if DEBUG:\n",
    "        converted_df.show()"
   ]
  },
  {
   "cell_type": "code",
   "execution_count": 49,
   "metadata": {
    "hideCode": false,
    "hidePrompt": false
   },
   "outputs": [],
   "source": [
    "# OBV indicator calculation\n",
    "if OBV_i:\n",
    "    temp_df = converted_df.toPandas()\n",
    "    df_obv = spark.createDataFrame(\n",
    "        temp_df.assign(OBV=(temp_df.Volume * (\n",
    "            ~temp_df.Close.diff().le(0) * 2 - 1)).cumsum()))\n",
    "    converted_df = df_obv.select(\n",
    "        [col(c).cast('float') for c in df_obv.columns])\n",
    "    if DEBUG:\n",
    "        converted_df.show()"
   ]
  },
  {
   "cell_type": "code",
   "execution_count": 50,
   "metadata": {
    "hideCode": false,
    "hidePrompt": false
   },
   "outputs": [
    {
     "name": "stderr",
     "output_type": "stream",
     "text": [
      "/home/hadoop/conda/lib/python3.6/site-packages/ipykernel_launcher.py:18: FutureWarning: pd.rolling_mean is deprecated for Series and will be removed in a future version, replace with \n",
      "\tSeries.rolling(window=3,center=False).mean()\n",
      "/home/hadoop/conda/lib/python3.6/site-packages/ipykernel_launcher.py:19: FutureWarning: pd.rolling_mean is deprecated for Series and will be removed in a future version, replace with \n",
      "\tSeries.rolling(window=3,center=False).mean()\n"
     ]
    }
   ],
   "source": [
    "#RSI indicator calculaction\n",
    "if RSI_i:\n",
    "    converted_df = RSI(converted_df, 3, 'SMA')\n",
    "    if DEBUG:\n",
    "        converted_df.show()\n",
    "        print(converted_df.count())"
   ]
  },
  {
   "cell_type": "code",
   "execution_count": 51,
   "metadata": {
    "hideCode": false,
    "hidePrompt": false
   },
   "outputs": [],
   "source": [
    "if DEBUG:\n",
    "    df_to_plot_dt = converted_df.select('Close').toPandas()\n",
    "    plt_dt.figure(figsize=(14, 14))\n",
    "    plt_dt.plot(df_to_plot_dt)\n",
    "    plt_dt.legend(df_to_plot_dt.columns)\n",
    "#     plt_dt.show()"
   ]
  },
  {
   "cell_type": "code",
   "execution_count": 52,
   "metadata": {
    "hideCode": false,
    "hidePrompt": false
   },
   "outputs": [
    {
     "name": "stdout",
     "output_type": "stream",
     "text": [
      "+----+----+------+---+-----+------+---+----+---+---+---+\n",
      "|Open|High|Volume|Low|Close|Profit| id|MACD|CCI|OBV|RSI|\n",
      "+----+----+------+---+-----+------+---+----+---+---+---+\n",
      "+----+----+------+---+-----+------+---+----+---+---+---+\n",
      "\n",
      "+-----------------+-----------------+------+-----------------+-----------------+------+----+-------------------+-------------------+-------+------------------+\n",
      "|             Open|             High|Volume|              Low|            Close|Profit|  id|               MACD|                CCI|    OBV|               RSI|\n",
      "+-----------------+-----------------+------+-----------------+-----------------+------+----+-------------------+-------------------+-------+------------------+\n",
      "|8.336999893188477|8.336999893188477|   0.0|8.336999893188477|8.336999893188477|   0.0|13.0|0.07394994050264359|  139.0187530517578| -310.0|             100.0|\n",
      "|8.222999572753906|8.222999572753906|   0.0|8.222999572753906|8.222999572753906|   1.0|14.0|0.08548735082149506|  96.65554809570312| -310.0|  75.8984548663092|\n",
      "|8.586999893188477|8.824000358581543| 370.0|8.586999893188477|8.824000358581543|   0.0|15.0|0.12712103128433228|  148.1276092529297|   60.0| 88.16197587593336|\n",
      "|8.633999824523926|8.633999824523926| 350.0|8.616000175476074|8.616000175476074|   0.0|16.0|0.14504554867744446| 105.22151184082031| -290.0| 65.11375365893224|\n",
      "|8.404000282287598|8.456999778747559|1250.0|8.404000282287598|8.440999984741211|   0.0|17.0| 0.1465248316526413|  67.58635711669922|-1540.0| 61.07724365187051|\n",
      "|8.402000427246094|8.402000427246094|   0.0|8.402000427246094|8.402000427246094|   0.0|18.0| 0.1434365212917328| 54.926979064941406|-1540.0|               0.0|\n",
      "|8.343999862670898|8.343999862670898|   0.0|8.343999862670898|8.343999862670898|   1.0|19.0| 0.1357051581144333|  39.07378005981445|-1540.0|               0.0|\n",
      "|8.583000183105469|8.583000183105469|   0.0|8.583000183105469|8.583000183105469|   0.0|20.0|0.14280620217323303|  70.22051239013672|-1540.0| 71.13095407042422|\n",
      "|8.470999717712402|8.470999717712402|   0.0|8.470999717712402|8.470999717712402|   1.0|21.0|0.13945703208446503| 43.572330474853516|-1540.0| 58.43509323359814|\n",
      "|8.564000129699707|8.564000129699707|   0.0|8.564000129699707|8.564000129699707|   1.0|22.0|0.14101774990558624|  54.99522399902344|-1540.0| 74.77473800875917|\n",
      "| 8.82800006866455| 8.82800006866455|   0.0| 8.82800006866455| 8.82800006866455|   1.0|23.0|0.15740029513835907|  106.4896011352539|-1540.0|  76.1193453210054|\n",
      "|8.928999900817871|8.928999900817871|   0.0|8.928999900817871|8.928999900817871|   0.0|24.0| 0.1746593713760376| 113.93231201171875|-1540.0|             100.0|\n",
      "|8.902000427246094|8.902000427246094|   0.0|8.902000427246094|8.902000427246094|   1.0|25.0|0.18407641351222992|  96.88768005371094|-1540.0| 93.11236591970145|\n",
      "|9.092000007629395|9.092000007629395|   0.0|9.092000007629395|9.092000007629395|   0.0|26.0|0.20165079832077026| 124.93189239501953|-1540.0| 91.50956976541929|\n",
      "|9.057000160217285|9.057000160217285|   0.0|9.057000160217285|9.057000160217285|   0.0|27.0| 0.2104398012161255|   97.5958480834961|-1540.0| 75.39698758704209|\n",
      "|8.930000305175781|8.930000305175781|   0.0|8.930000305175781|8.930000305175781|   1.0|28.0|0.20610910654067993|  59.03043746948242|-1540.0|53.977263490996975|\n",
      "| 9.01200008392334| 9.01200008392334|   0.0| 9.01200008392334| 9.01200008392334|   1.0|29.0|0.20574679970741272|  72.02796173095703|-1540.0| 33.60653815487079|\n",
      "|9.107000350952148|9.107000350952148|   0.0|9.107000350952148|9.107000350952148|   0.0|30.0|0.20939664542675018|   82.1169662475586|-1540.0|58.223718264437665|\n",
      "|8.986000061035156|8.986000061035156|   0.0|8.986000061035156|8.986000061035156|   0.0|31.0|  0.201339453458786|  45.81468963623047|-1540.0|  59.3959216067794|\n",
      "| 8.77299976348877| 8.77299976348877|   0.0| 8.77299976348877| 8.77299976348877|   1.0|32.0| 0.1778886467218399|-14.703465461730957|-1540.0|22.144540280988792|\n",
      "+-----------------+-----------------+------+-----------------+-----------------+------+----+-------------------+-------------------+-------+------------------+\n",
      "only showing top 20 rows\n",
      "\n",
      "We have 1219 training examples and 129 test examples.\n",
      "+-----+-----+------+-----+-----+------+----+----------+----------+-------+----------+\n",
      "| Open| High|Volume|  Low|Close|Profit|  id|      MACD|       CCI|    OBV|       RSI|\n",
      "+-----+-----+------+-----+-----+------+----+----------+----------+-------+----------+\n",
      "|8.337|8.337|   0.0|8.337|8.337|   0.0|13.0|0.07394994| 139.01875| -310.0|     100.0|\n",
      "|8.223|8.223|   0.0|8.223|8.223|   1.0|14.0|0.08548735|  96.65555| -310.0|  75.89845|\n",
      "|8.587|8.824| 370.0|8.587|8.824|   0.0|15.0|0.12712103| 148.12761|   60.0|  88.16198|\n",
      "|8.634|8.634| 350.0|8.616|8.616|   0.0|16.0|0.14504555| 105.22151| -290.0| 65.113754|\n",
      "|8.402|8.402|   0.0|8.402|8.402|   0.0|18.0|0.14343652|  54.92698|-1540.0|       0.0|\n",
      "|8.344|8.344|   0.0|8.344|8.344|   1.0|19.0|0.13570516|  39.07378|-1540.0|       0.0|\n",
      "|8.583|8.583|   0.0|8.583|8.583|   0.0|20.0| 0.1428062|  70.22051|-1540.0|  71.13095|\n",
      "|8.471|8.471|   0.0|8.471|8.471|   1.0|21.0|0.13945703|  43.57233|-1540.0| 58.435093|\n",
      "|8.564|8.564|   0.0|8.564|8.564|   1.0|22.0|0.14101775| 54.995224|-1540.0| 74.774734|\n",
      "|8.828|8.828|   0.0|8.828|8.828|   1.0|23.0| 0.1574003|  106.4896|-1540.0|  76.11935|\n",
      "|8.929|8.929|   0.0|8.929|8.929|   0.0|24.0|0.17465937| 113.93231|-1540.0|     100.0|\n",
      "|8.902|8.902|   0.0|8.902|8.902|   1.0|25.0|0.18407641|  96.88768|-1540.0| 93.112366|\n",
      "|9.092|9.092|   0.0|9.092|9.092|   0.0|26.0| 0.2016508| 124.93189|-1540.0|  91.50957|\n",
      "|9.057|9.057|   0.0|9.057|9.057|   0.0|27.0| 0.2104398|  97.59585|-1540.0|  75.39699|\n",
      "| 8.93| 8.93|   0.0| 8.93| 8.93|   1.0|28.0| 0.2061091| 59.030437|-1540.0| 53.977264|\n",
      "|9.012|9.012|   0.0|9.012|9.012|   1.0|29.0| 0.2057468|  72.02796|-1540.0| 33.606537|\n",
      "|8.986|8.986|   0.0|8.986|8.986|   0.0|31.0|0.20133945|  45.81469|-1540.0|  59.39592|\n",
      "|8.773|8.773|   0.0|8.773|8.773|   1.0|32.0|0.17788865|-14.703465|-1540.0|  22.14454|\n",
      "|8.816|8.816|   0.0|8.816|8.816|   1.0|33.0|0.16044436|-14.760238|-1540.0|11.4058695|\n",
      "|9.042|9.042|   0.0|9.042|9.042|   0.0|34.0|0.16065717| 52.015152|-1540.0| 55.809097|\n",
      "+-----+-----+------+-----+-----+------+----+----------+----------+-------+----------+\n",
      "only showing top 20 rows\n",
      "\n"
     ]
    }
   ],
   "source": [
    "if CCI_i:\n",
    "    converted_df = converted_df.filter(converted_df.CCI != \"NaN\")\n",
    "    \n",
    "if OBV_i:\n",
    "    converted_df = converted_df.filter(converted_df.OBV != \"NaN\")\n",
    "\n",
    "converted_df = converted_df.filter(converted_df.Profit != \"NaN\")\n",
    "\n",
    "converted_df.filter(converted_df.Profit == \"NaN\").show()\n",
    "\n",
    "converted_df = converted_df.sort(converted_df.id.asc())\n",
    "\n",
    "converted_df.show()\n",
    "\n",
    "# Manual split for training and validating data\n",
    "if ManualSplit:\n",
    "    dfp = converted_df.toPandas()\n",
    "\n",
    "    dfp = np.array_split(dfp, 10)\n",
    "\n",
    "    p0 = spark.createDataFrame(data=dfp[0])\n",
    "    p1 = spark.createDataFrame(data=dfp[1])\n",
    "    p2 = spark.createDataFrame(data=dfp[2])\n",
    "    p3 = spark.createDataFrame(data=dfp[3])\n",
    "    p4 = spark.createDataFrame(data=dfp[4])\n",
    "    p5 = spark.createDataFrame(data=dfp[5])\n",
    "    p6 = spark.createDataFrame(data=dfp[6])\n",
    "    p7 = spark.createDataFrame(data=dfp[7])\n",
    "    p8 = spark.createDataFrame(data=dfp[8])\n",
    "    p9 = spark.createDataFrame(data=dfp[9])\n",
    "\n",
    "    p_final = p0.union(p1).union(p2).union(p3).union(p4).union(p5).union(\n",
    "        p6).union(p7).union(p8)\n",
    "    train = p_final\n",
    "    test = p9\n",
    "    #     test = p9.head(10)\n",
    "    #     test = spark.createDataFrame(test)\n",
    "else:\n",
    "    train, test = converted_df.randomSplit([0.9, 0.1],seed=RANDOM_SEED)\n",
    "\n",
    "print(\"We have %d training examples and %d test examples.\" % (train.count(),\n",
    "                                                              test.count()))\n",
    "test = test.select(\n",
    "        [col(c).cast('float') for c in test.columns])\n",
    "\n",
    "train = train.select(\n",
    "        [col(c).cast('float') for c in train.columns])\n",
    "\n",
    "test = test.sort(test.id.asc())\n",
    "\n",
    "train = train.sort(train.id.asc())\n",
    "\n",
    "train.show()\n"
   ]
  },
  {
   "cell_type": "code",
   "execution_count": 53,
   "metadata": {
    "hideCode": false,
    "hidePrompt": false
   },
   "outputs": [
    {
     "name": "stdout",
     "output_type": "stream",
     "text": [
      "['Open', 'High', 'Volume', 'Low', 'Close', 'MACD', 'CCI', 'OBV', 'RSI']\n"
     ]
    }
   ],
   "source": [
    "# Index labels, adding metadata to the label column.\n",
    "# Fit on whole dataset to include all labels in index.\n",
    "from pyspark.ml import Pipeline\n",
    "from pyspark.ml.regression import DecisionTreeRegressor\n",
    "from pyspark.ml.feature import StringIndexer, VectorIndexer\n",
    "from pyspark.ml.evaluation import RegressionEvaluator\n",
    "from pyspark.ml.feature import VectorAssembler, VectorIndexer\n",
    "\n",
    "featuresCols = converted_df.columns\n",
    "featuresCols.remove('Profit')\n",
    "featuresCols.remove('id')\n",
    "\n",
    "print(featuresCols)\n",
    "\n",
    "# Vector Assembler\n",
    "# This concatenates all feature columns into a single feature vector in a new column \"rawFeatures\".\n",
    "# Used for assembling features into a vector.\n",
    "# We will pass all the columns that we are going to use for the prediction to the VectorAssembler and\n",
    "# it will create a new vector column.\n",
    "vectorAssembler_rt = VectorAssembler(\n",
    "    inputCols=featuresCols, outputCol=\"rawFeatures\")\n",
    "\n",
    "# VectorIndexer:\n",
    "# is used to index categorical predictors in a featuresCol column.\n",
    "# Remember that featuresCol is a single column consisting of vectors (refer to featuresCol and labelCol).\n",
    "# Each row is a vector which contains values from each predictors.\n",
    "\n",
    "featureIndexer_rt = VectorIndexer(\n",
    "    inputCol=\"rawFeatures\",\n",
    "    outputCol=\"features\",\n",
    "    maxCategories=len(featuresCols))"
   ]
  },
  {
   "cell_type": "code",
   "execution_count": 54,
   "metadata": {
    "hideCode": false,
    "hidePrompt": false
   },
   "outputs": [],
   "source": [
    "# Algorithm\n",
    "from pyspark.ml.classification import RandomForestClassifier\n",
    "\n",
    "rt = RandomForestClassifier(labelCol='Profit', featuresCol=\"features\", numTrees=25, minInfoGain=0.01)\n",
    "max_Depth_Range = list(range(5, 12))\n",
    "min_InstancesPerNode = list(range(1, 5))\n",
    "\n",
    "paramGrid_rt = ParamGridBuilder() \\\n",
    "        .addGrid(rt.maxDepth, max_Depth_Range) \\\n",
    "        .addGrid(rt.maxMemoryInMB, [1500] ).build()\n",
    "\n",
    "# We define an evaluation metric. This tells CrossValidator how well we are doing by comparing the true\n",
    "# labels with predictions.\n",
    "\n",
    "evaluator_rt = BinaryClassificationEvaluator(\n",
    "    labelCol=rt.getLabelCol(),\n",
    "    metricName='areaUnderROC',\n",
    "    rawPredictionCol=rt.getRawPredictionCol())\n",
    "\n",
    "evaluator_rt_PR = BinaryClassificationEvaluator(\n",
    "    labelCol=rt.getLabelCol(),\n",
    "    metricName='areaUnderPR',\n",
    "    rawPredictionCol=rt.getRawPredictionCol())\n",
    "\n",
    "# Declare the CrossValidator, which runs model tuning for us.\n",
    "cv_rt = CrossValidator(\n",
    "    estimator=rt,\n",
    "    evaluator=evaluator_rt,\n",
    "    estimatorParamMaps=paramGrid_rt,\n",
    "    numFolds=5)"
   ]
  },
  {
   "cell_type": "code",
   "execution_count": 55,
   "metadata": {
    "hideCode": false,
    "hidePrompt": false
   },
   "outputs": [],
   "source": [
    "from pyspark.ml.classification import RandomForestClassificationModel\n",
    "\n",
    "RandomForestClassificationModel.getMaxDepth = (\n",
    "    lambda self: self._java_obj.getMaxDepth())\n",
    "\n",
    "RandomForestClassificationModel.getMinInstancesPerNode = (\n",
    "    lambda self: self._java_obj.getMinInstancesPerNode())"
   ]
  },
  {
   "cell_type": "code",
   "execution_count": null,
   "metadata": {
    "hideCode": false,
    "hidePrompt": false
   },
   "outputs": [],
   "source": [
    "# if DEBUG:\n",
    "#     train.repartition(1).write.csv(\"PreProcessedSets/TrainSet_\" + str(time.mktime(datetime.datetime.today().timetuple())) + \"_.csv\", header = 'True')\n",
    "#     test.repartition(1).write.csv(\"PreProcessedSets/TestSet_\" + str(time.mktime(datetime.datetime.today().timetuple())) + \"_.csv\", header = 'True')"
   ]
  },
  {
   "cell_type": "code",
   "execution_count": null,
   "metadata": {
    "hideCode": false,
    "hidePrompt": false
   },
   "outputs": [],
   "source": [
    "# Creating Final pipeline object\n",
    "pipeline_rt = Pipeline(stages=[vectorAssembler_rt, featureIndexer_rt, cv_rt])\n",
    "\n",
    "# FITTING!\n",
    "pipelineModel_rt = pipeline_rt.fit(train)\n",
    "\n",
    "# Getting the Best Model\n",
    "best_classifier = pipelineModel_rt.stages[-1].bestModel"
   ]
  },
  {
   "cell_type": "code",
   "execution_count": null,
   "metadata": {
    "hideCode": false,
    "hidePrompt": false
   },
   "outputs": [],
   "source": [
    "# Feature importance\n",
    "print('Features importances' + str(best_classifier.featureImportances))\n",
    "\n",
    "# Max depth\n",
    "print(\"Maximal depth is \" + str(best_classifier.getMaxDepth()))\n",
    "max_depth = best_classifier.getMaxDepth()\n",
    "\n",
    "# Best number of Trees\n",
    "print(\"Best number of trees is \" + str(best_classifier.getNumTrees))\n",
    "\n",
    "# Min instances\n",
    "print(\"Minimal instances per node is \" + str(best_classifier.getMinInstancesPerNode()))\n",
    "min_instancesPerNode = best_classifier.getMinInstancesPerNode()\n",
    "\n",
    "# Making Predictions!\n",
    "predictions_rt = pipelineModel_rt.transform(test)\n",
    "\n",
    "# Calculating metrics\n",
    "AreaUnderROC = evaluator_rt.evaluate(predictions_rt)\n",
    "print(\"AreaUnderROC on our test set: %g\" % AreaUnderROC)\n",
    "\n",
    "# Calculating metrics\n",
    "AreaUnderPR = evaluator_rt_PR.evaluate(predictions_rt)\n",
    "print(\"AreaUnderPR on our test set: %g\" % AreaUnderPR)\n",
    "\n",
    "#evaluate results\n",
    "testCount = predictions_rt.count()\n",
    "\n",
    "FP = predictions_rt.where(\"prediction = 0 AND Profit=1\").count() #FN\n",
    "FN = predictions_rt.where(\"prediction = 1 AND Profit=0\").count() #TN\n",
    "TP = predictions_rt.where(\"prediction = 1 AND Profit=1\").count() #TP\n",
    "TN = predictions_rt.where(\"prediction = 0 AND Profit=0\").count() #TN\n",
    "\n",
    "print(\"Test count | FN | TN | TP | TN\")\n",
    "print(str(testCount)+\" | \"+str(FP)+\" | \"+str(FN)+\" | \"+str(TP)+\" | \"+str(TN)) \n",
    "\n",
    "# predictions_rt.show()"
   ]
  },
  {
   "cell_type": "code",
   "execution_count": null,
   "metadata": {},
   "outputs": [],
   "source": [
    "# final_model = pipelineModel_rt\n",
    "from random import *\n",
    "\n",
    "for i in range(10):\n",
    "    new_train, new_test = converted_df.randomSplit([0.9, 0.1], seed=i+1)\n",
    "    new_test = new_test.sort(new_test.id.asc())\n",
    "    \n",
    "    predictions = pipelineModel_rt.transform(new_test)\n",
    "    \n",
    "    # Calculating metrics\n",
    "    AreaUnderROC = evaluator_rt.evaluate(predictions)\n",
    "    print(\"AreaUnderROC on our test set: %g\" % AreaUnderROC)\n",
    "\n",
    "    # Calculating metrics\n",
    "    AreaUnderPR = evaluator_rt_PR.evaluate(predictions)\n",
    "    print(\"AreaUnderPR on our test set: %g\" % AreaUnderPR)\n",
    "\n",
    "    #evaluate results\n",
    "    testCount = predictions_rt.count()\n",
    "\n",
    "    FP = predictions_rt.where(\"prediction = 0 AND Profit=1\").count() #FN\n",
    "    FN = predictions_rt.where(\"prediction = 1 AND Profit=0\").count() #TN\n",
    "    TP = predictions_rt.where(\"prediction = 1 AND Profit=1\").count() #TP\n",
    "    TN = predictions_rt.where(\"prediction = 0 AND Profit=0\").count() #TN\n",
    "\n",
    "    print(\"Test count | FN | TN | TP | TN\")\n",
    "    print(str(testCount)+\" | \"+str(FP)+\" | \"+str(FN)+\" | \"+str(TP)+\" | \"+str(TN))\n",
    "    \n",
    "    print(\"####################################################\\n\\n\")\n",
    "    \n",
    "    \n",
    "    \n",
    "    \n",
    "    \n",
    "    "
   ]
  },
  {
   "cell_type": "code",
   "execution_count": null,
   "metadata": {
    "hideCode": false,
    "hidePrompt": false
   },
   "outputs": [],
   "source": [
    "test = predictions_rt.toPandas()\n",
    "csv_buffer = StringIO()\n",
    "test.to_csv(csv_buffer)\n",
    "\n",
    "s3_resource = boto3.resource('s3')\n",
    "\n",
    "s3_resource.Object('logs102', 'RT_Final.csv').put(Body=csv_buffer.getvalue())\n",
    "\n",
    "if DEBUG != True:\n",
    "    df_to_plot_rt = predictions_rt.select('prediction', 'Profit')\n",
    "    print(df_to_plot_rt)\n",
    "    df_to_plot_rt = df_to_plot_rt.toPandas()\n",
    "    plt_dt.figure(figsize=(14, 14))\n",
    "    plt_dt.plot(df_to_plot_rt)\n",
    "    plt_dt.legend(df_to_plot_rt.columns)\n",
    "    plt_dt.show()"
   ]
  },
  {
   "cell_type": "code",
   "execution_count": null,
   "metadata": {},
   "outputs": [],
   "source": []
  }
 ],
 "metadata": {
  "celltoolbar": "Hide code",
  "hide_code_all_hidden": false,
  "kernelspec": {
   "display_name": "Python 3",
   "language": "python",
   "name": "python3"
  },
  "language_info": {
   "codemirror_mode": {
    "name": "ipython",
    "version": 3
   },
   "file_extension": ".py",
   "mimetype": "text/x-python",
   "name": "python",
   "nbconvert_exporter": "python",
   "pygments_lexer": "ipython3",
   "version": "3.6.3"
  }
 },
 "nbformat": 4,
 "nbformat_minor": 2
}
